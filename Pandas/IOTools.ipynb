{
 "cells": [
  {
   "cell_type": "markdown",
   "metadata": {},
   "source": [
    "File formats that pandas can handle:\n",
    "\n",
    "* csv\n",
    "* excel\n",
    "* html\n",
    "* sql\n",
    "* json\n",
    "* LaTex\n",
    "* xml\n",
    "* hdf5\n",
    "* pickle\n",
    "* stata\n",
    "* sas\n",
    "* SPSS\n",
    "\n",
    "Function for IO operations:\n",
    "```python\n",
    "read_html() # read html tables into a list of DataFrame objects\n",
    "read_clipboard() # read text from clipboard and pass to read_table\n",
    "read_csv() # read delimited file into DataFrame\n",
    "read_excel() # read Excel file into DataFrame\n",
    "read_hdf() # read HDF5 file into DataFrame\n",
    "``` "
   ]
  }
 ],
 "metadata": {
  "language_info": {
   "name": "python"
  }
 },
 "nbformat": 4,
 "nbformat_minor": 2
}
