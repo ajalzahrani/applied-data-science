{
 "cells": [
  {
   "cell_type": "markdown",
   "metadata": {},
   "source": [
    "Import package linalg from SciPy library and use the sovle method to sovle the provided linear equation to find the values of x and y."
   ]
  },
  {
   "cell_type": "code",
   "execution_count": 2,
   "metadata": {},
   "outputs": [],
   "source": [
    "import numpy as np\n",
    "from scipy import linalg\n",
    "\n",
    "# Test has 30 questions and worth 150 mark\n",
    "# True and false questions woth 4 marks each multiple choice questions worth 9 points each.\n",
    "\n",
    "# Let x is the number of true / false questions\n",
    "# let y is the number of multiple choice questions\n",
    "\n",
    "# (x + y = 30)\n",
    "# (4x + 9y = 150)\n",
    "testQuestionVarabiles = np.array([[1, 1], [4, 9]])\n",
    "testQuestionValue = np.array([30, 150])"
   ]
  },
  {
   "cell_type": "code",
   "execution_count": 3,
   "metadata": {},
   "outputs": [
    {
     "data": {
      "text/plain": [
       "array([24.,  6.])"
      ]
     },
     "execution_count": 3,
     "metadata": {},
     "output_type": "execute_result"
    }
   ],
   "source": [
    "# Use linalg function of SciPy\n",
    "\n",
    "# Use solve method to solve the linear equation and find value for x and y\n",
    "linalg.solve(testQuestionVarabiles, testQuestionValue)"
   ]
  },
  {
   "cell_type": "code",
   "execution_count": null,
   "metadata": {},
   "outputs": [],
   "source": []
  }
 ],
 "metadata": {
  "kernelspec": {
   "display_name": "Python 3",
   "language": "python",
   "name": "python3"
  },
  "language_info": {
   "codemirror_mode": {
    "name": "ipython",
    "version": 3
   },
   "file_extension": ".py",
   "mimetype": "text/x-python",
   "name": "python",
   "nbconvert_exporter": "python",
   "pygments_lexer": "ipython3",
   "version": "3.10.12"
  }
 },
 "nbformat": 4,
 "nbformat_minor": 2
}
