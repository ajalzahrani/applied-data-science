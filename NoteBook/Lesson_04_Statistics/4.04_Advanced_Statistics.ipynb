{
  "cells": [
    {
      "cell_type": "markdown",
      "id": "37a16fdd",
      "metadata": {
        "id": "37a16fdd"
      },
      "source": [
        "# <b>Advanced Statistics</b>"
      ]
    },
    {
      "cell_type": "markdown",
      "id": "8efc301d",
      "metadata": {
        "id": "8efc301d"
      },
      "source": [
        "# Agenda"
      ]
    },
    {
      "cell_type": "markdown",
      "id": "037e5b81",
      "metadata": {
        "id": "037e5b81"
      },
      "source": [
        "\n",
        "In this lesson, we will cover the following concepts with the help of a business use case:\n",
        "\n",
        "* Distribution with its types\n",
        "* Skewness and Kurtosis\n",
        "* Student’s T-Distribution\n",
        "* Hypothesis Testing and Mechanism\n",
        "* Null and Alternative Hypotheses\n",
        "* Confidence Interval\n",
        "* Margin of Error\n",
        "* Confidence Levels\n",
        "* Comparing and Contrasting T-Test and Z-Test\n",
        "* Bayes’ Theorem\n",
        "* Chi-square Distribution\n",
        "* Analysis of Variance or ANOVA\n",
        "* Types of ANOVA\n",
        "* Partition of Variance\n",
        "* F-Distribution\n"
      ]
    },
    {
      "cell_type": "markdown",
      "id": "36f477e8",
      "metadata": {
        "id": "36f477e8"
      },
      "source": [
        "# <b> What Is Distribution? </b>"
      ]
    },
    {
      "cell_type": "markdown",
      "id": "c86a19d4",
      "metadata": {},
      "source": []
    },
    {
      "cell_type": "markdown",
      "id": "5625fbe7",
      "metadata": {
        "id": "5625fbe7"
      },
      "source": [
        "The probability distribution function is a statistical distribution function that describes all possible and likely\n",
        "values that a random variable can assume in a given range. The possible values of this distribution function are\n",
        "determined by factors like mean, standard deviation, skewness, and kurtosis.\n",
        "\n",
        "The below screenshot represents a typical probability distribution:\n"
      ]
    },
    {
      "cell_type": "markdown",
      "id": "4c1c8d1b",
      "metadata": {
        "id": "4c1c8d1b"
      },
      "source": [
        "![Distribution.png](https://s3.us-east-1.amazonaws.com/static2.simplilearn.com/lms/testpaper_images/ADSP/Advanced_Statistics/Distribution.png)"
      ]
    },
    {
      "cell_type": "markdown",
      "id": "17a6bd7d",
      "metadata": {
        "id": "17a6bd7d"
      },
      "source": [
        "# Types of Probability Distribution\n"
      ]
    },
    {
      "cell_type": "markdown",
      "id": "9817e179",
      "metadata": {
        "id": "9817e179"
      },
      "source": [
        "The probability distribution can be classified into different types:"
      ]
    },
    {
      "cell_type": "markdown",
      "id": "ed6d3dd1",
      "metadata": {
        "id": "ed6d3dd1"
      },
      "source": [
        "* Normal Distribution\n",
        "* Binomial Distribution\n",
        "* Chi-square Distribution\n",
        "* Poisson Distribution\n"
      ]
    },
    {
      "cell_type": "markdown",
      "id": "1dd00fff",
      "metadata": {
        "id": "1dd00fff"
      },
      "source": [
        "<b> Note:</b> Normal Distribution is the most commonly used distribution. It is used in almost every field like\n",
        "    finance, science, and engineering."
      ]
    },
    {
      "cell_type": "markdown",
      "id": "6858c037",
      "metadata": {
        "id": "6858c037"
      },
      "source": [
        "## Normal Distribution"
      ]
    },
    {
      "cell_type": "markdown",
      "id": "62bd417b",
      "metadata": {
        "id": "62bd417b"
      },
      "source": [
        "Normal Distribution, also known as Gaussian Distribution, is a probability distribution that is characterized\n",
        "by symmetry about the mean. That is, the frequency of the possibility of data occurring in and around the mean is\n",
        "higher than ends of the distribution. A normal distribution typically resembles a bell and is often referred to as\n",
        "a Bell Curve."
      ]
    },
    {
      "cell_type": "markdown",
      "id": "90dc326d",
      "metadata": {
        "id": "90dc326d"
      },
      "source": [
        "![Normal_Dist.png](https://s3.us-east-1.amazonaws.com/static2.simplilearn.com/lms/testpaper_images/ADSP/Advanced_Statistics/Normal_Dist.png)"
      ]
    },
    {
      "cell_type": "markdown",
      "id": "f7a1a30d",
      "metadata": {
        "id": "f7a1a30d"
      },
      "source": [
        "## Skewness and Kurtosis\n"
      ]
    },
    {
      "cell_type": "markdown",
      "id": "0017b29b",
      "metadata": {
        "id": "0017b29b"
      },
      "source": [
        "In real-life data is never distributed normally, even though such a distribution is called a normal distribution.\n",
        "Skewness and kurtosis are the two main parameters that affect the bell shape of the curve.\n",
        "If the bell curve shifts towards its left or towards its right, it is called ‘skewed’. Skewness is represented by a\n",
        "numerical value that is either negative or positive.\n",
        "\n",
        "If the distribution has a positive skewness, then the curve will appear shifted towards the left of its bell peak,\n",
        "as shown below:\n"
      ]
    },
    {
      "cell_type": "markdown",
      "id": "c57f5a06",
      "metadata": {
        "id": "c57f5a06"
      },
      "source": [
        "![Positiveskew.png](https://s3.us-east-1.amazonaws.com/static2.simplilearn.com/lms/testpaper_images/ADSP/Advanced_Statistics/Positiveskew.png)"
      ]
    },
    {
      "cell_type": "markdown",
      "id": "bbf07491",
      "metadata": {
        "id": "bbf07491"
      },
      "source": [
        "On the other hand, if the distribution has a negative skewness, then the curve will appear shifted towards the right\n",
        "of the bell peak, as shown below:"
      ]
    },
    {
      "cell_type": "markdown",
      "id": "a85d0ef6",
      "metadata": {
        "id": "a85d0ef6"
      },
      "source": [
        "![Negativeskew.png](https://s3.us-east-1.amazonaws.com/static2.simplilearn.com/lms/testpaper_images/ADSP/Advanced_Statistics/Negativeskew.png)"
      ]
    },
    {
      "cell_type": "markdown",
      "id": "102131ed",
      "metadata": {
        "id": "102131ed"
      },
      "source": [
        "A normal distribution is superimposed with a positive Kurtosis and a distribution with a negative Kurtosis.\n",
        "A distribution with a positive Kurtosis will be narrower and taller around the mean with a flat tail, while a\n",
        "distribution with a negative Kurtosis will be flatter and shorter around the mean, but with a thicker distribution\n",
        "around the tails."
      ]
    },
    {
      "cell_type": "markdown",
      "id": "39293ff5",
      "metadata": {
        "id": "39293ff5"
      },
      "source": [
        "![kurtosis.png](https://s3.us-east-1.amazonaws.com/static2.simplilearn.com/lms/testpaper_images/ADSP/Advanced_Statistics/kurtosis.png)"
      ]
    },
    {
      "cell_type": "markdown",
      "id": "36b64472",
      "metadata": {
        "id": "36b64472"
      },
      "source": [
        "# What Is Student’s T-Distribution?"
      ]
    },
    {
      "cell_type": "markdown",
      "id": "c1d061a9",
      "metadata": {
        "id": "c1d061a9"
      },
      "source": [
        "A Student’s T-Distribution, also known as T-Distribution, is similar to a normal distribution like a bell curve but\n",
        "differs in that it has a thicker tail. Technically, Student’s T-Distributions have a greater chance for extreme values\n",
        "than normal distributions, which is indicated by their flatter tails, as shown below:"
      ]
    },
    {
      "cell_type": "markdown",
      "id": "858d70df",
      "metadata": {
        "id": "858d70df"
      },
      "source": [
        "![StudentT.png](https://s3.us-east-1.amazonaws.com/static2.simplilearn.com/lms/testpaper_images/ADSP/Advanced_Statistics/StudentT.png)"
      ]
    },
    {
      "cell_type": "markdown",
      "id": "7042b730",
      "metadata": {
        "id": "7042b730"
      },
      "source": [
        "\n",
        "The tail in a normal distribution qualifies its classification as a Student’s T-Distribution. Technically, a Student’s\n",
        "T-Distribution is characterized by a parameter called degrees of freedom (or DOF), a mean of 0, and a standard deviation\n",
        "of 1.\n"
      ]
    },
    {
      "cell_type": "markdown",
      "id": "1de9882e",
      "metadata": {
        "id": "1de9882e"
      },
      "source": [
        "# Hypothesis Testing and Mechanism"
      ]
    },
    {
      "cell_type": "markdown",
      "id": "c1b75f09",
      "metadata": {
        "id": "c1b75f09"
      },
      "source": [
        "## Introduction"
      ]
    },
    {
      "cell_type": "markdown",
      "id": "2c4ad8b0",
      "metadata": {
        "id": "2c4ad8b0"
      },
      "source": [
        "A hypothesis is a statement that introduces both a question and proposes an answer. It involves careful experimentation,\n",
        "correct sampling, data collection, analysis, and repetition for reproducibility under various conditions.\n",
        "\n"
      ]
    },
    {
      "cell_type": "markdown",
      "id": "1b92f1a1",
      "metadata": {
        "id": "1b92f1a1"
      },
      "source": [
        "![involves.PNG](https://s3.us-east-1.amazonaws.com/static2.simplilearn.com/lms/testpaper_images/ADSP/Advanced_Statistics/involves.PNG)"
      ]
    },
    {
      "cell_type": "markdown",
      "id": "34702c48",
      "metadata": {
        "id": "34702c48"
      },
      "source": [
        "## Hypothesis Components"
      ]
    },
    {
      "cell_type": "markdown",
      "id": "a7807358",
      "metadata": {
        "id": "a7807358"
      },
      "source": [
        "A hypothesis has two components:\n",
        "    \n",
        "![Linear1hypothes.png](https://s3.us-east-1.amazonaws.com/static2.simplilearn.com/lms/testpaper_images/ADSP/Advanced_Statistics/Linear1hypothes.png)\n",
        "\n",
        "\n",
        "\n"
      ]
    },
    {
      "cell_type": "markdown",
      "id": "bc363dcc",
      "metadata": {
        "id": "bc363dcc"
      },
      "source": [
        "# The independent variable affects or causes an action on the dependent variable."
      ]
    },
    {
      "cell_type": "markdown",
      "id": "1b1a77c7",
      "metadata": {
        "id": "1b1a77c7"
      },
      "source": [
        "### Example:"
      ]
    },
    {
      "cell_type": "markdown",
      "id": "9830f692",
      "metadata": {
        "id": "9830f692"
      },
      "source": [
        "‘If you don’t clean tank water once every third day, it is possible that the fish won’t survive for more than 3 months.’\n",
        "\n",
        "The phrase ‘don't clean tank water once every third day’ is the independent variable and ‘fish won’t survive for more\n",
        "than 3 months’ is the dependent variable.\n",
        "\n",
        "Some of the components included in the proposition and expression of hypotheses are:\n",
        "\n"
      ]
    },
    {
      "cell_type": "markdown",
      "id": "69eb262f",
      "metadata": {
        "id": "69eb262f"
      },
      "source": [
        "![next.PNG](https://s3.us-east-1.amazonaws.com/static2.simplilearn.com/lms/testpaper_images/ADSP/Advanced_Statistics/next.PNG)"
      ]
    },
    {
      "cell_type": "markdown",
      "id": "93625c0e",
      "metadata": {
        "id": "93625c0e"
      },
      "source": [
        "\n",
        "    \n",
        "\n",
        "\n",
        "\n",
        "A good hypothesis must:\n",
        "\n",
        "![3.PNG](https://s3.us-east-1.amazonaws.com/static2.simplilearn.com/lms/testpaper_images/ADSP/Advanced_Statistics/3.PNG)\n",
        "\n",
        "\n",
        "\n",
        "\n",
        "\n",
        "\n",
        "\n",
        "\n",
        "\n"
      ]
    },
    {
      "cell_type": "markdown",
      "id": "fbe0b7b3",
      "metadata": {
        "id": "fbe0b7b3"
      },
      "source": [
        "# Hypothesis Testing"
      ]
    },
    {
      "cell_type": "markdown",
      "id": "9b3ffc20",
      "metadata": {
        "id": "9b3ffc20"
      },
      "source": [
        "\n",
        "Hypothesis testing is a verification of the plausibility of a hypothesis using ‘sample data’. A sample data may come\n",
        "from a larger population of data, or even from data-generating experimentation.\n",
        "\n",
        "A statistical analyst tests a hypothesis by measuring a random set of sample data from the population being analyzed.\n",
        "\n",
        "A hypothesis test always involves four steps. These are:\n",
        "\n",
        "\n",
        "\n",
        "<b> 1. State the hypotheses:</b>A statement of the correctness of the two hypotheses (null or alternative)\n",
        "\n",
        "<b> 2. Set the criteria for a decision:</b> A plan that outlines how to evaluate data\n",
        "\n",
        "\n",
        "<b> 3. Compute sample statistics:</b> Execution of the plan to physically carry out the analysis\n",
        "\n",
        "<b> 4. Make a decision:</b> Analysis of the result that rejects the null hypothesis or states that the null hypothesis\n",
        "    is plausible\n"
      ]
    },
    {
      "cell_type": "markdown",
      "id": "1ae1eb3d",
      "metadata": {
        "id": "1ae1eb3d"
      },
      "source": [
        "## Hypothesis Testing Outcomes: Type I and Type II Errors\n"
      ]
    },
    {
      "cell_type": "markdown",
      "id": "084eb67d",
      "metadata": {
        "id": "084eb67d"
      },
      "source": [
        "There are four decisions and outcomes of hypothesis testing:\n",
        "\n",
        "![type12.PNG](https://s3.us-east-1.amazonaws.com/static2.simplilearn.com/lms/testpaper_images/ADSP/Advanced_Statistics/type12.PNG)\n",
        "\n",
        "\n",
        "1. H0 (Null Hypothesis) is TRUE and it is rejected- **this is a Type I error**\n",
        "\n",
        "2. H0 (Null Hypothesis) is TRUE and it is accepted- **correct decision**\n",
        "\n",
        "3. H0 (Null Hypothesis) is FALSE and it is rejected- **correct decision**\n",
        "\n",
        "4. H0 (Null Hypothesis) is FALSE and it is accepted- **this is a Type II error**\n",
        "\n",
        "\n",
        "The probability of the occurrence of type I errors is denoted by Alpha and the probability of type II errors is denoted\n",
        "by Beta.\n",
        "\n",
        "It is indeed not possible to make both α and β zero at the same time when inferences are based on samples. However, reducing one typically increases the other, given a fixed sample size. They're usually not equal to one, and in fact, we often want both to be as small as possible.\n",
        "\n",
        "Common choices for α include 0.05 or 0.01. To achieve a low β (and thus high power), researchers typically use large sample sizes, careful experimental design, and sometimes more sophisticated statistical techniques.\n",
        "\n",
        "\n"
      ]
    },
    {
      "cell_type": "markdown",
      "id": "d9b6422f",
      "metadata": {
        "id": "d9b6422f"
      },
      "source": [
        "The selected value of Alpha is known as the level of significance.\n",
        "![valueofalpha.PNG](https://s3.us-east-1.amazonaws.com/static2.simplilearn.com/lms/testpaper_images/ADSP/Advanced_Statistics/valueofalpha.PNG)\n",
        "\n"
      ]
    },
    {
      "cell_type": "markdown",
      "id": "a0f5e0d7",
      "metadata": {
        "id": "a0f5e0d7"
      },
      "source": [
        "For example, when Alpha is equal to 0.05, the level of significance is five percent.\n",
        "\n",
        "That was a simple and effective way to estimate the outcomes of hypothesis testing."
      ]
    },
    {
      "cell_type": "markdown",
      "id": "a9452309",
      "metadata": {
        "id": "a9452309"
      },
      "source": [
        "# Null and Alternative Hypotheses"
      ]
    },
    {
      "cell_type": "markdown",
      "id": "8507dcfd",
      "metadata": {
        "id": "8507dcfd"
      },
      "source": [
        "There are two types of hypotheses:\n",
        "\n",
        "1. Null hypothesis (H0)\n",
        "\n",
        "2. Alternative hypothesis (H1)\n",
        "\n"
      ]
    },
    {
      "cell_type": "markdown",
      "id": "ba9b4357",
      "metadata": {
        "id": "ba9b4357"
      },
      "source": [
        "### Example 1:"
      ]
    },
    {
      "cell_type": "markdown",
      "id": "0cd8979e",
      "metadata": {
        "id": "0cd8979e"
      },
      "source": [
        "<b> Sales Promotion Drive</b>\n",
        "\n",
        "According to the hypothesis, the sales promotion drive will increase the average monthly sales (µ) by 500 units.\n",
        "\n",
        "According to the null hypothesis (H0), the sales promotion drive has an insignificant impact on the average monthly sales.\n",
        "The historical average (µ0 ) holds µ = µ0\n",
        "\n",
        "![nullhypotheses.PNG](https://s3.us-east-1.amazonaws.com/static2.simplilearn.com/lms/testpaper_images/ADSP/Advanced_Statistics/LinearRegression/nullhypotheses.PNG)\n",
        "\n",
        "According to the alternative hypothesis (H1), the sales promotion drive has a significant impact on the average monthly\n",
        "sales. Thus, µ > µ0\n"
      ]
    },
    {
      "cell_type": "markdown",
      "id": "4f15d049",
      "metadata": {
        "id": "4f15d049"
      },
      "source": [
        "![alternate.PNG](https://s3.us-east-1.amazonaws.com/static2.simplilearn.com/lms/testpaper_images/ADSP/Advanced_Statistics/LinearRegression/alternate.PNG)"
      ]
    },
    {
      "cell_type": "markdown",
      "id": "16727386",
      "metadata": {
        "id": "16727386"
      },
      "source": [
        "### Example 2:"
      ]
    },
    {
      "cell_type": "markdown",
      "id": "3554b761",
      "metadata": {
        "id": "3554b761"
      },
      "source": [
        "<b>Hourly Output of Two Machines</b>\n",
        "\n",
        "The null hypothesis is that the average hourly output of machine A (µ1) differs insignificantly from machine B (µ2).\n",
        "So, µ1 = µ2\n",
        "\n",
        "![example2_part1.PNG](https://s3.us-east-1.amazonaws.com/static2.simplilearn.com/lms/testpaper_images/ADSP/Advanced_Statistics/LinearRegression/example2_part1.PNG)\n",
        "\n",
        "The alternative hypothesis is that the average hourly output of machine A (µ1) is significantly larger than that of\n",
        "machine B (µ2). So, µ1 > µ2\n",
        "\n",
        "\n"
      ]
    },
    {
      "cell_type": "markdown",
      "id": "f8dfc4ac",
      "metadata": {
        "id": "f8dfc4ac"
      },
      "source": [
        "![example2_part2.PNG](https://s3.us-east-1.amazonaws.com/static2.simplilearn.com/lms/testpaper_images/ADSP/Advanced_Statistics/LinearRegression/example2_alternate.PNG)\n"
      ]
    },
    {
      "cell_type": "markdown",
      "id": "d7ceaf4b",
      "metadata": {
        "id": "d7ceaf4b"
      },
      "source": [
        "Generally, a null hypothesis is the negation of the assertion, while an alternative hypothesis is an assertion itself."
      ]
    },
    {
      "cell_type": "markdown",
      "id": "05106410",
      "metadata": {
        "id": "05106410"
      },
      "source": [
        "# Steps Involved in Hypothesis Testing\n",
        "\n"
      ]
    },
    {
      "cell_type": "markdown",
      "id": "a7f479a1",
      "metadata": {
        "id": "a7f479a1"
      },
      "source": [
        "1. Create a null hypothesis and the alternate hypothesis\n",
        "\n",
        "2. Decide a level of significance i.e. alpha = 5% or 1%\n",
        "\n",
        "3. Choose the type of test you want to perform as per the sample data (z test, t test, chi squared etc.)\n",
        "\n",
        "4. Calculate the test statistics (z-score, t-score etc.) using the respective formula of test chosen\n",
        "\n",
        "5. Obtain the critical value in the sampling distribution to construct the rejection region of size alpha using z-table,\n",
        "   t-table, chi table etc.\n",
        "\n",
        "6. Compare the test statistics with the critical value and locate the position of the calculated test statistics\n",
        "   i.e. is it in rejection region or non-rejection region.\n",
        "\n",
        "7. *a.* If the critical value lies in the rejection region, we will reject the hypothesis i.e. sample data provides\n",
        "   sufficient evidence against the null hypothesis and there is significant difference between hypothesized value\n",
        "   and observed value of the parameter.\n",
        "\n",
        "    *b.* If the critical value lies in the non- rejection region, we will not reject the hypothesis i.e. sample data\n",
        "    does not provide sufficient evidence against the null hypothesis and the difference between hypothesized value and\n",
        "    observed value of the parameter is due to fluctuation of the sample.\n"
      ]
    },
    {
      "cell_type": "markdown",
      "id": "0a200f37",
      "metadata": {
        "id": "0a200f37"
      },
      "source": [
        "# Confidence Interval"
      ]
    },
    {
      "cell_type": "markdown",
      "id": "607dfaff",
      "metadata": {
        "id": "607dfaff"
      },
      "source": [
        "A Confidence Interval (CI) generally indicates the amount of uncertainty in any distribution. It is usually expressed\n",
        "as a number or a set or pair of numbers, and it can even be computed for a given distribution statistic.\n",
        "\n",
        "CI is the probability that a particular population parameter will fall between a set of values for a certain period.\n",
        "\n",
        "CIs can take any number of probability limits, the most common being 95%, and in some cases even 99%. When the behavior\n",
        "of a population is not known, then it is required to deduce the confidence intervals based on the sample data, using\n",
        "statistical methods like a T-Test.\n",
        "\n",
        "A confidence interval is essentially a range of values that bind the statistic's mean value, which could in turn contain\n",
        "an unknown population parameter.\n",
        "\n",
        "<b>A typical confidence interval in a statistical distribution is as shown below: </b>\n"
      ]
    },
    {
      "cell_type": "markdown",
      "id": "64ea5419",
      "metadata": {
        "id": "64ea5419"
      },
      "source": [
        "![CI.png](https://s3.us-east-1.amazonaws.com/static2.simplilearn.com/lms/testpaper_images/ADSP/Advanced_Statistics/CI.png)"
      ]
    },
    {
      "cell_type": "markdown",
      "id": "6a6c1a28",
      "metadata": {
        "id": "6a6c1a28"
      },
      "source": [
        "As we can see, CIs are essentially numbers, consisting of an upper limit and a lower limit. On either side of\n",
        "the distribution, these are marked."
      ]
    },
    {
      "cell_type": "markdown",
      "id": "2680fb2e",
      "metadata": {
        "id": "2680fb2e"
      },
      "source": [
        "### For example:"
      ]
    },
    {
      "cell_type": "markdown",
      "id": "245dd8ad",
      "metadata": {
        "id": "245dd8ad"
      },
      "source": [
        "Survey a group of car owners to see how many gallons of gas they fill in the car in a year. Next, test the statistic\n",
        "at a 95% Confidence Level and get a Confidence Interval of (200, 450). This indicates that car owners buy anywhere\n",
        "between 200 and 450 gallons of gas a year.\n",
        "\n"
      ]
    },
    {
      "cell_type": "markdown",
      "id": "b69a5aad",
      "metadata": {
        "id": "b69a5aad"
      },
      "source": [
        "# Margin of Error"
      ]
    },
    {
      "cell_type": "markdown",
      "id": "cd628d5f",
      "metadata": {
        "id": "cd628d5f"
      },
      "source": [
        "\n",
        "The Margin of Error (MoE) indicates by how many percentage points the results will differ from the real population value.\n",
        "\n",
        "<b>Consider the following statement:</b>\n",
        "\n",
        "A 95% confidence level with a 3% margin of error implies that the statistic distribution data is within 3% points\n",
        "of the real population value with 95% of the time.\n",
        "\n",
        "The MoE is thus an important part of the confidence interval, without which one can’t accept the inference from\n",
        "statistical analysis. The lower the margin of error, the better the acceptability of the population statistic.\n",
        "MoE is popularly used in pool and election surveys. A pool survey MoE must be scrutinized before accepting the\n",
        "Confidence Interval.\n"
      ]
    },
    {
      "cell_type": "markdown",
      "id": "e84a39f6",
      "metadata": {
        "id": "e84a39f6"
      },
      "source": [
        "<b>For Example:</b>"
      ]
    },
    {
      "cell_type": "markdown",
      "id": "7d16a0e9",
      "metadata": {
        "id": "7d16a0e9"
      },
      "source": [
        "Consider the Gallup poll survey conducted in the 2012 US Presidential elections. The survey indicated 49% voting in\n",
        "favor of Mitt Romney, and 47% in favor of Barack Obama, with 95% CI and +/- 2% MoE. However, Barack Obama polled 51%,\n",
        "while Mitt Romney got 47% in the actual election. The results were even outside the range of the Gallup poll’s\n",
        "MoE of +/-2%. This illustrates the need for statistics while taking CI, CL, and MoE into consideration."
      ]
    },
    {
      "cell_type": "markdown",
      "id": "23941b40",
      "metadata": {
        "id": "23941b40"
      },
      "source": [
        "# Confidence Levels"
      ]
    },
    {
      "cell_type": "markdown",
      "id": "d53c4e7d",
      "metadata": {
        "id": "d53c4e7d"
      },
      "source": [
        "A confidence level is the percentage of probability, or certainty, that the confidence interval would contain the\n",
        "true population parameter, when a random sample is drawn repeatedly.\n",
        "\n",
        "In statistics, confidence levels are expressed as a percentage (for example, as 99%, 95% or 80% confidence level).\n",
        "However, for the purpose of supporting or disposing of the null hypothesis, scientists, and engineers usually work with\n",
        "a level of 95% or more. On the other hand, most governmental organizations and departments use 90% as the limit for\n",
        "Confidence Level.\n",
        "\n",
        "<b>A graphical representation of a Confidence Level of 95% is shown below: </b>\n"
      ]
    },
    {
      "cell_type": "markdown",
      "id": "b1723d03",
      "metadata": {
        "id": "b1723d03"
      },
      "source": [
        "![ConfidenceLevel.png](https://s3.us-east-1.amazonaws.com/static2.simplilearn.com/lms/testpaper_images/ADSP/Advanced_Statistics/ConfidenceLevel.png)"
      ]
    },
    {
      "cell_type": "markdown",
      "id": "b2eb8fcf",
      "metadata": {
        "id": "b2eb8fcf"
      },
      "source": [
        "A confidence level of 95% means when the experiment is repeated (or the poll survey conducted repeatedly), the survey\n",
        "results will match the results from a population 95% of the time. Confidence levels for different fields are different\n",
        "and are usually adopted in consultation with domain experts. This is done to ensure that the prediction from the\n",
        "statistic is reliable."
      ]
    },
    {
      "cell_type": "markdown",
      "id": "344fb045",
      "metadata": {
        "id": "344fb045"
      },
      "source": [
        "# Comparing and Contrasting T-Test and Z-Test\n",
        "\n"
      ]
    },
    {
      "cell_type": "markdown",
      "id": "776805da",
      "metadata": {
        "id": "776805da"
      },
      "source": [
        "# T-Test"
      ]
    },
    {
      "cell_type": "markdown",
      "id": "e53684b6",
      "metadata": {
        "id": "e53684b6"
      },
      "source": [
        "\n",
        "\n",
        "A T-Test is a statistical hypothesis testing tool that is primarily utilized when the population variance is unknown and the sample size is relatively small (n < 30). There are two main types of T-Tests: one-sample and two-sample T-Tests.\n",
        "\n",
        "<b>For a one-sample T-Test </b>\n",
        "\n",
        "The one-sample T-Test is used to compare the mean of a sample with a known population mean. This test employs the standard deviation of the sample instead of the population standard deviation due to the unknown population variance. The formula for a one-sample T-Test is as follows:\n"
      ]
    },
    {
      "cell_type": "markdown",
      "id": "89b70e57",
      "metadata": {
        "id": "89b70e57"
      },
      "source": [
        "![Ttest.png](https://s3.us-east-1.amazonaws.com/static2.simplilearn.com/lms/testpaper_images/ADSP/Advanced_Statistics/Ttest.png)"
      ]
    },
    {
      "cell_type": "markdown",
      "id": "0cad6372",
      "metadata": {
        "id": "0cad6372"
      },
      "source": [
        "\n",
        "Where x̄ is the sample mean, s is the standard deviation of the sample, μ is the mean of the population and n is\n",
        "the sample size.\n",
        "\n",
        "<b>For a two-sample test:</b>\n",
        "\n",
        "The two-sample T-Test, on the other hand, is conducted to compare the means of two different samples to determine whether the differences between these two means are statistically significant. The formula for a two-sample T-Test is:"
      ]
    },
    {
      "cell_type": "markdown",
      "id": "3764ee18",
      "metadata": {
        "id": "3764ee18"
      },
      "source": [
        "![ttest2sample.png](https://s3.us-east-1.amazonaws.com/static2.simplilearn.com/lms/testpaper_images/ADSP/Advanced_Statistics/ttest2sample.png)\n",
        "\n"
      ]
    },
    {
      "cell_type": "markdown",
      "id": "e54be902",
      "metadata": {
        "id": "e54be902"
      },
      "source": [
        "# P-Value"
      ]
    },
    {
      "cell_type": "markdown",
      "id": "3369ae32",
      "metadata": {
        "id": "3369ae32"
      },
      "source": [
        "The P-value is a crucial component in statistical hypothesis testing. It is the smallest level of significance at which we can reject a null hypothesis. Since, P-value offers more information than the critical value, it is generally recommended in many statistical tests.\n",
        "\n",
        "Definition and Interpretation The P-value is essentially a measure of the probability that the observed data would be at least as extreme as the current results, given that the null hypothesis is true.\n",
        "\n",
        "Application in different types of tests the calculation and interpretation of the P-value depend on the nature of the hypothesis test. Here's how it applies in different types of tests:\n",
        "\n",
        "**Right-Tailed Test:**\n",
        "\n",
        "In a right-tailed test, the right end (larger values) of the distribution. The P-value in this case is calculated as:\n",
        "\n",
        "P-Value = P[Test statistics >= observed value of the test statistic]\n",
        "\n",
        "**Left-Tailed Test:**\n",
        "\n",
        "In a left-tailed test, the left end (smaller values) of the distribution. The P-value is then calculated as:\n",
        "\n",
        "P-Value = P[Test statistics <= observed value of the test statistic]\n",
        "\n",
        "**Two-Tailed Test:**\n",
        "\n",
        "A two-tailed test is used in differences in either direction (larger or smaller). The P-value in a two-tailed test is calculated as:\n",
        "\n",
        "P-Value = 2 * P[Test statistics >= |observed value of the test statistic|]\n",
        "\n",
        "Remember that a smaller P-value provides stronger evidence against the null hypothesis."
      ]
    },
    {
      "cell_type": "markdown",
      "id": "de230739",
      "metadata": {
        "id": "de230739"
      },
      "source": [
        "# Decision Making Using  P-Value"
      ]
    },
    {
      "cell_type": "markdown",
      "id": "2682f847",
      "metadata": {
        "id": "2682f847"
      },
      "source": [
        "The p-value is compared to the significance level(alpha) for decision making on null hypothesi"
      ]
    },
    {
      "cell_type": "markdown",
      "id": "03499e8f",
      "metadata": {
        "id": "03499e8f"
      },
      "source": [
        "1. If P-Value is greater than alpha, we do not reject the null hypothesis.\n",
        "\n",
        "\n",
        "\n",
        "2. If P-Value is smaller than alpha, we reject the null hypothesis."
      ]
    },
    {
      "cell_type": "markdown",
      "id": "bc3bbc05",
      "metadata": {
        "id": "bc3bbc05"
      },
      "source": [
        "# One-Sample T-Test: Example"
      ]
    },
    {
      "cell_type": "markdown",
      "id": "98e4f10e",
      "metadata": {
        "id": "98e4f10e"
      },
      "source": [
        "For a particular organization, the average age of the employees was claimed 30 years.\n",
        "The authorities collected a random sample of 10 employees' age data to check the claim made by the organization.\n",
        "Construct a hypothesis test to validate the hypothesis at a significance level of 0.05."
      ]
    },
    {
      "cell_type": "markdown",
      "id": "81881737",
      "metadata": {
        "id": "81881737"
      },
      "source": [
        "Ho = mean = 30\n",
        "\n",
        "Ha = mean $\\neq$ 30"
      ]
    },
    {
      "cell_type": "code",
      "execution_count": null,
      "id": "fee7c1d8",
      "metadata": {
        "id": "fee7c1d8",
        "outputId": "5e9f8f7f-7dd3-4813-da3a-283817e3d442"
      },
      "outputs": [
        {
          "name": "stdout",
          "output_type": "stream",
          "text": [
            "ages    43.75\n",
            "dtype: float64\n",
            "p-values [0.01012962]\n",
            " we are rejecting null hypothesis\n"
          ]
        }
      ],
      "source": [
        "# Import the Ages.csv dataset\n",
        "from scipy.stats import ttest_1samp\n",
        "import pandas as pd\n",
        "import numpy as np\n",
        "ages = pd.read_csv(\"Ages.csv\")\n",
        "ages_mean = np.mean(ages)\n",
        "print(ages_mean)\n",
        "tset, pval = ttest_1samp(ages, 30)\n",
        "print(\"p-values\",pval)\n",
        "if pval < 0.05:    # alpha value is 0.05 or 5%\n",
        "   print(\" we are rejecting null hypothesis\")\n",
        "else:\n",
        "  print(\"we are accepting null hypothesis\")"
      ]
    },
    {
      "cell_type": "markdown",
      "id": "7174c220",
      "metadata": {
        "id": "7174c220"
      },
      "source": [
        "# Paired Sample T-Test: Example"
      ]
    },
    {
      "cell_type": "markdown",
      "id": "d9864bbb",
      "metadata": {
        "id": "d9864bbb"
      },
      "source": [
        "For a particular hospital, it is advertised that a particular chemotherapy session does not affect the patient's health\n",
        "based on blood pressure.\n",
        "\n",
        "It is to be checked if the blood pressure before the treatment is equivalent to the BP after the treatment.\n",
        "\n",
        "Perform a statistical significance at alha=0.05 to help validate the claim."
      ]
    },
    {
      "cell_type": "markdown",
      "id": "abf601e9",
      "metadata": {
        "id": "abf601e9"
      },
      "source": [
        "$H_0$ = mean difference between two sample is 0\n",
        "\n",
        "$H_1$ = mean difference between two sample is not 0"
      ]
    },
    {
      "cell_type": "code",
      "execution_count": null,
      "id": "56cb59ed",
      "metadata": {
        "id": "56cb59ed",
        "outputId": "6845b456-fee8-4aca-bef8-215056b7efa2"
      },
      "outputs": [
        {
          "data": {
            "text/html": [
              "<div>\n",
              "<style scoped>\n",
              "    .dataframe tbody tr th:only-of-type {\n",
              "        vertical-align: middle;\n",
              "    }\n",
              "\n",
              "    .dataframe tbody tr th {\n",
              "        vertical-align: top;\n",
              "    }\n",
              "\n",
              "    .dataframe thead th {\n",
              "        text-align: right;\n",
              "    }\n",
              "</style>\n",
              "<table border=\"1\" class=\"dataframe\">\n",
              "  <thead>\n",
              "    <tr style=\"text-align: right;\">\n",
              "      <th></th>\n",
              "      <th>patient</th>\n",
              "      <th>sex</th>\n",
              "      <th>agegrp</th>\n",
              "      <th>bp_before</th>\n",
              "      <th>bp_after</th>\n",
              "    </tr>\n",
              "  </thead>\n",
              "  <tbody>\n",
              "    <tr>\n",
              "      <th>0</th>\n",
              "      <td>1</td>\n",
              "      <td>Male</td>\n",
              "      <td>30-45</td>\n",
              "      <td>143</td>\n",
              "      <td>153</td>\n",
              "    </tr>\n",
              "    <tr>\n",
              "      <th>1</th>\n",
              "      <td>2</td>\n",
              "      <td>Male</td>\n",
              "      <td>30-45</td>\n",
              "      <td>163</td>\n",
              "      <td>170</td>\n",
              "    </tr>\n",
              "    <tr>\n",
              "      <th>2</th>\n",
              "      <td>3</td>\n",
              "      <td>Male</td>\n",
              "      <td>30-45</td>\n",
              "      <td>153</td>\n",
              "      <td>168</td>\n",
              "    </tr>\n",
              "    <tr>\n",
              "      <th>3</th>\n",
              "      <td>4</td>\n",
              "      <td>Male</td>\n",
              "      <td>30-45</td>\n",
              "      <td>153</td>\n",
              "      <td>142</td>\n",
              "    </tr>\n",
              "    <tr>\n",
              "      <th>4</th>\n",
              "      <td>5</td>\n",
              "      <td>Male</td>\n",
              "      <td>30-45</td>\n",
              "      <td>146</td>\n",
              "      <td>141</td>\n",
              "    </tr>\n",
              "  </tbody>\n",
              "</table>\n",
              "</div>"
            ],
            "text/plain": [
              "   patient   sex agegrp  bp_before  bp_after\n",
              "0        1  Male  30-45        143       153\n",
              "1        2  Male  30-45        163       170\n",
              "2        3  Male  30-45        153       168\n",
              "3        4  Male  30-45        153       142\n",
              "4        5  Male  30-45        146       141"
            ]
          },
          "execution_count": 10,
          "metadata": {},
          "output_type": "execute_result"
        }
      ],
      "source": [
        "import pandas as pd\n",
        "from scipy import stats\n",
        "df = pd.read_csv(\"blood_pressure.csv\")\n",
        "df.head()"
      ]
    },
    {
      "cell_type": "code",
      "execution_count": null,
      "id": "2812b657",
      "metadata": {
        "id": "2812b657",
        "outputId": "ee80a929-17df-4c9e-8ee9-00311ebcd00d"
      },
      "outputs": [
        {
          "name": "stdout",
          "output_type": "stream",
          "text": [
            "0.0011297914644840823\n",
            "reject null hypothesis\n"
          ]
        }
      ],
      "source": [
        "df[['bp_before','bp_after']].describe()\n",
        "ttest,pval = stats.ttest_rel(df['bp_before'], df['bp_after'])\n",
        "print(pval)\n",
        "if pval<0.05:\n",
        "    print(\"reject null hypothesis\")\n",
        "else:\n",
        "    print(\"accept null hypothesis\")"
      ]
    },
    {
      "cell_type": "markdown",
      "id": "2d6a2396",
      "metadata": {
        "id": "2d6a2396"
      },
      "source": [
        "# Z-Test"
      ]
    },
    {
      "cell_type": "markdown",
      "id": "6062d395",
      "metadata": {
        "id": "6062d395"
      },
      "source": [
        "\n",
        "\n",
        "Z-Test is also a way of testing a hypothesis. They are chosen when:\n",
        "\n",
        "* The population variance is known\n",
        "\n",
        "* The population variance is unknown, but the sample size is comparatively large (n ≥ 30)\n",
        "\n",
        "\n",
        "Z-Test is either one-sample or two-sample test. One-sample Z–Test is chosen to compare a population mean with the\n",
        "sample mean. On the other hand, Two-sample Z-Test is chosen to compare the mean of two different samples.\n",
        "\n",
        "<b>The one-sample Z-score is computed using the formula:</b>"
      ]
    },
    {
      "cell_type": "markdown",
      "id": "17de35e2",
      "metadata": {
        "id": "17de35e2"
      },
      "source": [
        "![zonesample.png](https://s3.us-east-1.amazonaws.com/static2.simplilearn.com/lms/testpaper_images/ADSP/Advanced_Statistics/zonesample.png)"
      ]
    },
    {
      "cell_type": "markdown",
      "id": "25bcf40f",
      "metadata": {
        "id": "25bcf40f"
      },
      "source": [
        "Where x̄ is the sample mean, σ is the standard deviation of the population, μ is the mean of the population and n is\n",
        "the sample size.\n",
        "\n",
        "<b>Similarly, the two-sample Z-Test is computed using the following formula:</b>\n"
      ]
    },
    {
      "cell_type": "markdown",
      "id": "e50565ff",
      "metadata": {
        "id": "e50565ff"
      },
      "source": [
        "![ztwosampe.png](https://s3.us-east-1.amazonaws.com/static2.simplilearn.com/lms/testpaper_images/ADSP/Advanced_Statistics/ztwosampe.png)"
      ]
    },
    {
      "cell_type": "markdown",
      "id": "4dccfe51",
      "metadata": {
        "id": "4dccfe51"
      },
      "source": [
        "# Example:"
      ]
    },
    {
      "cell_type": "markdown",
      "id": "30c2c5cd",
      "metadata": {
        "id": "30c2c5cd"
      },
      "source": [
        "A school principal claims that the students in his school are more intelligent than those of other schools. A random sample of 50 students' IQ scores has a mean score of 110. The mean population IQ is 100 with an Standard deviation of 15. State whether the claim of the principal is right or not at a 5% significance level."
      ]
    },
    {
      "cell_type": "markdown",
      "id": "5b910a85",
      "metadata": {
        "id": "5b910a85"
      },
      "source": [
        "Ho = the average population IQ score is 100\n",
        "\n",
        "Ha = the average population IQ score is above 100"
      ]
    },
    {
      "cell_type": "code",
      "execution_count": null,
      "id": "e079eb91",
      "metadata": {
        "id": "e079eb91",
        "outputId": "b9f1688e-2b93-4848-be91-3daa440279bf"
      },
      "outputs": [
        {
          "name": "stdout",
          "output_type": "stream",
          "text": [
            "mean=110.71 stdv=2.29\n",
            "Reject Null Hypothesis\n"
          ]
        }
      ],
      "source": [
        "# import the libraries\n",
        "import math\n",
        "import numpy as np\n",
        "from numpy.random import randn\n",
        "from statsmodels.stats.weightstats import ztest\n",
        "\n",
        "# Generate a random array of 50 numbers having mean 110 and standard deviation of 15\n",
        "# similar to the IQ scores data\n",
        "mean_iq = 110\n",
        "sd_iq = 15/math.sqrt(50)\n",
        "alpha =0.05\n",
        "null_mean =100\n",
        "data = sd_iq*randn(50)+mean_iq\n",
        "# Print mean and SD\n",
        "print('mean=%.2f stdv=%.2f' % (np.mean(data), np.std(data)))\n",
        "\n",
        "# Now we perform the test, and In this function, we passed data in the value parameter\n",
        "# We passed mean value in the null hypothesis and will check if the mean is larger in the\n",
        "# alternative hypothesis\n",
        "\n",
        "ztest_Score, p_value= ztest(data,value = null_mean, alternative='larger')\n",
        "# The function outputs a p_value and z-score corresponding to that value, we compare the\n",
        "# p-value with alpha, and if it is greater than alpha, then we do accept the null hypothesis else we reject it.\n",
        "\n",
        "if(p_value < alpha):\n",
        "    print(\"Reject Null Hypothesis\")\n",
        "else:\n",
        "    print(\"Fail to Reject NUll Hypothesis\")\n"
      ]
    },
    {
      "cell_type": "markdown",
      "id": "2abe3e79",
      "metadata": {
        "id": "2abe3e79"
      },
      "source": [
        "# Choosing between T-Test and Z-Test"
      ]
    },
    {
      "cell_type": "markdown",
      "id": "f531cb47",
      "metadata": {
        "id": "f531cb47"
      },
      "source": [
        "Both the T-Test and Z-Test work with one-sample and two-sample scenarios. Also, both use the mean and standard deviation,\n",
        "however, tests are selected based on the sample or population into consideration.\n",
        "\n",
        "If the sample size is large enough, then both T-Test and Z-Test will correlate with the same results. However, for a\n",
        "large sample size, sample variance provides a better estimate of population variance. Therefore, even if population\n",
        "variance is unknown, we can choose Z-Test using sample variance.\n",
        "\n",
        "For a large sample size, we have higher degrees of freedom. Also, since T-distribution approaches the normal\n",
        "distribution, the difference between the T-score and Z-score is small.\n"
      ]
    },
    {
      "cell_type": "markdown",
      "id": "3bc8868b",
      "metadata": {
        "id": "3bc8868b"
      },
      "source": [
        "# T-Test and P-Value Using Python"
      ]
    },
    {
      "cell_type": "markdown",
      "id": "c871da1c",
      "metadata": {
        "id": "c871da1c"
      },
      "source": [
        "# T - Test\n",
        "\n",
        "### When is it used:\n",
        "1. When we want to determine if means of 2 groups are different or not\n",
        "2. When we want to compare means of two samples\n",
        "3. Sample size <=30\n",
        "4. Data follows normal distribution\n",
        "\n",
        "## Independent Sample T-Test:\n",
        "1. Check the average of 2 independent unrelated groups.\n",
        "2. Samples should be from 2 different populations.\n",
        "\n",
        "- Null Hypothesis : $\\mu_{a} = \\mu_{b}$\n",
        "- Alternate Hypothesis : $\\mu_{a} \\ne \\mu_{b}$\n",
        "\n",
        "## Paired Sample T-Test:\n",
        "1. Average of 2 samples taken from the same population but in different points in time.\n",
        "- Null Hypothesis : $\\mu_{d}$ = 0\n",
        "- Alternate Hypothesis : $\\mu_{d} \\ne $ 0\n",
        "\n",
        "## One Sample T-Test:\n",
        "1. Average of a single group is different from known average\n",
        "- Null Hypothesis : $\\mu_{a} =$ X\n",
        "- Alternate Hypothesis : $\\mu_{a} \\ne $ X"
      ]
    },
    {
      "cell_type": "code",
      "execution_count": null,
      "id": "83266571",
      "metadata": {
        "id": "83266571"
      },
      "outputs": [],
      "source": [
        "# Create sample data\n",
        "import random\n",
        "random.seed(100)\n",
        "a = [ random.gauss(50,20) for x in range(30)]\n",
        "b = [ random.gauss(55,15) for x in range(30)]"
      ]
    },
    {
      "cell_type": "code",
      "execution_count": null,
      "id": "ffd29fdf",
      "metadata": {
        "id": "ffd29fdf",
        "outputId": "72a35ee1-fcf7-489d-90e4-400777e35db3"
      },
      "outputs": [
        {
          "data": {
            "text/plain": [
              "<AxesSubplot:ylabel='Density'>"
            ]
          },
          "execution_count": 9,
          "metadata": {},
          "output_type": "execute_result"
        },
        {
          "data": {
            "image/png": "[encoded data removed]",
            "text/plain": [
              "<Figure size 432x288 with 1 Axes>"
            ]
          },
          "metadata": {},
          "output_type": "display_data"
        }
      ],
      "source": [
        "import seaborn as sns\n",
        "sns.set_style('darkgrid')\n",
        "sns.kdeplot(a,shade = True)\n",
        "sns.kdeplot(b,shade = True)"
      ]
    },
    {
      "cell_type": "markdown",
      "id": "dbd38bdd",
      "metadata": {
        "id": "dbd38bdd"
      },
      "source": [
        "# Independent Sample T-Test"
      ]
    },
    {
      "cell_type": "code",
      "execution_count": null,
      "id": "a2751ff0",
      "metadata": {
        "id": "a2751ff0"
      },
      "outputs": [],
      "source": [
        "import scipy.stats as stats"
      ]
    },
    {
      "cell_type": "code",
      "execution_count": null,
      "id": "7348b29f",
      "metadata": {
        "id": "7348b29f"
      },
      "outputs": [],
      "source": [
        "t_stat,p_value = stats.ttest_ind(a,b,equal_var=False)"
      ]
    },
    {
      "cell_type": "code",
      "execution_count": null,
      "id": "1a3bc19e",
      "metadata": {
        "id": "1a3bc19e",
        "outputId": "d431acd7-0d04-47b4-8ee6-ed120b519207"
      },
      "outputs": [
        {
          "data": {
            "text/plain": [
              "(0.10279425917534266, 0.9185308294235142)"
            ]
          },
          "execution_count": 12,
          "metadata": {},
          "output_type": "execute_result"
        }
      ],
      "source": [
        "t_stat,p_value"
      ]
    },
    {
      "cell_type": "markdown",
      "id": "0d3482c9",
      "metadata": {
        "id": "0d3482c9"
      },
      "source": [
        "##### p >= 0.05 and hence we accept the null hypothesis"
      ]
    },
    {
      "cell_type": "code",
      "execution_count": null,
      "id": "42d496e3",
      "metadata": {
        "id": "42d496e3"
      },
      "outputs": [],
      "source": [
        "import numpy as np"
      ]
    },
    {
      "cell_type": "code",
      "execution_count": null,
      "id": "85d9c4a2",
      "metadata": {
        "id": "85d9c4a2",
        "outputId": "35cc49f0-4c11-4961-9e44-cb82e83f05ef"
      },
      "outputs": [
        {
          "data": {
            "text/plain": [
              "(51.18263934085782, 50.67895224399505)"
            ]
          },
          "execution_count": 14,
          "metadata": {},
          "output_type": "execute_result"
        }
      ],
      "source": [
        "# Confirming the results of the test\n",
        "np.mean(a), np.mean(b)"
      ]
    },
    {
      "cell_type": "code",
      "execution_count": null,
      "id": "97697e28",
      "metadata": {
        "id": "97697e28"
      },
      "outputs": [],
      "source": [
        "a = [ random.gauss(50,20) for x in range(30)]\n",
        "b = [ random.gauss(60,25) for x in range(30)]"
      ]
    },
    {
      "cell_type": "markdown",
      "id": "ed44357d",
      "metadata": {
        "id": "ed44357d"
      },
      "source": [
        "# Paired Sample T-Test"
      ]
    },
    {
      "cell_type": "code",
      "execution_count": null,
      "id": "933f6b53",
      "metadata": {
        "id": "933f6b53"
      },
      "outputs": [],
      "source": [
        "t_stat,p_value = stats.ttest_rel(a,b)"
      ]
    },
    {
      "cell_type": "code",
      "execution_count": null,
      "id": "490c2689",
      "metadata": {
        "id": "490c2689",
        "outputId": "437cb09c-332d-40ce-d6f1-932dd1ec295a"
      },
      "outputs": [
        {
          "data": {
            "text/plain": [
              "(-2.7477434424821494, 0.010210498285614093)"
            ]
          },
          "execution_count": 17,
          "metadata": {},
          "output_type": "execute_result"
        }
      ],
      "source": [
        "t_stat,p_value"
      ]
    },
    {
      "cell_type": "markdown",
      "id": "c023384b",
      "metadata": {
        "id": "c023384b"
      },
      "source": [
        "##### p <=0.05 and hence we reject the null hypothesis"
      ]
    },
    {
      "cell_type": "code",
      "execution_count": null,
      "id": "d5632747",
      "metadata": {
        "id": "d5632747",
        "outputId": "be98544f-484e-4be3-eee3-e1d2dda27d6c"
      },
      "outputs": [
        {
          "data": {
            "text/plain": [
              "14.301311923126583"
            ]
          },
          "execution_count": 18,
          "metadata": {},
          "output_type": "execute_result"
        }
      ],
      "source": [
        "# Confirming the results of the test\n",
        "np.mean(b) - np.mean(a)"
      ]
    },
    {
      "cell_type": "markdown",
      "id": "46a8ca00",
      "metadata": {
        "id": "46a8ca00"
      },
      "source": [
        "# One Sample T-Test"
      ]
    },
    {
      "cell_type": "code",
      "execution_count": null,
      "id": "080c4a7e",
      "metadata": {
        "id": "080c4a7e",
        "outputId": "52d70016-13e7-4c74-a07e-51ddaa4cfa07"
      },
      "outputs": [
        {
          "data": {
            "text/plain": [
              "46.074961678768354"
            ]
          },
          "execution_count": 19,
          "metadata": {},
          "output_type": "execute_result"
        }
      ],
      "source": [
        "# Checking the mean to give the population mean value\n",
        "np.mean(a)"
      ]
    },
    {
      "cell_type": "code",
      "execution_count": null,
      "id": "43fee50a",
      "metadata": {
        "id": "43fee50a"
      },
      "outputs": [],
      "source": [
        "t_stat,p_value = stats.ttest_1samp(a,100,axis = 0)"
      ]
    },
    {
      "cell_type": "code",
      "execution_count": null,
      "id": "2259a0d5",
      "metadata": {
        "id": "2259a0d5",
        "outputId": "85f3a5bf-7cff-46c2-cd3a-2bb1b0c9d0c7"
      },
      "outputs": [
        {
          "data": {
            "text/plain": [
              "(-15.726161201628097, 9.860930052233548e-16)"
            ]
          },
          "execution_count": 21,
          "metadata": {},
          "output_type": "execute_result"
        }
      ],
      "source": [
        "t_stat,p_value"
      ]
    },
    {
      "cell_type": "markdown",
      "id": "c99472d8",
      "metadata": {
        "id": "c99472d8"
      },
      "source": [
        "#### p <=0.05 and hence we reject the null hypothesis"
      ]
    },
    {
      "cell_type": "markdown",
      "id": "60a51236",
      "metadata": {
        "id": "60a51236"
      },
      "source": [
        "# Z-Test and P-Value Using Python"
      ]
    },
    {
      "cell_type": "code",
      "execution_count": null,
      "id": "a5da4d54",
      "metadata": {
        "id": "a5da4d54"
      },
      "outputs": [],
      "source": [
        "# Import ztest library\n",
        "import random\n",
        "random.seed(20)\n",
        "from statsmodels.stats.weightstats import ztest as ztest"
      ]
    },
    {
      "cell_type": "markdown",
      "id": "3ea428f8",
      "metadata": {
        "id": "3ea428f8"
      },
      "source": [
        "#### Known mean and standard deviation\n",
        "$ \\mu = 100 $ <br>\n",
        "$ \\sigma = 15 $"
      ]
    },
    {
      "cell_type": "markdown",
      "id": "c3ea58bd",
      "metadata": {
        "id": "c3ea58bd"
      },
      "source": [
        "# One Sample Z-test"
      ]
    },
    {
      "cell_type": "markdown",
      "id": "893eb7b5",
      "metadata": {
        "id": "893eb7b5"
      },
      "source": [
        "* Null Hypothesis : $\\mu_{s} = value$\n",
        "\n",
        "* Alternate Hypothesis : $\\mu_{s} \\ne value$"
      ]
    },
    {
      "cell_type": "code",
      "execution_count": null,
      "id": "44a4bf26",
      "metadata": {
        "id": "44a4bf26"
      },
      "outputs": [],
      "source": [
        "# Create sample with same mean\n",
        "a = [random.gauss(100,15) for x in range(40)]"
      ]
    },
    {
      "cell_type": "code",
      "execution_count": null,
      "id": "c88a3519",
      "metadata": {
        "id": "c88a3519",
        "outputId": "3c8b849a-5f6e-4eaa-8794-4ee59029d10f"
      },
      "outputs": [
        {
          "data": {
            "text/plain": [
              "(1.3430675401429018, 0.17925010504664385)"
            ]
          },
          "execution_count": 24,
          "metadata": {},
          "output_type": "execute_result"
        }
      ],
      "source": [
        "ztest(a,value = 100)"
      ]
    },
    {
      "cell_type": "markdown",
      "id": "bc822e72",
      "metadata": {
        "id": "bc822e72"
      },
      "source": [
        "p value <=0.05 and hence we reject the null hypothesis"
      ]
    },
    {
      "cell_type": "code",
      "execution_count": null,
      "id": "fe9515e9",
      "metadata": {
        "id": "fe9515e9"
      },
      "outputs": [],
      "source": [
        "# Sampe with same mean\n",
        "a = [random.gauss(100,15) for x in range(40)]\n",
        "b = [random.gauss(100,15) for x in range(40)]"
      ]
    },
    {
      "cell_type": "code",
      "execution_count": null,
      "id": "2bbbaf3b",
      "metadata": {
        "id": "2bbbaf3b",
        "outputId": "78dc586f-9d21-4356-d4fa-a285e4ea321b"
      },
      "outputs": [
        {
          "data": {
            "text/plain": [
              "(-0.9878523542697073, 0.32322496274152)"
            ]
          },
          "execution_count": 26,
          "metadata": {},
          "output_type": "execute_result"
        }
      ],
      "source": [
        "ztest(a,b,value = 0)"
      ]
    },
    {
      "cell_type": "markdown",
      "id": "1dd688ee",
      "metadata": {
        "id": "1dd688ee"
      },
      "source": [
        "# Use Case: Determine the Diameter of Two Units"
      ]
    },
    {
      "cell_type": "markdown",
      "id": "e025fbc6",
      "metadata": {
        "id": "e025fbc6"
      },
      "source": [
        "### Problem Statement:"
      ]
    },
    {
      "cell_type": "markdown",
      "id": "57b13668",
      "metadata": {
        "id": "57b13668"
      },
      "source": [
        "An administrator wants to determine whether there is any significant difference in the diameter of the cutlet between\n",
        "two units. A randomly selected sample of cutlets was collected from both units and measured? Analyze the data and draw\n",
        "inferences at 5% significance level. Please state the assumptions and tests that you've carried out to check validity of\n",
        "the assumptions.\n",
        "\n",
        "$H_o$ = mean < 0.05\n",
        "\n",
        "$H_a$ = mean >= 0.05"
      ]
    },
    {
      "cell_type": "markdown",
      "id": "22fcb82e",
      "metadata": {
        "id": "22fcb82e"
      },
      "source": [
        "### Dataset:"
      ]
    },
    {
      "cell_type": "markdown",
      "id": "48a8f73c",
      "metadata": {
        "id": "48a8f73c"
      },
      "source": [
        "Unit defines the diameter of cutlet.\n",
        "\n",
        "The dataset consists of two columns, i.e. Unit A and Unit B, with 35 values."
      ]
    },
    {
      "cell_type": "markdown",
      "id": "fdf9d7d1",
      "metadata": {
        "id": "fdf9d7d1"
      },
      "source": [
        "### Solution:"
      ]
    },
    {
      "cell_type": "code",
      "execution_count": null,
      "id": "eab1c763",
      "metadata": {
        "id": "eab1c763"
      },
      "outputs": [],
      "source": [
        "# Import the libraries\n",
        "import numpy as np\n",
        "import pandas as pd\n",
        "import matplotlib.pyplot as plt\n",
        "import seaborn as sns\n",
        "import scipy as sp"
      ]
    },
    {
      "cell_type": "code",
      "execution_count": null,
      "id": "a7621e15",
      "metadata": {
        "id": "a7621e15",
        "outputId": "6ee25a8d-0b07-4938-8779-2feef279d5b5"
      },
      "outputs": [
        {
          "data": {
            "text/html": [
              "<div>\n",
              "<style scoped>\n",
              "    .dataframe tbody tr th:only-of-type {\n",
              "        vertical-align: middle;\n",
              "    }\n",
              "\n",
              "    .dataframe tbody tr th {\n",
              "        vertical-align: top;\n",
              "    }\n",
              "\n",
              "    .dataframe thead th {\n",
              "        text-align: right;\n",
              "    }\n",
              "</style>\n",
              "<table border=\"1\" class=\"dataframe\">\n",
              "  <thead>\n",
              "    <tr style=\"text-align: right;\">\n",
              "      <th></th>\n",
              "      <th>Unit A</th>\n",
              "      <th>Unit B</th>\n",
              "    </tr>\n",
              "  </thead>\n",
              "  <tbody>\n",
              "    <tr>\n",
              "      <th>0</th>\n",
              "      <td>6.8090</td>\n",
              "      <td>6.7703</td>\n",
              "    </tr>\n",
              "    <tr>\n",
              "      <th>1</th>\n",
              "      <td>6.4376</td>\n",
              "      <td>7.5093</td>\n",
              "    </tr>\n",
              "    <tr>\n",
              "      <th>2</th>\n",
              "      <td>6.9157</td>\n",
              "      <td>6.7300</td>\n",
              "    </tr>\n",
              "    <tr>\n",
              "      <th>3</th>\n",
              "      <td>7.3012</td>\n",
              "      <td>6.7878</td>\n",
              "    </tr>\n",
              "    <tr>\n",
              "      <th>4</th>\n",
              "      <td>7.4488</td>\n",
              "      <td>7.1522</td>\n",
              "    </tr>\n",
              "  </tbody>\n",
              "</table>\n",
              "</div>"
            ],
            "text/plain": [
              "   Unit A  Unit B\n",
              "0  6.8090  6.7703\n",
              "1  6.4376  7.5093\n",
              "2  6.9157  6.7300\n",
              "3  7.3012  6.7878\n",
              "4  7.4488  7.1522"
            ]
          },
          "execution_count": 29,
          "metadata": {},
          "output_type": "execute_result"
        }
      ],
      "source": [
        "df = pd.read_csv('Cutlets.csv')\n",
        "df.head()"
      ]
    },
    {
      "cell_type": "code",
      "execution_count": null,
      "id": "ece25c74",
      "metadata": {
        "id": "ece25c74",
        "outputId": "e4aca894-706a-4578-ef9e-837b94216a10"
      },
      "outputs": [
        {
          "data": {
            "text/html": [
              "<div>\n",
              "<style scoped>\n",
              "    .dataframe tbody tr th:only-of-type {\n",
              "        vertical-align: middle;\n",
              "    }\n",
              "\n",
              "    .dataframe tbody tr th {\n",
              "        vertical-align: top;\n",
              "    }\n",
              "\n",
              "    .dataframe thead th {\n",
              "        text-align: right;\n",
              "    }\n",
              "</style>\n",
              "<table border=\"1\" class=\"dataframe\">\n",
              "  <thead>\n",
              "    <tr style=\"text-align: right;\">\n",
              "      <th></th>\n",
              "      <th>Unit A</th>\n",
              "      <th>Unit B</th>\n",
              "    </tr>\n",
              "  </thead>\n",
              "  <tbody>\n",
              "    <tr>\n",
              "      <th>count</th>\n",
              "      <td>35.000000</td>\n",
              "      <td>35.000000</td>\n",
              "    </tr>\n",
              "    <tr>\n",
              "      <th>mean</th>\n",
              "      <td>7.019091</td>\n",
              "      <td>6.964297</td>\n",
              "    </tr>\n",
              "    <tr>\n",
              "      <th>std</th>\n",
              "      <td>0.288408</td>\n",
              "      <td>0.343401</td>\n",
              "    </tr>\n",
              "    <tr>\n",
              "      <th>min</th>\n",
              "      <td>6.437600</td>\n",
              "      <td>6.038000</td>\n",
              "    </tr>\n",
              "    <tr>\n",
              "      <th>25%</th>\n",
              "      <td>6.831500</td>\n",
              "      <td>6.753600</td>\n",
              "    </tr>\n",
              "    <tr>\n",
              "      <th>50%</th>\n",
              "      <td>6.943800</td>\n",
              "      <td>6.939900</td>\n",
              "    </tr>\n",
              "    <tr>\n",
              "      <th>75%</th>\n",
              "      <td>7.280550</td>\n",
              "      <td>7.195000</td>\n",
              "    </tr>\n",
              "    <tr>\n",
              "      <th>max</th>\n",
              "      <td>7.516900</td>\n",
              "      <td>7.545900</td>\n",
              "    </tr>\n",
              "  </tbody>\n",
              "</table>\n",
              "</div>"
            ],
            "text/plain": [
              "          Unit A     Unit B\n",
              "count  35.000000  35.000000\n",
              "mean    7.019091   6.964297\n",
              "std     0.288408   0.343401\n",
              "min     6.437600   6.038000\n",
              "25%     6.831500   6.753600\n",
              "50%     6.943800   6.939900\n",
              "75%     7.280550   7.195000\n",
              "max     7.516900   7.545900"
            ]
          },
          "execution_count": 30,
          "metadata": {},
          "output_type": "execute_result"
        }
      ],
      "source": [
        "df.describe()"
      ]
    },
    {
      "cell_type": "code",
      "execution_count": null,
      "id": "e9d07cb7",
      "metadata": {
        "id": "e9d07cb7",
        "outputId": "1b51e2c7-4591-4a97-c6ad-24bba283618e"
      },
      "outputs": [
        {
          "data": {
            "text/plain": [
              "7.01909142857143"
            ]
          },
          "execution_count": 31,
          "metadata": {},
          "output_type": "execute_result"
        }
      ],
      "source": [
        "df_unit_A = df['Unit A'].mean()\n",
        "df_unit_A"
      ]
    },
    {
      "cell_type": "code",
      "execution_count": null,
      "id": "f8bc368f",
      "metadata": {
        "id": "f8bc368f",
        "outputId": "4efea766-0df3-45b7-f42b-fe77113a5355"
      },
      "outputs": [
        {
          "data": {
            "text/plain": [
              "6.964297142857142"
            ]
          },
          "execution_count": 32,
          "metadata": {},
          "output_type": "execute_result"
        }
      ],
      "source": [
        "df_unit_B = df['Unit B'].mean()\n",
        "df_unit_B"
      ]
    },
    {
      "cell_type": "code",
      "execution_count": null,
      "id": "9abcb00e",
      "metadata": {
        "id": "9abcb00e",
        "outputId": "078dce38-ad06-4315-cf83-e4ae5a232030"
      },
      "outputs": [
        {
          "data": {
            "text/plain": [
              "True"
            ]
          },
          "execution_count": 33,
          "metadata": {},
          "output_type": "execute_result"
        }
      ],
      "source": [
        "df_unit_A > df_unit_B"
      ]
    },
    {
      "cell_type": "markdown",
      "id": "201f0cd7",
      "metadata": {
        "id": "201f0cd7"
      },
      "source": [
        "##  Plotting the data"
      ]
    },
    {
      "cell_type": "code",
      "execution_count": null,
      "id": "d563d4d4",
      "metadata": {
        "id": "d563d4d4",
        "outputId": "cd920607-cda3-4cbc-fed8-0d7c657d44a4"
      },
      "outputs": [
        {
          "data": {
            "text/plain": [
              "<matplotlib.legend.Legend at 0x1a1bd95aa60>"
            ]
          },
          "execution_count": 34,
          "metadata": {},
          "output_type": "execute_result"
        },
        {
          "data": {
            "image/png": "[encoded data removed]",
            "text/plain": [
              "<Figure size 432x288 with 1 Axes>"
            ]
          },
          "metadata": {
            "needs_background": "light"
          },
          "output_type": "display_data"
        }
      ],
      "source": [
        "sns.histplot(data=df['Unit A'],color = 'green', kde=True)\n",
        "sns.histplot(data=df['Unit B'],color = 'yellow', kde=True)\n",
        "plt.legend(['Unit A','Unit B'])"
      ]
    },
    {
      "cell_type": "code",
      "execution_count": null,
      "id": "a8b90406",
      "metadata": {
        "id": "a8b90406",
        "outputId": "efd064c6-c86f-4c3b-8ccc-12819c1b0a32"
      },
      "outputs": [
        {
          "data": {
            "text/plain": [
              "<AxesSubplot:>"
            ]
          },
          "execution_count": 35,
          "metadata": {},
          "output_type": "execute_result"
        },
        {
          "data": {
            "image/png": "[encoded data removed]",
            "text/plain": [
              "<Figure size 432x288 with 1 Axes>"
            ]
          },
          "metadata": {
            "needs_background": "light"
          },
          "output_type": "display_data"
        }
      ],
      "source": [
        "sns.boxplot(data=[df['Unit A'],df['Unit B']])"
      ]
    },
    {
      "cell_type": "code",
      "execution_count": null,
      "id": "daf75a50",
      "metadata": {
        "id": "daf75a50"
      },
      "outputs": [],
      "source": [
        "# There is one outlier present in Unit B of cutlet data"
      ]
    },
    {
      "cell_type": "code",
      "execution_count": null,
      "id": "ed304940",
      "metadata": {
        "id": "ed304940"
      },
      "outputs": [],
      "source": [
        "# Calculating t-value and p-value using scipy\n",
        "tStat,pValue =sp.stats.ttest_ind(df['Unit A'],df['Unit B'])"
      ]
    },
    {
      "cell_type": "code",
      "execution_count": null,
      "id": "f079880d",
      "metadata": {
        "id": "f079880d",
        "outputId": "0b842c81-e008-427b-889c-9e781362bea1"
      },
      "outputs": [
        {
          "data": {
            "text/plain": [
              "0.7228688704678063"
            ]
          },
          "execution_count": 38,
          "metadata": {},
          "output_type": "execute_result"
        }
      ],
      "source": [
        "tStat"
      ]
    },
    {
      "cell_type": "code",
      "execution_count": null,
      "id": "6a101c1f",
      "metadata": {
        "id": "6a101c1f",
        "outputId": "e236d846-61b8-4655-9837-fcafb943c2c4"
      },
      "outputs": [
        {
          "data": {
            "text/plain": [
              "0.4722394724599501"
            ]
          },
          "execution_count": 39,
          "metadata": {},
          "output_type": "execute_result"
        }
      ],
      "source": [
        "pValue"
      ]
    },
    {
      "cell_type": "code",
      "execution_count": null,
      "id": "e2ad372d",
      "metadata": {
        "id": "e2ad372d",
        "outputId": "129a0c7f-b5c0-4c14-b15e-df1e098ad223"
      },
      "outputs": [
        {
          "name": "stdout",
          "output_type": "stream",
          "text": [
            "We accept Null Hypothesis\n"
          ]
        }
      ],
      "source": [
        "if pValue < 0.05:\n",
        "    print('We reject Null Hypothesis')\n",
        "else:\n",
        "    print('We accept Null Hypothesis')"
      ]
    },
    {
      "cell_type": "markdown",
      "id": "38b766ce",
      "metadata": {
        "id": "38b766ce"
      },
      "source": [
        "The inference is that there is no significant difference in the diameters of Unit A and Unit B."
      ]
    },
    {
      "cell_type": "markdown",
      "id": "1a206bee",
      "metadata": {
        "id": "1a206bee"
      },
      "source": [
        "# Chi-square Distribution"
      ]
    },
    {
      "cell_type": "markdown",
      "id": "c5005901",
      "metadata": {
        "id": "c5005901"
      },
      "source": [
        "A Chi-square distribution, pronounced ‘khai squared’, is a continuous probability distribution widely used in statistical\n",
        "inference. The Greek letter χ is often used, and χ2 is termed as chi-square.\n",
        "\n",
        "The χ2 distribution and the standard normal distribution are related. If a random variable Z has a standard normal\n",
        "distribution, then Z2 has the χ2 distribution with one degree of freedom.\n",
        "\n",
        "\n",
        "\n"
      ]
    },
    {
      "cell_type": "markdown",
      "id": "df7855bb",
      "metadata": {
        "id": "df7855bb"
      },
      "source": [
        "![Normal_chi.png](https://s3.us-east-1.amazonaws.com/static2.simplilearn.com/lms/testpaper_images/ADSP/Advanced_Statistics/Normal_chi.png)"
      ]
    },
    {
      "cell_type": "markdown",
      "id": "c4e5f7cc",
      "metadata": {
        "id": "c4e5f7cc"
      },
      "source": [
        "Multiple standard random variables are possible. Mathematically, for k variables,\n",
        "\n",
        "Z12 + Z22 has 2 degrees of freedom.\n",
        "\n",
        "Z12 + Z22 + Z32 + Z42 + Z52 + Z62 has 6 degrees of freedom, etc.\n",
        "\n",
        "For k degrees of freedom, we have:\n",
        "    \n",
        "Z12 + Z22 + Z32 + Z42 + Z52 + Z62 + …. + Zk2, and this has a χ2 distribution of k degrees of freedom.\n",
        "\n",
        "The equation for the probability density function (PDF) of the χ2 distribution with k degrees of freedom is:\n"
      ]
    },
    {
      "cell_type": "markdown",
      "id": "73842b55",
      "metadata": {
        "id": "73842b55"
      },
      "source": [
        "![dof.png](https://s3.us-east-1.amazonaws.com/static2.simplilearn.com/lms/testpaper_images/ADSP/Advanced_Statistics/dof.png)"
      ]
    },
    {
      "cell_type": "markdown",
      "id": "0bf6418f",
      "metadata": {
        "id": "0bf6418f"
      },
      "source": [
        "The function is valid for all positive values of x, and k is the number of degrees of freedom. As the PDF has the gamma\n",
        "function Γ, the χ2 distribution of k degrees of freedom is also a gamma function.\n",
        "\n",
        "The χ2 distribution of k degrees of freedom is:\n",
        "\n"
      ]
    },
    {
      "cell_type": "markdown",
      "id": "41b7386f",
      "metadata": {
        "id": "41b7386f"
      },
      "source": [
        "![dof_new.png](https://s3.us-east-1.amazonaws.com/static2.simplilearn.com/lms/testpaper_images/ADSP/Advanced_Statistics/dof_new.png)"
      ]
    },
    {
      "cell_type": "markdown",
      "id": "d9411ae1",
      "metadata": {
        "id": "d9411ae1"
      },
      "source": [
        "With increasing degrees of freedom, the shape of the χ2 distribution varies. For k = 1, the PDF is infinity, when χ2 = 0.\n",
        "For k = 2, PDF is 0.5 for χ2 = 0. For higher values of k (3 or more), the χ2 distribution changes to a positively skewed\n",
        "standard normal distribution, and with higher degrees of freedom, the skewness and the kurtosis of the χ2 distribution\n",
        "changes, with the distribution becoming increasingly symmetric.\n",
        "\n",
        "Note: In any χ2 distribution, the mean (μ) is k, the number of degrees of freedom, and the variance is 2k.\n",
        "    \n",
        "<b>For example, for k = 3 in the diagram, μ = 3, while the variance is 2 x k, or 6. </b>\n",
        "\n",
        "The mode of the distribution will occur at k-2 for the distributions with k = 3 and above. So, when k = 4, the mode is\n",
        "at k – 2, which is 2.\n",
        "\n"
      ]
    },
    {
      "cell_type": "markdown",
      "id": "ff7fe0f0",
      "metadata": {
        "id": "ff7fe0f0"
      },
      "source": [
        "# Chi-Squared Distribution Using Python"
      ]
    },
    {
      "cell_type": "code",
      "execution_count": null,
      "id": "da3f62e7",
      "metadata": {
        "id": "da3f62e7",
        "outputId": "10360eb1-1ba1-4061-e78d-1c9d7e77bfa9"
      },
      "outputs": [
        {
          "name": "stdout",
          "output_type": "stream",
          "text": [
            "[5.25527182e-02 4.84313828e-01 4.23308042e+00 1.57520781e+00\n",
            " 5.86342405e-08 9.41443423e-01 3.14066795e-03 2.59859313e+00\n",
            " 6.05183396e-01 2.52410170e+00]\n"
          ]
        }
      ],
      "source": [
        "# Create Chi-Square Distribution of varying degrees of freedom\n",
        "data1 = np.random.chisquare(df = 1,size = 1000)\n",
        "data2 = np.random.chisquare(df = 2,size = 1000)\n",
        "data3 = np.random.chisquare(df = 3,size = 1000)\n",
        "print(data1[:10])"
      ]
    },
    {
      "cell_type": "code",
      "execution_count": null,
      "id": "2bfcfd96",
      "metadata": {
        "id": "2bfcfd96",
        "outputId": "c722f064-d817-443c-c972-b367a1a8c2cc"
      },
      "outputs": [
        {
          "name": "stderr",
          "output_type": "stream",
          "text": [
            "/usr/local/lib/python3.7/site-packages/seaborn/distributions.py:2619: FutureWarning: `distplot` is a deprecated function and will be removed in a future version. Please adapt your code to use either `displot` (a figure-level function with similar flexibility) or `kdeplot` (an axes-level function for kernel density plots).\n",
            "  warnings.warn(msg, FutureWarning)\n",
            "/usr/local/lib/python3.7/site-packages/seaborn/distributions.py:2619: FutureWarning: `distplot` is a deprecated function and will be removed in a future version. Please adapt your code to use either `displot` (a figure-level function with similar flexibility) or `kdeplot` (an axes-level function for kernel density plots).\n",
            "  warnings.warn(msg, FutureWarning)\n",
            "/usr/local/lib/python3.7/site-packages/seaborn/distributions.py:2619: FutureWarning: `distplot` is a deprecated function and will be removed in a future version. Please adapt your code to use either `displot` (a figure-level function with similar flexibility) or `kdeplot` (an axes-level function for kernel density plots).\n",
            "  warnings.warn(msg, FutureWarning)\n"
          ]
        },
        {
          "data": {
            "text/plain": [
              "<matplotlib.legend.Legend at 0x7fc251fd78d0>"
            ]
          },
          "execution_count": 4,
          "metadata": {},
          "output_type": "execute_result"
        },
        {
          "data": {
            "image/png": "[encoded data removed]",
            "text/plain": [
              "<Figure size 432x288 with 1 Axes>"
            ]
          },
          "metadata": {
            "needs_background": "light"
          },
          "output_type": "display_data"
        }
      ],
      "source": [
        "import matplotlib.pyplot as plt\n",
        "import seaborn as sns\n",
        "# Plot the distributions\n",
        "sns.distplot(data1, hist = False, label = 'dof 1')\n",
        "sns.distplot(data2, hist = False, label = 'dof 2')\n",
        "sns.distplot(data3, hist = False, label = 'dof 3')\n",
        "plt.legend()"
      ]
    },
    {
      "cell_type": "code",
      "execution_count": null,
      "id": "f8561fbd",
      "metadata": {
        "id": "f8561fbd"
      },
      "outputs": [],
      "source": [
        "from scipy.stats import chi2_contingency"
      ]
    },
    {
      "cell_type": "code",
      "execution_count": null,
      "id": "d6ab89c4",
      "metadata": {
        "id": "d6ab89c4"
      },
      "outputs": [],
      "source": [
        "data = [[10,20,30],[6,9,17]]"
      ]
    },
    {
      "cell_type": "code",
      "execution_count": null,
      "id": "31c72bce",
      "metadata": {
        "id": "31c72bce"
      },
      "outputs": [],
      "source": [
        "stat, p_value, dof, chi_array = chi2_contingency(data)"
      ]
    },
    {
      "cell_type": "code",
      "execution_count": null,
      "id": "95451af1",
      "metadata": {
        "id": "95451af1",
        "outputId": "469236ec-b3f0-47e9-a23e-7fdb8299f600"
      },
      "outputs": [
        {
          "data": {
            "text/plain": [
              "0.873028283380073"
            ]
          },
          "execution_count": 30,
          "metadata": {},
          "output_type": "execute_result"
        }
      ],
      "source": [
        "p_value"
      ]
    },
    {
      "cell_type": "markdown",
      "id": "6c823ff7",
      "metadata": {
        "id": "6c823ff7"
      },
      "source": [
        "p-value > 0.05, reject null hypothesis as there is relationship between the two groups."
      ]
    },
    {
      "cell_type": "code",
      "execution_count": null,
      "id": "c583feca",
      "metadata": {
        "id": "c583feca"
      },
      "outputs": [],
      "source": [
        "data = [[10,20,30],[9,1,8]]"
      ]
    },
    {
      "cell_type": "code",
      "execution_count": null,
      "id": "662724e4",
      "metadata": {
        "id": "662724e4"
      },
      "outputs": [],
      "source": [
        "stat, p_value, dof, chi_array = chi2_contingency(data)"
      ]
    },
    {
      "cell_type": "code",
      "execution_count": null,
      "id": "5262a8e2",
      "metadata": {
        "id": "5262a8e2",
        "outputId": "b901ee31-3a19-4f00-d9dc-9772f6980c9b"
      },
      "outputs": [
        {
          "data": {
            "text/plain": [
              "0.005595003173072842"
            ]
          },
          "execution_count": 33,
          "metadata": {},
          "output_type": "execute_result"
        }
      ],
      "source": [
        "p_value"
      ]
    },
    {
      "cell_type": "markdown",
      "id": "86618f81",
      "metadata": {
        "id": "86618f81"
      },
      "source": [
        "# Chi-square Test and Independence Test"
      ]
    },
    {
      "cell_type": "markdown",
      "id": "affb857c",
      "metadata": {
        "id": "affb857c"
      },
      "source": [
        "Statistical methods are often employed to understand the patterns and relationships in data. One such method is the Chi-square test, which is used in two different but related scenarios - as a goodness-of-fit test and as a test for independence.\n"
      ]
    },
    {
      "cell_type": "markdown",
      "id": "4c02933f",
      "metadata": {
        "id": "4c02933f"
      },
      "source": [
        "<b>Chi-square Test as a Test for Independence</b>\n",
        "A Chi-square test for independence is used to determine whether there's a significant association between two categorical variables in a sample. It's non-parametric, meaning it does not assume any specific distribution for the variables involved.\n",
        "\n"
      ]
    },
    {
      "cell_type": "markdown",
      "id": "33ad7ec4",
      "metadata": {
        "id": "33ad7ec4"
      },
      "source": [
        "## Steps for Chi-Square Test"
      ]
    },
    {
      "cell_type": "markdown",
      "id": "85617fdb",
      "metadata": {
        "id": "85617fdb"
      },
      "source": [
        "1. Define the Null and Alternate hypotheses based on the data. H0 implies that the data met the expected distribution,\n",
        "   while H1 implies that it did not\n",
        "    \n",
        "2. State the alpha value. As mentioned earlier, we usually work with a value of 0.05\n",
        "\n",
        "3. Calculate the degrees of freedom, k. It depends on the number of categories or groups, and is usually K – 1, where\n",
        "   K is the number of frequencies\n",
        "    \n",
        "4. State the decision rule. Calculate the ‘decision value’ based on the alpha value and degrees of freedom. Based on this\n",
        "   value, either reject H0 or reject H1\n",
        "\n",
        "5. Calculate the test statistic for χ2 using the formula:\n"
      ]
    },
    {
      "cell_type": "markdown",
      "id": "dacd357f",
      "metadata": {
        "id": "dacd357f"
      },
      "source": [
        "![Chi_test+formula.png](https://s3.us-east-1.amazonaws.com/static2.simplilearn.com/lms/testpaper_images/ADSP/Advanced_Statistics/Chi_test%2Bformula.png)"
      ]
    },
    {
      "cell_type": "markdown",
      "id": "6eecc2ad",
      "metadata": {
        "id": "6eecc2ad"
      },
      "source": [
        "Here O is the observed value and E is the expected value from the sample. K is the degree of freedom.\n",
        "\n",
        "6. Finally, compare the decision value computed in step 4 with that of step 5 to either accept or reject the null hypothesis\n",
        "\n",
        "7. Based on step 6, conclude the domain observation\n"
      ]
    },
    {
      "cell_type": "markdown",
      "id": "bd6a1bea",
      "metadata": {
        "id": "bd6a1bea"
      },
      "source": [
        "# Example:"
      ]
    },
    {
      "cell_type": "markdown",
      "id": "983d7c84",
      "metadata": {
        "id": "983d7c84"
      },
      "source": [
        "In a study about the election survey, voters might be classified by gender (male or female) and voting preference\n",
        "(democrat, republican, or independent).\n",
        "\n",
        "Using alpha = 0.05, perform a chi-square test for independence to determine whether gender is related to voting\n",
        "preference."
      ]
    },
    {
      "cell_type": "code",
      "execution_count": 6,
      "id": "ac4ff3f9",
      "metadata": {
        "id": "ac4ff3f9",
        "outputId": "dbcf88ce-ec73-462c-a85f-ac8b6ba1e9d7"
      },
      "outputs": [
        {
          "name": "stdout",
          "output_type": "stream",
          "text": [
            "contingency_table :-\n",
            " Shopping  No  Yes\n",
            "Gender           \n",
            "Female     2    3\n",
            "Male       2    2\n",
            "Observed Values :-\n",
            " [[2 3]\n",
            " [2 2]]\n",
            "Expected Values :-\n",
            " [[2.22222222 2.77777778]\n",
            " [1.77777778 2.22222222]]\n",
            "Degree of Freedom:- 1\n",
            "chi-square statistic:- 0.09000000000000008\n",
            "critical_value: 3.841458820694124\n",
            "p-value: 0.7641771556220945\n",
            "Significance level:  0.05\n",
            "Degree of Freedom:  1\n",
            "chi-square statistic: 0.09000000000000008\n",
            "critical_value: 3.841458820694124\n",
            "p-value: 0.7641771556220945\n",
            "Retain H0,There is no relationship between 2 categorical variables\n",
            "Retain H0,There is no relationship between 2 categorical variables\n"
          ]
        }
      ],
      "source": [
        "from scipy.stats import chi2_contingency, stats\n",
        "import pandas as pd\n",
        "# Load the chi-test.csv file\n",
        "df_chi = pd.read_csv('../../Datasets/LVC Datasets/Lesson_4/chi-test.csv')\n",
        "contingency_table=pd.crosstab(df_chi[\"Gender\"],df_chi[\"Shopping\"])\n",
        "print('contingency_table :-\\n',contingency_table)\n",
        "# Observed Values\n",
        "Observed_Values = contingency_table.values\n",
        "print(\"Observed Values :-\\n\",Observed_Values)\n",
        "b = chi2_contingency(contingency_table)\n",
        "Expected_Values = b[3]\n",
        "print(\"Expected Values :-\\n\",Expected_Values)\n",
        "no_of_rows=len(contingency_table.iloc[0:2,0])\n",
        "no_of_columns=len(contingency_table.iloc[0,0:2])\n",
        "ddof=(no_of_rows-1)*(no_of_columns-1)\n",
        "print(\"Degree of Freedom:-\",ddof)\n",
        "alpha = 0.05\n",
        "from scipy.stats import chi2\n",
        "chi_square=sum([(o-e)**2./e for o,e in zip(Observed_Values,Expected_Values)])\n",
        "chi_square_statistic=chi_square[0]+chi_square[1]\n",
        "print(\"chi-square statistic:-\",chi_square_statistic)\n",
        "critical_value=chi2.ppf(q=1-alpha,df=ddof)\n",
        "print('critical_value:',critical_value)\n",
        "# P-value\n",
        "p_value=1-chi2.cdf(x=chi_square_statistic,df=ddof)\n",
        "print('p-value:',p_value)\n",
        "print('Significance level: ',alpha)\n",
        "print('Degree of Freedom: ',ddof)\n",
        "print('chi-square statistic:',chi_square_statistic)\n",
        "print('critical_value:',critical_value)\n",
        "print('p-value:',p_value)\n",
        "if chi_square_statistic>=critical_value:\n",
        "    print(\"Reject H0,There is a relationship between 2 categorical variables\")\n",
        "else:\n",
        "    print(\"Retain H0,There is no relationship between 2 categorical variables\")\n",
        "\n",
        "if p_value<=alpha:\n",
        "    print(\"Reject H0,There is a relationship between 2 categorical variables\")\n",
        "else:\n",
        "    print(\"Retain H0,There is no relationship between 2 categorical variables\")"
      ]
    },
    {
      "cell_type": "markdown",
      "id": "mRZu68Dc4ggy",
      "metadata": {
        "id": "mRZu68Dc4ggy"
      },
      "source": [
        "**Observation**:\n",
        "The output suggests that the Chi-square statistic is not greater than the critical value, and the p-value is higher than the significance level. Therefore, we retain the null hypothesis, concluding that there is no significant relationship between gender and shopping preference according to the Chi-square test for independence."
      ]
    },
    {
      "cell_type": "markdown",
      "id": "e100b4fb",
      "metadata": {
        "id": "e100b4fb"
      },
      "source": [
        "# Analysis of Variance or ANOVA"
      ]
    },
    {
      "cell_type": "markdown",
      "id": "e6d312dd",
      "metadata": {
        "id": "e6d312dd"
      },
      "source": [
        "ANOVA, or Analysis of Variance, is a collection of statistical models and their associated estimation procedures used\n",
        "to analyze the differences among means. It was developed by the statistician, Ronald Fisher in 1918. Please note that\n",
        "the term ‘variance’ is used to indicate the ‘variation’ or the ‘dispersion’ and must not be confused with the common\n",
        "statistical term ‘variance’.\n",
        "\n",
        "The ANOVA test extends the T and the Z test, as they are constrained to allowing the nominal level variable to have\n",
        "only two categories. ANOVA is also called the Fisher analysis of variance and is suitable for performing simultaneous\n",
        "tests on sets of data drawn from different populations.\n",
        "\n"
      ]
    },
    {
      "cell_type": "markdown",
      "id": "695c23b0",
      "metadata": {
        "id": "695c23b0"
      },
      "source": [
        "![ANOVA.png](https://s3.us-east-1.amazonaws.com/static2.simplilearn.com/lms/testpaper_images/ADSP/Advanced_Statistics/ANOVA.png)"
      ]
    },
    {
      "cell_type": "markdown",
      "id": "a237177a",
      "metadata": {
        "id": "a237177a"
      },
      "source": [
        "As you can see on the screen, there are four groups: A, B, C, and D, and their sample distributions are compared.\n",
        "\n"
      ]
    },
    {
      "cell_type": "markdown",
      "id": "ca8fe1c0",
      "metadata": {
        "id": "ca8fe1c0"
      },
      "source": [
        "# How Does ANOVA Works?"
      ]
    },
    {
      "cell_type": "markdown",
      "id": "d8848824",
      "metadata": {
        "id": "d8848824"
      },
      "source": [
        "Statistical tests such as T-Test, Z-Test, etc. Most of them are good for univariate situations. On the other hand,\n",
        "the ANOVA test compares the means of different groups and reveals any statistical differences between them.\n",
        "\n",
        "ANOVA is used in the analysis of complex multivariate situations, and most of the bio-chemical, pharmaceutical, and\n",
        "science researchers depend heavily on ANOVA for studying the effect on the dependent variable by multiple independent\n",
        "variables.\n",
        "\n",
        "<b>To understand how ANOVA works, let’s consider a medical experiment example:</b>\n",
        "    \n",
        "To study the effectiveness of different hypertension medicines, scientists usually plan and conduct experiments to\n",
        "understand the relationship between the type of medicine and the resulting blood pressure. The sample population is,\n",
        "obviously, a set of people or patients. The scientists generally divide the sample population into multiple groups,\n",
        "and each group is administered a particular medicine for a trial period.\n",
        "\n",
        "In the end, hypertension levels are measured for each of the individual patients. For each group, the mean hypertension\n",
        "level is calculated. ANOVA then helps in comparing these group ‘means’ to find out if they are statistically varying or\n",
        "similar.\n"
      ]
    },
    {
      "cell_type": "markdown",
      "id": "53f8bc00",
      "metadata": {
        "id": "53f8bc00"
      },
      "source": [
        "# ANOVA Terminologies\n"
      ]
    },
    {
      "cell_type": "markdown",
      "id": "28f3837f",
      "metadata": {
        "id": "28f3837f"
      },
      "source": [
        "ANOVA uses many concepts and compares and produces the outcomes.\n",
        "\n",
        "* <b>Sample and Grand Means:</b> A sample mean is the average value for a specific group. The grand mean, on the\n",
        "    other hand, is the average of the sample means from various samples.\n",
        "    \n",
        "\n",
        "* <b>Dependent Variable:</b> It is the item or subject under investigation that is supposed to be influenced by many\n",
        "    other independent variables.\n",
        "    \n",
        "\n",
        "* <b>Independent Variables:</b> There are many of them. Each of them could have an impact on or influence the\n",
        "    Dependent Variable.\n",
        "    \n",
        "\n",
        "* <b>Factor:</b> Independent variables are frequently referred to as factors.\n",
        "\n",
        "\n",
        "* <b>Levels:</b> It denotes the different values of factors that are used in any typical experiment. For example, the\n",
        "    different medicines cited in the previous section.\n",
        "\n",
        "\n",
        "* <b>F-Statistic:</b> It is also known as F-Ratio. This is the outcome of ANOVA.\n",
        "\n",
        "\n",
        "* <b>Fixed-factor Model:</b> In this model, experiments use only a discrete set of levels of factors.\n",
        "\n",
        "\n",
        "* <b>Random-factor Model:</b> In this model, a random value of level is drawn from multiple possible values of the factor.\n",
        "\n"
      ]
    },
    {
      "cell_type": "markdown",
      "id": "9db8d6b0",
      "metadata": {
        "id": "9db8d6b0"
      },
      "source": [
        "# ANOVA Outcome"
      ]
    },
    {
      "cell_type": "markdown",
      "id": "bbc204d5",
      "metadata": {
        "id": "bbc204d5"
      },
      "source": [
        "\n",
        "ANOVA's outcome is known as the ‘F statistic’. This is a ratio that shows the difference between the variation in\n",
        "the inter-group and the intra-group. With the help of this ratio, one can conclude whether the Null Hypothesis is\n",
        "true and either accept it or reject it.\n"
      ]
    },
    {
      "cell_type": "markdown",
      "id": "4083a77b",
      "metadata": {
        "id": "4083a77b"
      },
      "source": [
        "## Assumptions and Types of ANOVA\n",
        "\n",
        "\n"
      ]
    },
    {
      "cell_type": "markdown",
      "id": "15ca6883",
      "metadata": {
        "id": "15ca6883"
      },
      "source": [
        "<b>Purpose and Procedure of ANOVA </b>\n",
        "ANOVA is an omnibus test statistic. The null hypothesis for ANOVA is that there is no significant difference in the\n",
        "‘mean’ values among the groups. The alternate hypothesis, on the other hand, concludes that there are at least some\n",
        "significant differences.\n",
        "\n",
        "ANOVA makes the following assumptions about the probability distribution of the responses:\n",
        "\n",
        "1. Independence of observations\n",
        "\n",
        "2. Normalcy\n",
        "\n",
        "3. Equality of variances\n",
        "\n",
        "\n",
        "The first one is obvious and needs no further description. The normalcy indicates that the distribution of the\n",
        "'residuals' is normal. The equality of variances essentially means that the variance of data in the groups should be\n",
        "the same.\n",
        "\n",
        "<b>Note:</b> Assumptions also depend on the types of ANOVA used\n",
        "\n"
      ]
    },
    {
      "cell_type": "markdown",
      "id": "a576c028",
      "metadata": {
        "id": "a576c028"
      },
      "source": [
        "# Types of ANOVA"
      ]
    },
    {
      "cell_type": "markdown",
      "id": "d67f573e",
      "metadata": {
        "id": "d67f573e"
      },
      "source": [
        "There are two types of ANOVA:\n",
        "\n",
        "1. One-way ANOVA\n",
        "\n",
        "\n",
        "2. Two-way ANOVA\n",
        "\n",
        "These are also referred to as one-factor ANOVA and two-factor ANOVA respectively.\n",
        "\n"
      ]
    },
    {
      "cell_type": "markdown",
      "id": "e41f7bcf",
      "metadata": {
        "id": "e41f7bcf"
      },
      "source": [
        "### One-Way ANOVA"
      ]
    },
    {
      "cell_type": "markdown",
      "id": "b08d3e4c",
      "metadata": {
        "id": "b08d3e4c"
      },
      "source": [
        "This is also known as simple ANOVA or just ANOVA. This test is suitable for experiments with only one factor\n",
        "(independent variable) with two or more levels. A one-way ANOVA assumes the following:\n",
        "\n",
        "* Independence\n",
        "\n",
        "\n",
        "* Normalcy\n",
        "\n",
        "\n",
        "* Variance\n",
        "\n",
        "\n",
        "* Continuous data\n",
        "\n",
        "The one-way ANOVA needs to operate on continuous data.\n",
        "\n"
      ]
    },
    {
      "cell_type": "markdown",
      "id": "5caa02a6",
      "metadata": {
        "id": "5caa02a6"
      },
      "source": [
        "# Example:"
      ]
    },
    {
      "cell_type": "markdown",
      "id": "5a98c7fa",
      "metadata": {
        "id": "5a98c7fa"
      },
      "source": [
        "\n",
        "\n",
        "Three different categories of plants can be differentiated on the basis of their weights. A dataset with various plants and\n",
        "their weights are given. Construct a hypothetical test to determine the category of a plant at a significance level of 0.05."
      ]
    },
    {
      "cell_type": "code",
      "execution_count": null,
      "id": "b8f96c15",
      "metadata": {
        "id": "b8f96c15"
      },
      "outputs": [],
      "source": [
        "import pandas as pd\n",
        "from scipy import stats\n",
        "from statsmodels.stats import weightstats as stests\n",
        "df = pd.read_csv('plant.csv')\n"
      ]
    },
    {
      "cell_type": "code",
      "execution_count": null,
      "id": "5eea840f",
      "metadata": {
        "id": "5eea840f",
        "outputId": "7cf7ed12-3d0a-49c5-fa01-2f1ce531e041"
      },
      "outputs": [
        {
          "name": "stdout",
          "output_type": "stream",
          "text": [
            "p-value for significance is:  0.0159099583256229\n",
            "reject null hypothesis\n"
          ]
        }
      ],
      "source": [
        "df = df[['weight','group']]\n",
        "groups = pd.unique(df.group.values)\n",
        "data = {grp:df['weight'][df.group == grp] for grp in groups}\n",
        "\n",
        "F, p = stats.f_oneway(data['ctrl'], data['trt1'], data['trt2'])\n",
        "print(\"p-value for significance is: \", p)\n",
        "if p<0.05:\n",
        "    print(\"reject null hypothesis\")\n",
        "else:\n",
        "    print(\"accept null hypothesis\")"
      ]
    },
    {
      "cell_type": "markdown",
      "id": "291691d1",
      "metadata": {
        "id": "291691d1"
      },
      "source": [
        "### Two-Way ANOVA"
      ]
    },
    {
      "cell_type": "markdown",
      "id": "dcf4f55a",
      "metadata": {
        "id": "dcf4f55a"
      },
      "source": [
        "The two-way ANOVA is used when there are two or more independent variables. It is also known as full factorial ANOVA or\n",
        "two-factor ANOVA. This test assumes importance when every possible permutation of factors and their levels are used.\n",
        "It is based on the following assumptions:\n",
        "\n",
        "* Independence\n",
        "\n",
        "\n",
        "* Normalcy\n",
        "\n",
        "\n",
        "* Variance\n",
        "\n",
        "\n",
        "* Continuous data\n",
        "\n",
        "\n",
        "* Categories\n",
        "\n",
        "For two-way ANOVA, the independent variables should be in separate groups or categories.\n",
        "\n"
      ]
    },
    {
      "cell_type": "markdown",
      "id": "c9cee631",
      "metadata": {
        "id": "c9cee631"
      },
      "source": [
        "N-Way ANOVA\n",
        "\n",
        "With increasing independent variables, ANOVA moves into a more complex category of problems which are tackled by N-Way\n",
        "ANOVA or MANOVA. The term MANOVA stands for multivariate analysis of variance.\n",
        "\n",
        "<b>For example:</b>\n",
        "    \n",
        "Analysis of voter preferences based on gender, age, ethnicity, etc., can be studied using MANOVA\n",
        "\n"
      ]
    },
    {
      "cell_type": "markdown",
      "id": "456b687b",
      "metadata": {
        "id": "456b687b"
      },
      "source": [
        "# Example:"
      ]
    },
    {
      "cell_type": "markdown",
      "id": "8efc2237",
      "metadata": {
        "id": "8efc2237"
      },
      "source": [
        "\n",
        "The yield of crops depends on factors like fertilizers and water usage. A researcher wants to find conditions for\n",
        "a higher crop yield by each factor as well as with the factors grouped together."
      ]
    },
    {
      "cell_type": "code",
      "execution_count": null,
      "id": "71f317ce",
      "metadata": {
        "id": "71f317ce",
        "outputId": "eff8fb9a-94c4-4709-fef9-9308672bf633"
      },
      "outputs": [
        {
          "name": "stdout",
          "output_type": "stream",
          "text": [
            "Overall model F( 3, 16) =  4.112, p =  0.0243\n"
          ]
        },
        {
          "data": {
            "text/html": [
              "<div>\n",
              "<style scoped>\n",
              "    .dataframe tbody tr th:only-of-type {\n",
              "        vertical-align: middle;\n",
              "    }\n",
              "\n",
              "    .dataframe tbody tr th {\n",
              "        vertical-align: top;\n",
              "    }\n",
              "\n",
              "    .dataframe thead th {\n",
              "        text-align: right;\n",
              "    }\n",
              "</style>\n",
              "<table border=\"1\" class=\"dataframe\">\n",
              "  <thead>\n",
              "    <tr style=\"text-align: right;\">\n",
              "      <th></th>\n",
              "      <th>sum_sq</th>\n",
              "      <th>df</th>\n",
              "      <th>F</th>\n",
              "      <th>PR(&gt;F)</th>\n",
              "    </tr>\n",
              "  </thead>\n",
              "  <tbody>\n",
              "    <tr>\n",
              "      <th>C(Fert)</th>\n",
              "      <td>69.192</td>\n",
              "      <td>1.0</td>\n",
              "      <td>5.766000</td>\n",
              "      <td>0.028847</td>\n",
              "    </tr>\n",
              "    <tr>\n",
              "      <th>C(Water)</th>\n",
              "      <td>63.368</td>\n",
              "      <td>1.0</td>\n",
              "      <td>5.280667</td>\n",
              "      <td>0.035386</td>\n",
              "    </tr>\n",
              "    <tr>\n",
              "      <th>C(Fert):C(Water)</th>\n",
              "      <td>15.488</td>\n",
              "      <td>1.0</td>\n",
              "      <td>1.290667</td>\n",
              "      <td>0.272656</td>\n",
              "    </tr>\n",
              "    <tr>\n",
              "      <th>Residual</th>\n",
              "      <td>192.000</td>\n",
              "      <td>16.0</td>\n",
              "      <td>NaN</td>\n",
              "      <td>NaN</td>\n",
              "    </tr>\n",
              "  </tbody>\n",
              "</table>\n",
              "</div>"
            ],
            "text/plain": [
              "                   sum_sq    df         F    PR(>F)\n",
              "C(Fert)            69.192   1.0  5.766000  0.028847\n",
              "C(Water)           63.368   1.0  5.280667  0.035386\n",
              "C(Fert):C(Water)   15.488   1.0  1.290667  0.272656\n",
              "Residual          192.000  16.0       NaN       NaN"
            ]
          },
          "execution_count": 39,
          "metadata": {},
          "output_type": "execute_result"
        }
      ],
      "source": [
        "# Import the necessary libraries\n",
        "import statsmodels.api as sm\n",
        "from statsmodels.formula.api import ols\n",
        "\n",
        "# Load the crop_yield.csv dataset\n",
        "df_anova2 = pd.read_csv(\"crop_yield.csv\")\n",
        "\n",
        "# Fit the model\n",
        "model = ols('Yield ~ C(Fert)*C(Water)', df_anova2).fit()\n",
        "\n",
        "# Print the overall model\n",
        "print(f\"Overall model F({model.df_model: .0f},{model.df_resid: .0f}) = {model.fvalue: .3f}, p = {model.f_pvalue: .4f}\")\n",
        "\n",
        "# Perform ANOVA and print the table\n",
        "res = sm.stats.anova_lm(model, typ= 2)\n",
        "print(res)"
      ]
    },
    {
      "cell_type": "markdown",
      "id": "LVQIzu0FqyTh",
      "metadata": {
        "id": "LVQIzu0FqyTh"
      },
      "source": [
        "**Observation:**\n",
        "\n",
        "The overall model result, `F(3, 16) = 4.112, p = 0.0243`, tells you about the fit of the entire model, including all the predictors (Fert, Water, and the interaction term). An F-statistic of 4.112 and p-value of 0.0243 (which is less than the usual significance level of 0.05) indicates that the model as a whole is statistically significant, meaning there is evidence that at least one of the predictors has a non-zero effect.\n",
        "\n",
        "The ANOVA table provides results for each of the main effects and the interaction:\n",
        "\n",
        "1. **Fertilizer (Fert):** The p-value for Fert is 0.028847, which is less than 0.05. This indicates that there is a statistically significant difference in crop yield between the different types of fertilizer.\n",
        "\n",
        "2. **Water (Water):** The p-value for Water is 0.035386, which is also less than 0.05. This indicates that there is a statistically significant difference in crop yield between different water levels.\n",
        "\n",
        "3. **Interaction between Fertilizer and Water (Fert:Water):** The p-value for the interaction is 0.272656, which is greater than 0.05. This suggests that there is not a statistically significant interaction between Fert and Water. In other words, the effect of the type of fertilizer on crop yield does not depend on the level of water, and vice versa.\n",
        "\n",
        "4. **Residual:** The Residual row provides the sum of squares of the residuals, which are the differences between the observed and predicted values. This row does not provide an F statistic or p-value.\n",
        "\n",
        "These results suggest that both types of fertilizer and water levels have a significant effect on crop yield when considered individually, but there's no evidence to suggest that the effect of one depends on the level of the other."
      ]
    },
    {
      "cell_type": "markdown",
      "id": "07f97621",
      "metadata": {
        "id": "07f97621"
      },
      "source": [
        "# Partition of Variance"
      ]
    },
    {
      "cell_type": "markdown",
      "id": "accda9d6",
      "metadata": {
        "id": "accda9d6"
      },
      "source": [
        "Partition of variance is a statistical analysis of the distributions of two or more samples in a population."
      ]
    },
    {
      "cell_type": "markdown",
      "id": "579af8e0",
      "metadata": {
        "id": "579af8e0"
      },
      "source": [
        "![PartitionVar.png](https://s3.us-east-1.amazonaws.com/static2.simplilearn.com/lms/testpaper_images/ADSP/Advanced_Statistics/PartitionVar.png)"
      ]
    },
    {
      "cell_type": "markdown",
      "id": "db7fc244",
      "metadata": {
        "id": "db7fc244"
      },
      "source": [
        "The figure shows the distribution of three different groups, A, B, and C from a typical population. The PDFs are marked\n",
        "in different colors for clarity. They all have mean = 20 and a standard deviation = 3.\n",
        "\n",
        "The spread in A, B, and C is between 10 and 30, and is denoted by var1.\n",
        "\n",
        "Now, compare this with the other figure. Group A, B, and C have means of 15, 20 & 25, respectively. However, the\n",
        "standard deviation for these three distributions is 3\n"
      ]
    },
    {
      "cell_type": "markdown",
      "id": "c6a6b68e",
      "metadata": {
        "id": "c6a6b68e"
      },
      "source": [
        "![var2.png](https://s3.us-east-1.amazonaws.com/static2.simplilearn.com/lms/testpaper_images/ADSP/Advanced_Statistics/var2.png)"
      ]
    },
    {
      "cell_type": "markdown",
      "id": "8fe7425f",
      "metadata": {
        "id": "8fe7425f"
      },
      "source": [
        "There are similar distribution groups marked A, B, and C, but the variance range, var2, is between 5 and 35.\n",
        "\n",
        "For var1, the mean is almost the same for A, B, and C, around 20. In var2, the means for A, B, and C are approximately\n",
        "15, 20, and 25, respectively. This means that as the difference between the means of the groups varies the dispersion\n",
        "range also varies.\n",
        "\n",
        "This concept is cemented by the variance values of the groups in each case. Variance for var1 is around 8.69, and for\n",
        "var2 it is 20.68.\n",
        "\n",
        "Two recognizable components of variances are inter-group (within a group) and intra-group (between two or more groups).\n",
        "The former is also called ‘error’ or ‘residual variance’.\n",
        "\n"
      ]
    },
    {
      "cell_type": "markdown",
      "id": "c99b3e7a",
      "metadata": {
        "id": "c99b3e7a"
      },
      "source": [
        "# Partitioning"
      ]
    },
    {
      "cell_type": "markdown",
      "id": "df9bcc58",
      "metadata": {
        "id": "df9bcc58"
      },
      "source": [
        "The sum of squares is used to indirectly partition variance.\n",
        "\n",
        "The equation for Variance is shown below:\n",
        "\n",
        "\n",
        "\\begin{gather*}  \n",
        "{\\sigma^2} = \\Sigma{(x – x̄)^2} / {(n-1)}\n",
        "\\end{gather*}\n",
        "\n",
        "\n",
        "Here the group mean, called GM, is considered.\n",
        "\n",
        "The equation for Total Sum of Squares or  ${SS_{total}}$ is shown below:\n",
        "\n",
        "\\begin{gather*}\n",
        "SS_{total} = \\Sigma{(x – x̄)^2}\n",
        "\\end{gather*}\n",
        "\n",
        "Similarly, the Error Sum of Squares:\n",
        "\n",
        "\\begin{gather*}\n",
        "For A, {SS_{error} = \\Sigma (x_A - x̄_A)^2}\n",
        "\\end{gather*}\n",
        "\n",
        "\n",
        "\\begin{gather*}\n",
        "For B, {SS_{error} = \\Sigma (x_B - x̄_B)^2}  \n",
        "\\end{gather*}\n",
        "\n",
        "\n",
        "\\begin{gather*}\n",
        "For C, {SS_{error} = \\Sigma (x_C - x̄_C)^2}\n",
        "\\end{gather*}  \n",
        "\n",
        "The  ${SS_{error}}$ = ${\\Sigma (x_A - x̄_A)^2}$  + ${\\Sigma (x_B - x̄_B)^2}$ + ${\\Sigma (x_C - x̄_C)^2}$\n",
        "\n",
        "The  ${SS_{total}}$ or the sum of squares between groups and the error is the difference  ${SS_{total}} -  {SS_{error}}$\n",
        "\n",
        "\n"
      ]
    },
    {
      "cell_type": "markdown",
      "id": "f6e25c54",
      "metadata": {
        "id": "f6e25c54"
      },
      "source": [
        "# F-Distribution"
      ]
    },
    {
      "cell_type": "markdown",
      "id": "85541be8",
      "metadata": {
        "id": "85541be8"
      },
      "source": [
        "The F-distribution is similar to and related to χ2 distribution. the F-distribution or F-ratio, also known as Snedecor's\n",
        "F distribution or the Fisher–Snedecor distribution.\n",
        "\n",
        "F-distribution is essentially a continuous probability distribution that arises frequently as the null distribution of a\n",
        "test statistic, most notably in the analysis of variance (ANOVA) and other  F-Test.\n",
        "\n",
        "Unlike the chi-square distribution, F-distribution deals with multiple random variables.\n",
        "\n",
        "Consider a situation of two independent random variables, R1 and R2 that have an χ2 distribution with Degrees of\n",
        "Freedom (DOF) d1 and d2 respectively. The F-distribution or the F-ratio for this situation is expressed as below:\n",
        "\n",
        "F = (R1/d1)/(R2/d2)\n",
        "\n"
      ]
    },
    {
      "cell_type": "markdown",
      "id": "162b05c1",
      "metadata": {
        "id": "162b05c1"
      },
      "source": [
        "## The Probability Density Function of F-Distribution"
      ]
    },
    {
      "cell_type": "markdown",
      "id": "c04711ba",
      "metadata": {
        "id": "c04711ba"
      },
      "source": [
        "The probability density function for F-distribution can be computed using the below formula:"
      ]
    },
    {
      "cell_type": "markdown",
      "id": "c5537963",
      "metadata": {
        "id": "c5537963"
      },
      "source": [
        "![PD_of_F.png](https://s3.us-east-1.amazonaws.com/static2.simplilearn.com/lms/testpaper_images/ADSP/Advanced_Statistics/PD_of_F.png)"
      ]
    },
    {
      "cell_type": "markdown",
      "id": "a8f4f99b",
      "metadata": {
        "id": "a8f4f99b"
      },
      "source": [
        "The formula is valid for all positive values of x and the Degree of Freedom, d1 and d2. The ‘B’ in the formula represents\n",
        "the ‘beta function’."
      ]
    },
    {
      "cell_type": "markdown",
      "id": "622dddb3",
      "metadata": {
        "id": "622dddb3"
      },
      "source": [
        "### Graph of F-distribution’s PDF"
      ]
    },
    {
      "cell_type": "markdown",
      "id": "4b758981",
      "metadata": {
        "id": "4b758981"
      },
      "source": [
        "A typical PDF of F-distribution is shown below:\n",
        "\n"
      ]
    },
    {
      "cell_type": "markdown",
      "id": "7f18c83f",
      "metadata": {
        "id": "7f18c83f"
      },
      "source": [
        "![F_image.png](https://s3.us-east-1.amazonaws.com/static2.simplilearn.com/lms/testpaper_images/ADSP/Advanced_Statistics/F_image.png)"
      ]
    },
    {
      "cell_type": "markdown",
      "id": "b83160a9",
      "metadata": {
        "id": "b83160a9"
      },
      "source": [
        "The figure suggests that the shape of the F-distribution curve depends on the two Degrees of Freedom, d1 and d2."
      ]
    },
    {
      "cell_type": "markdown",
      "id": "e68e0504",
      "metadata": {
        "id": "e68e0504"
      },
      "source": [
        "### Description of F-distribution:\n"
      ]
    },
    {
      "cell_type": "markdown",
      "id": "393fc399",
      "metadata": {
        "id": "393fc399"
      },
      "source": [
        "F-distribution is always described by stating the number of DOFs associated with the standard deviation in the\n",
        "numerator of the f statistic first.\n",
        "\n",
        "Thus, f(6, 8) refers to an F-distribution with $d_1 = 6 $ and $d_2 = 8$ Degrees of Freedom. Likewise, f(8, 6) also refers\n",
        "to an F-distribution with $d_1 = 8$ and $d_2 = 6$ degrees of freedom.\n",
        "\n",
        "<b>Note:</b> The curves represented by f(6, 8) and f(8, 6) are different from each other.\n",
        "\n"
      ]
    },
    {
      "cell_type": "markdown",
      "id": "62baeeae",
      "metadata": {
        "id": "62baeeae"
      },
      "source": [
        "# F-Distribution Using Python"
      ]
    },
    {
      "cell_type": "markdown",
      "id": "94eb06cf",
      "metadata": {
        "id": "94eb06cf"
      },
      "source": [
        "A random variable\n",
        "\n",
        "$ F \\sim \\frac {\\chi_1^2/v1}{\\chi_2^2/v2} $"
      ]
    },
    {
      "cell_type": "code",
      "execution_count": null,
      "id": "f8c2f5c4",
      "metadata": {
        "id": "f8c2f5c4",
        "outputId": "9b0d368c-1acd-46d7-f732-a305ea8df1d8"
      },
      "outputs": [
        {
          "data": {
            "text/plain": [
              "<matplotlib.legend.Legend at 0x1c87969a610>"
            ]
          },
          "execution_count": 40,
          "metadata": {},
          "output_type": "execute_result"
        },
        {
          "data": {
            "image/png": "[encoded data removed]",
            "text/plain": [
              "<Figure size 1800x900 with 1 Axes>"
            ]
          },
          "metadata": {},
          "output_type": "display_data"
        }
      ],
      "source": [
        "# Code for F-distribution\n",
        "import matplotlib.pyplot as plt\n",
        "import numpy as np\n",
        "from scipy.stats import f\n",
        "x = np.linspace(0, 4.5, 1000)\n",
        "data_1 = f(1, 1, 0)\n",
        "data_2 = f(5,8, 0)\n",
        "data_3 = f(4, 4, 0)\n",
        "data_4 = f(100, 200, 0)\n",
        "plt.figure(figsize=(12, 6),dpi = 150)\n",
        "plt.plot(x,data_1.pdf(x), label = '1,1')\n",
        "plt.plot(x, data_2.pdf(x), label = '5,8')\n",
        "plt.plot(x, data_3.pdf(x), label = '4,4')\n",
        "plt.plot(x, data_4.pdf(x), label = '100,200')\n",
        "plt.legend()"
      ]
    },
    {
      "cell_type": "markdown",
      "id": "42ce1b13",
      "metadata": {
        "id": "42ce1b13"
      },
      "source": [
        "$ H_0 : \\sigma_1^2 = \\sigma_2^2 $ <br>\n",
        "$ H_1 : \\sigma_1^2 \\ne \\sigma_2^2 $"
      ]
    },
    {
      "cell_type": "code",
      "execution_count": null,
      "id": "a9ab9022",
      "metadata": {
        "id": "a9ab9022"
      },
      "outputs": [],
      "source": [
        "import random\n",
        "random.seed(20)"
      ]
    },
    {
      "cell_type": "code",
      "execution_count": null,
      "id": "d8d42462",
      "metadata": {
        "id": "d8d42462"
      },
      "outputs": [],
      "source": [
        "# Generate data with same std\n",
        "x = np.array([random.gauss(100,15) for x in range(20)])\n",
        "y = np.array([random.gauss(100,15) for x in range(20)])"
      ]
    },
    {
      "cell_type": "code",
      "execution_count": null,
      "id": "0754a357",
      "metadata": {
        "id": "0754a357"
      },
      "outputs": [],
      "source": [
        "# Calculate f_test_statistic\n",
        "f_test_stat = np.var(x,ddof=1) / np.var(y,ddof = 1)"
      ]
    },
    {
      "cell_type": "code",
      "execution_count": null,
      "id": "0721528e",
      "metadata": {
        "id": "0721528e"
      },
      "outputs": [],
      "source": [
        "dfn = x.size - 1\n",
        "dfd = y.size - 1"
      ]
    },
    {
      "cell_type": "code",
      "execution_count": null,
      "id": "8290f668",
      "metadata": {
        "id": "8290f668"
      },
      "outputs": [],
      "source": [
        "# Calculate p value\n",
        "p_value = 1 - f.cdf(f_test_stat,dfn,dfd)"
      ]
    },
    {
      "cell_type": "code",
      "execution_count": null,
      "id": "c744ff09",
      "metadata": {
        "id": "c744ff09",
        "outputId": "5d53828f-95c2-445e-e5ce-446116d8c62a"
      },
      "outputs": [
        {
          "data": {
            "text/plain": [
              "0.027388728443720423"
            ]
          },
          "execution_count": 46,
          "metadata": {},
          "output_type": "execute_result"
        }
      ],
      "source": [
        "p_value"
      ]
    },
    {
      "cell_type": "markdown",
      "id": "5ce41ccd",
      "metadata": {
        "id": "5ce41ccd"
      },
      "source": [
        "p_value < 0.05 | Reject the Null Hypothesis | Variance is same"
      ]
    },
    {
      "cell_type": "code",
      "execution_count": null,
      "id": "ed0afb88",
      "metadata": {
        "id": "ed0afb88"
      },
      "outputs": [],
      "source": [
        "x = np.array([random.gauss(100,15) for x in range(20)])\n",
        "y = np.array([random.gauss(200,15) for x in range(20)])"
      ]
    },
    {
      "cell_type": "code",
      "execution_count": null,
      "id": "12097040",
      "metadata": {
        "id": "12097040"
      },
      "outputs": [],
      "source": [
        "f_test_stat = np.var(x,ddof=1) / np.var(y,ddof = 1)\n",
        "dfn = x.size - 1\n",
        "dfd = y.size - 1\n",
        "p_value = 1 - f.cdf(f_test_stat,dfn,dfd)"
      ]
    },
    {
      "cell_type": "code",
      "execution_count": null,
      "id": "979ac324",
      "metadata": {
        "id": "979ac324",
        "outputId": "d9baa58f-d01c-4d37-b359-a163bdd1e161"
      },
      "outputs": [
        {
          "data": {
            "text/plain": [
              "0.6890214865041783"
            ]
          },
          "execution_count": 49,
          "metadata": {},
          "output_type": "execute_result"
        }
      ],
      "source": [
        "p_value"
      ]
    },
    {
      "cell_type": "markdown",
      "id": "831d91b5",
      "metadata": {
        "id": "831d91b5"
      },
      "source": [
        "p_value > 0.05 | Accept Null Hypothesis | Variance is not same"
      ]
    },
    {
      "cell_type": "markdown",
      "id": "db406d61",
      "metadata": {
        "id": "db406d61"
      },
      "source": [
        "## F-Test"
      ]
    },
    {
      "cell_type": "markdown",
      "id": "1d683429",
      "metadata": {
        "id": "1d683429"
      },
      "source": [
        "The F-test is a statistical test that is used to compare the variances of two populations. It is often used in the context of analysis of variance (ANOVA) and regression analysis.\n",
        "\n",
        "F-Test is any statistical test where the test statistic has an F-distribution under the null hypothesis. It is\n",
        "mostly used when comparing statistical models fitted to a data set and identifying the model that best fits the\n",
        "population from which the data were sampled.\n",
        "\n",
        "F-Test always implies the comparison of two variances. It resembles ANOVA.\n",
        "\n",
        "\n",
        "\n",
        "\n"
      ]
    },
    {
      "cell_type": "markdown",
      "id": "b6857067",
      "metadata": {
        "id": "b6857067"
      },
      "source": [
        "### Comparing Two Variances"
      ]
    },
    {
      "cell_type": "markdown",
      "id": "a1eafa8a",
      "metadata": {
        "id": "a1eafa8a"
      },
      "source": [
        "The F Test compares two variances, $s_1$ and $s_2$, by calculating their ratio. The result is always positive, as\n",
        "variances are always positive.\n",
        "\n",
        "The equation for the F-Test is shown below:\n",
        "\\begin{gather*}\n",
        "F = {s_1}^2 / {s_2}^2\n",
        "\\end{gather*}\n",
        "\n",
        "When the variances are equal, their ratio is 1.\n"
      ]
    },
    {
      "cell_type": "markdown",
      "id": "fa9fe5ba",
      "metadata": {
        "id": "fa9fe5ba"
      },
      "source": [
        "<b>Example:</b>\n",
        "\n",
        "If two data sets are available with sample 1 (variance of 8) and sample 2 (variance of 8), the ratio would be 10/10 = 1.\n",
        "\n",
        "As a thumb rule, It is required to test whether the population variances are equal when running an F-Test. In other words,\n",
        "if the samples are from the same population, the variances are 1. Then the null hypothesis will always be that the\n",
        "variances are equal.\n",
        "\n"
      ]
    },
    {
      "cell_type": "markdown",
      "id": "04eccf7c",
      "metadata": {
        "id": "04eccf7c"
      },
      "source": [
        "## Assumptions for F-Test"
      ]
    },
    {
      "cell_type": "markdown",
      "id": "e5d3a254",
      "metadata": {
        "id": "e5d3a254"
      },
      "source": [
        "1. The population distribution must be approximately fitting to the normal distribution (it should resemble a bell curve).\n",
        "\n",
        "2. The samples must be independent of each other.\n",
        "\n",
        "3. The larger variance is always in the numerator, to force the test into a right-tailed test. Right-tailed tests\n",
        "   are easier to compute.\n",
        "    \n",
        "4. For two-tailed tests, alpha is to be taken at half-of-its value before finding the right critical value.\n",
        "\n",
        "5. If the standard deviations are available, square them to get the value of variances.\n",
        "\n",
        "6. If the degrees of freedom aren’t available in the F Table, use the larger critical value to avoid Type I errors.\n",
        "\n"
      ]
    },
    {
      "cell_type": "markdown",
      "id": "67a003f8",
      "metadata": {
        "id": "67a003f8"
      },
      "source": [
        "## Steps to Perform F-Test"
      ]
    },
    {
      "cell_type": "markdown",
      "id": "b3a51909",
      "metadata": {
        "id": "b3a51909"
      },
      "source": [
        "There are four simple steps for performing an F-Test:\n",
        "\n",
        "\n",
        "Step 1. State the Null Hypothesis and Alternate Hypothesis\n",
        "\n",
        "Step 2. Compute the F-value using the residual sum of squares, number of restrictions(m) and number of independent variables(k)\n",
        "\n",
        "<center><b>Formula: F = (SSE_1 – SSE_2 / m) / (SSE_2 / n-k)</b></center>\n",
        "\n",
        "Step 3. Find the F-statistic, the critical value\n",
        "\n",
        "<center><b>F-statistic = (variance  of  the  group  means) / (mean  of  the  within  group  variances)</b></center>\n",
        "\n",
        "Step 4. Based on the results, support or reject the null hypothesis\n",
        "\n"
      ]
    },
    {
      "cell_type": "markdown",
      "id": "e6ea02aa",
      "metadata": {
        "id": "e6ea02aa"
      },
      "source": [
        "<b>Note:</b> F-critical is calculated using the F-table, degree of freedoms and Significance level.If observed value\n",
        "of F is greater than the F-critical value then we reject the null hypothesis.\n"
      ]
    },
    {
      "cell_type": "markdown",
      "id": "46d69124",
      "metadata": {
        "id": "46d69124"
      },
      "source": [
        "# Use Case: Determine the Percentage of Defective User Data"
      ]
    },
    {
      "cell_type": "markdown",
      "id": "04bbd85b",
      "metadata": {
        "id": "04bbd85b"
      },
      "source": [
        "### Problem Statement:"
      ]
    },
    {
      "cell_type": "markdown",
      "id": "fda7e56f",
      "metadata": {
        "id": "fda7e56f"
      },
      "source": [
        "TeleCall uses four centers around the globe to process customer order forms. They audit a certain percentage of the\n",
        "customer order forms. Any error in order form renders it defective and has to be reworked before processing. The manager\n",
        "wants to check whether the defective percentage varies by centre. Analyze the data at 5% significance level and help\n",
        "the manager draw appropriate inferences"
      ]
    },
    {
      "cell_type": "markdown",
      "id": "95367d1b",
      "metadata": {
        "id": "95367d1b"
      },
      "source": [
        "### Dataset:"
      ]
    },
    {
      "cell_type": "markdown",
      "id": "5a45e7da",
      "metadata": {
        "id": "5a45e7da"
      },
      "source": [
        "**Dimensions:**\n",
        "* 4 variables\n",
        "* 300 observations\n"
      ]
    },
    {
      "cell_type": "markdown",
      "id": "8b66fe0a",
      "metadata": {
        "id": "8b66fe0a"
      },
      "source": [
        "#### Attribute Information:"
      ]
    },
    {
      "cell_type": "markdown",
      "id": "419377da",
      "metadata": {
        "id": "419377da"
      },
      "source": [
        "The dataset contains data from four different locations of accurate and erroneous user data."
      ]
    },
    {
      "cell_type": "code",
      "execution_count": null,
      "id": "8d4c66f1",
      "metadata": {
        "id": "8d4c66f1",
        "outputId": "125e28f8-7d92-4c89-f948-fb105598628b"
      },
      "outputs": [
        {
          "data": {
            "text/html": [
              "<div>\n",
              "<style scoped>\n",
              "    .dataframe tbody tr th:only-of-type {\n",
              "        vertical-align: middle;\n",
              "    }\n",
              "\n",
              "    .dataframe tbody tr th {\n",
              "        vertical-align: top;\n",
              "    }\n",
              "\n",
              "    .dataframe thead th {\n",
              "        text-align: right;\n",
              "    }\n",
              "</style>\n",
              "<table border=\"1\" class=\"dataframe\">\n",
              "  <thead>\n",
              "    <tr style=\"text-align: right;\">\n",
              "      <th></th>\n",
              "      <th>Phillippines</th>\n",
              "      <th>Indonesia</th>\n",
              "      <th>Malta</th>\n",
              "      <th>India</th>\n",
              "    </tr>\n",
              "  </thead>\n",
              "  <tbody>\n",
              "    <tr>\n",
              "      <th>0</th>\n",
              "      <td>Error Free</td>\n",
              "      <td>Error Free</td>\n",
              "      <td>Defective</td>\n",
              "      <td>Error Free</td>\n",
              "    </tr>\n",
              "    <tr>\n",
              "      <th>1</th>\n",
              "      <td>Error Free</td>\n",
              "      <td>Error Free</td>\n",
              "      <td>Error Free</td>\n",
              "      <td>Defective</td>\n",
              "    </tr>\n",
              "    <tr>\n",
              "      <th>2</th>\n",
              "      <td>Error Free</td>\n",
              "      <td>Defective</td>\n",
              "      <td>Defective</td>\n",
              "      <td>Error Free</td>\n",
              "    </tr>\n",
              "    <tr>\n",
              "      <th>3</th>\n",
              "      <td>Error Free</td>\n",
              "      <td>Error Free</td>\n",
              "      <td>Error Free</td>\n",
              "      <td>Error Free</td>\n",
              "    </tr>\n",
              "    <tr>\n",
              "      <th>4</th>\n",
              "      <td>Error Free</td>\n",
              "      <td>Error Free</td>\n",
              "      <td>Defective</td>\n",
              "      <td>Error Free</td>\n",
              "    </tr>\n",
              "  </tbody>\n",
              "</table>\n",
              "</div>"
            ],
            "text/plain": [
              "  Phillippines   Indonesia       Malta       India\n",
              "0   Error Free  Error Free   Defective  Error Free\n",
              "1   Error Free  Error Free  Error Free   Defective\n",
              "2   Error Free   Defective   Defective  Error Free\n",
              "3   Error Free  Error Free  Error Free  Error Free\n",
              "4   Error Free  Error Free   Defective  Error Free"
            ]
          },
          "execution_count": 63,
          "metadata": {},
          "output_type": "execute_result"
        }
      ],
      "source": [
        "customer = pd.read_csv('Customer+OrderForm.csv')\n",
        "customer.head()"
      ]
    },
    {
      "cell_type": "code",
      "execution_count": null,
      "id": "4f816399",
      "metadata": {
        "id": "4f816399",
        "outputId": "f4ed7470-afbf-46f0-ca71-1ab6d6e171d1"
      },
      "outputs": [
        {
          "data": {
            "text/html": [
              "<div>\n",
              "<style scoped>\n",
              "    .dataframe tbody tr th:only-of-type {\n",
              "        vertical-align: middle;\n",
              "    }\n",
              "\n",
              "    .dataframe tbody tr th {\n",
              "        vertical-align: top;\n",
              "    }\n",
              "\n",
              "    .dataframe thead th {\n",
              "        text-align: right;\n",
              "    }\n",
              "</style>\n",
              "<table border=\"1\" class=\"dataframe\">\n",
              "  <thead>\n",
              "    <tr style=\"text-align: right;\">\n",
              "      <th></th>\n",
              "      <th>Phillippines</th>\n",
              "      <th>Indonesia</th>\n",
              "      <th>Malta</th>\n",
              "      <th>India</th>\n",
              "    </tr>\n",
              "  </thead>\n",
              "  <tbody>\n",
              "    <tr>\n",
              "      <th>count</th>\n",
              "      <td>300</td>\n",
              "      <td>300</td>\n",
              "      <td>300</td>\n",
              "      <td>300</td>\n",
              "    </tr>\n",
              "    <tr>\n",
              "      <th>unique</th>\n",
              "      <td>2</td>\n",
              "      <td>2</td>\n",
              "      <td>2</td>\n",
              "      <td>2</td>\n",
              "    </tr>\n",
              "    <tr>\n",
              "      <th>top</th>\n",
              "      <td>Error Free</td>\n",
              "      <td>Error Free</td>\n",
              "      <td>Error Free</td>\n",
              "      <td>Error Free</td>\n",
              "    </tr>\n",
              "    <tr>\n",
              "      <th>freq</th>\n",
              "      <td>271</td>\n",
              "      <td>267</td>\n",
              "      <td>269</td>\n",
              "      <td>280</td>\n",
              "    </tr>\n",
              "  </tbody>\n",
              "</table>\n",
              "</div>"
            ],
            "text/plain": [
              "       Phillippines   Indonesia       Malta       India\n",
              "count           300         300         300         300\n",
              "unique            2           2           2           2\n",
              "top      Error Free  Error Free  Error Free  Error Free\n",
              "freq            271         267         269         280"
            ]
          },
          "execution_count": 64,
          "metadata": {},
          "output_type": "execute_result"
        }
      ],
      "source": [
        "customer.describe()"
      ]
    },
    {
      "cell_type": "code",
      "execution_count": null,
      "id": "32cf3be0",
      "metadata": {
        "id": "32cf3be0",
        "outputId": "c623d105-44cb-40fd-a53f-bd7706086fa0"
      },
      "outputs": [
        {
          "name": "stdout",
          "output_type": "stream",
          "text": [
            "Error Free    271\n",
            "Defective      29\n",
            "Name: Phillippines, dtype: int64\n",
            "Error Free    267\n",
            "Defective      33\n",
            "Name: Indonesia, dtype: int64\n",
            "Error Free    269\n",
            "Defective      31\n",
            "Name: Malta, dtype: int64\n",
            "Error Free    280\n",
            "Defective      20\n",
            "Name: India, dtype: int64\n"
          ]
        }
      ],
      "source": [
        "Phillippines_value=customer['Phillippines'].value_counts()\n",
        "Indonesia_value=customer['Indonesia'].value_counts()\n",
        "Malta_value=customer['Malta'].value_counts()\n",
        "India_value=customer['India'].value_counts()\n",
        "print(Phillippines_value)\n",
        "print(Indonesia_value)\n",
        "print(Malta_value)\n",
        "print(India_value)"
      ]
    },
    {
      "cell_type": "markdown",
      "id": "9474b958",
      "metadata": {
        "id": "9474b958"
      },
      "source": [
        "Based on the Error Free value and Defective value we will use chi-square Test"
      ]
    },
    {
      "cell_type": "code",
      "execution_count": null,
      "id": "c2b365b2",
      "metadata": {
        "id": "c2b365b2",
        "outputId": "f2416c82-5687-48fb-c66e-726bc063f949"
      },
      "outputs": [
        {
          "name": "stdout",
          "output_type": "stream",
          "text": [
            "T value is:  3.858960685820355\n",
            "P value is:  0.2771020991233135\n"
          ]
        }
      ],
      "source": [
        "chiStats = sp.stats.chi2_contingency([[271,267,269,280],[29,33,31,20]])\n",
        "print('T value is: ',chiStats[0])\n",
        "print('P value is: ',chiStats[1])"
      ]
    },
    {
      "cell_type": "code",
      "execution_count": null,
      "id": "8defaac5",
      "metadata": {
        "id": "8defaac5",
        "outputId": "52e74328-2f02-45a4-fde6-1c577a39f972"
      },
      "outputs": [
        {
          "name": "stdout",
          "output_type": "stream",
          "text": [
            "We accept Null Hypothesis\n"
          ]
        }
      ],
      "source": [
        "if chiStats[1] < 0.05:\n",
        "    print('We reject Null Hypothesis')\n",
        "else:\n",
        "    print('We accept Null Hypothesis')"
      ]
    },
    {
      "cell_type": "markdown",
      "id": "2a67f310",
      "metadata": {
        "id": "2a67f310"
      },
      "source": [
        "Since variables are not rejected hence, we cannot reject null hypothesis.\n",
        "Also, the proportion of defective percentage across the TeleCall center is same."
      ]
    },
    {
      "cell_type": "markdown",
      "id": "e6f3ce2e",
      "metadata": {
        "id": "e6f3ce2e"
      },
      "source": [
        "![Simplilearn_Logo](https://labcontent.simplicdn.net/data-content/content-assets/Data_and_AI/Logo_Powered_By_Simplilearn/SL_Logo_1.png)"
      ]
    },
    {
      "cell_type": "markdown",
      "id": "c4bd8e48",
      "metadata": {
        "id": "c4bd8e48"
      },
      "source": [
        "<b>Note: In this lesson, we saw the use of the Linear regression,fundamentals statistics, probability, and advanced statistics in details, and in the next upcoming lessons we are going to use these techniques.</b>"
      ]
    }
  ],
  "metadata": {
    "colab": {
      "provenance": []
    },
    "kernelspec": {
      "display_name": "Python 3 (ipykernel)",
      "language": "python",
      "name": "python3"
    },
    "language_info": {
      "codemirror_mode": {
        "name": "ipython",
        "version": 3
      },
      "file_extension": ".py",
      "mimetype": "text/x-python",
      "name": "python",
      "nbconvert_exporter": "python",
      "pygments_lexer": "ipython3",
      "version": "3.10.12"
    }
  },
  "nbformat": 4,
  "nbformat_minor": 5
}
