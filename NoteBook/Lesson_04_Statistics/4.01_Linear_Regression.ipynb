{
 "cells": [
  {
   "cell_type": "markdown",
   "metadata": {
    "tags": []
   },
   "source": [
    "# **Linear Algebra** "
   ]
  },
  {
   "cell_type": "markdown",
   "metadata": {},
   "source": [
    "# **Agenda** "
   ]
  },
  {
   "cell_type": "markdown",
   "metadata": {},
   "source": [
    "In this session, we will cover the following concepts with the help of a business use case:\n",
    "\n",
    "* Linear Algebra\n",
    "* Scalars and Vectors\n",
    "* Matrix and Matrix Operations \n",
    "* Rank of Matrix\n",
    "* Determinant of Matrix\n",
    "* Inverse of Matrix\n",
    "* Eigenvalues and Eigenvectors\n",
    "* Calculus in Linear Algebra"
   ]
  },
  {
   "cell_type": "markdown",
   "metadata": {},
   "source": [
    "# **Introduction to Linear Algebra** "
   ]
  },
  {
   "attachments": {},
   "cell_type": "markdown",
   "metadata": {},
   "source": [
    "It is a branch of mathematics that is essential for a deep understanding of machine learning. Although the field is vast, its basic concepts are invaluable for machine learning practitioners. In this introduction, linear algebra is considered from the perspective of machine learning.\n",
    "\n",
    "![matrix.PNG](https://s3.us-east-1.amazonaws.com/static2.simplilearn.com/lms/testpaper_images/ADSP/Advanced_Statistics/LinearRegression/matrix.PNG)\n",
    " \n",
    "The data in linear algebra is represented by linear equations. These in turn are represented by matrices and vectors. Matrices and vectors simplify the process of representing large amounts of information.\n",
    " \n",
    "A matrix consists of rows and columns of numbers, variables, or expressions.\n",
    " \n",
    "While building machine learning models, it is required to reduce the dimensions of data or \n",
    "select the right hyperparameters. It is here where the role of linear algebra in machine learning arises. This is because notations and formalizations of linear algebra can describe and execute complex operations used in machine learning. \n"
   ]
  },
  {
   "cell_type": "markdown",
   "metadata": {},
   "source": [
    "## The parts of linear algebra that are used in machine learning are: "
   ]
  },
  {
   "attachments": {},
   "cell_type": "markdown",
   "metadata": {},
   "source": [
    "1. **Notation:** A clear idea of notations simplifies the understanding of algorithms in papers and books. This is true even while reading Python code. \n",
    "\n",
    "2. **Operations:** It is easier to understand while working with vectors and matrices at an abstract level. The operations which are useful to perform on matrices and vectors are addition, multiplication, inversion, transpose, etc. \n",
    "\n",
    "![addmulsub.PNG](https://s3.us-east-1.amazonaws.com/static2.simplilearn.com/lms/testpaper_images/ADSP/Advanced_Statistics/LinearRegression/addmulsub.PNG)\n",
    "\n",
    "3. **Matrix factorization:** Matrix factorization is also essential for machine learning. Matrix decomposition methods like SVD and QR simplify regression algorithms. \n",
    " \n"
   ]
  },
  {
   "cell_type": "markdown",
   "metadata": {},
   "source": [
    "Linear algebra is a building block for machine learning algorithms, it helps the ML practitioner tweak the parameters of the algorithms to achieve the desired accuracy. The practitioner will be able to develop algorithms from scratch and devise new ones from existing templates."
   ]
  },
  {
   "cell_type": "markdown",
   "metadata": {},
   "source": [
    "## Scalars and Vectors "
   ]
  },
  {
   "cell_type": "markdown",
   "metadata": {},
   "source": [
    "A number of measurable quantities, such as length, area, and volume, can be completely determined by specifying only their magnitude. These quantities are known as scalars.\n",
    "\n",
    "A vector quantity is defined as the physical quantity that has both directions as well as magnitude. Such as velocity, force, and acceleration require both a magnitude and a direction for their description. \n"
   ]
  },
  {
   "attachments": {},
   "cell_type": "markdown",
   "metadata": {},
   "source": [
    "**For example:**\n",
    "Wind velocity is a vector that has a speed and direction, such as 15 miles/hour northeast. \n",
    "Geometrically, vectors are usually represented by arrows or directed line segments. \n",
    " \n",
    "Linear algebra is the study of vectors. At the most general level, vectors are ordered finite lists of numbers. Vectors are the most fundamental mathematical objects in machine learning. These are used to represent attributes of entities such as income, test scores, etc. \n",
    "\n",
    "Vector Representation:\n",
    "![vectora.PNG](https://s3.us-east-1.amazonaws.com/static2.simplilearn.com/lms/testpaper_images/ADSP/Advanced_Statistics/LinearRegression/vectora.PNG)\n",
    "\n",
    "\n",
    "<center><b> $ \\vec{x} \\vec{x} $</b></center>\n",
    "\n",
    "\n",
    "\n",
    "Vectors are a type of mathematical object that can be added together or multiplied by a number to obtain another object of the same kind. \n"
   ]
  },
  {
   "attachments": {},
   "cell_type": "markdown",
   "metadata": {},
   "source": [
    "![vectoraddsub.PNG](https://s3.us-east-1.amazonaws.com/static2.simplilearn.com/lms/testpaper_images/ADSP/Advanced_Statistics/LinearRegression/vectoraddsub.PNG)"
   ]
  },
  {
   "cell_type": "markdown",
   "metadata": {},
   "source": [
    "**For example:** \n",
    "\n",
    "If a vector x represents the math score x = math_scores and a second vector \n",
    "y = science_scores, then both can be added together to obtain a third vector \n",
    "\n",
    "z = x + y. \n",
    "\n",
    "\n",
    "\n",
    "\n",
    "\n"
   ]
  },
  {
   "attachments": {},
   "cell_type": "markdown",
   "metadata": {},
   "source": [
    "![mathvector.png](https://s3.us-east-1.amazonaws.com/static2.simplilearn.com/lms/testpaper_images/ADSP/Advanced_Statistics/LinearRegression/mathvector.png)"
   ]
  },
  {
   "cell_type": "markdown",
   "metadata": {},
   "source": [
    "**For example:**\n",
    "\n",
    "If a vector x is multiplied by constant 2 then 2 X x = 2x, will be a vector. "
   ]
  },
  {
   "cell_type": "markdown",
   "metadata": {},
   "source": [
    "## Dot Product of Two Vectors"
   ]
  },
  {
   "attachments": {},
   "cell_type": "markdown",
   "metadata": {},
   "source": [
    "The dot product of two vectors is the sum of the product of the corresponding elements of two vectors.\n",
    "![dot1.PNG](https://s3.us-east-1.amazonaws.com/static2.simplilearn.com/lms/testpaper_images/ADSP/Advanced_Statistics/LinearRegression/dot1.PNG)"
   ]
  },
  {
   "attachments": {},
   "cell_type": "markdown",
   "metadata": {},
   "source": [
    "In vector algebra, if two vectors are given as:\n",
    "    \n",
    "![dot2.PNG](https://s3.us-east-1.amazonaws.com/static2.simplilearn.com/lms/testpaper_images/ADSP/Advanced_Statistics/LinearRegression/dot2.PNG)"
   ]
  },
  {
   "cell_type": "markdown",
   "metadata": {},
   "source": [
    "### Example of the dot product of two vectors: "
   ]
  },
  {
   "cell_type": "markdown",
   "metadata": {},
   "source": [
    "A numerical example of the dot product of two vectors is shown below:\n",
    "    \n",
    "\n"
   ]
  },
  {
   "attachments": {},
   "cell_type": "markdown",
   "metadata": {},
   "source": [
    "![dot3.PNG](https://s3.us-east-1.amazonaws.com/static2.simplilearn.com/lms/testpaper_images/ADSP/Advanced_Statistics/LinearRegression/dot3.PNG)"
   ]
  },
  {
   "cell_type": "markdown",
   "metadata": {},
   "source": [
    "## Matrix representation of dot product  "
   ]
  },
  {
   "cell_type": "markdown",
   "metadata": {},
   "source": [
    "The dot product of vectors can be easily computed if the vectors are represented by row or column matrices. The first\n",
    "matrix is transposed to get a row vector. It is then multiplied with the second column matrix to get the dot product."
   ]
  },
  {
   "attachments": {},
   "cell_type": "markdown",
   "metadata": {},
   "source": [
    "![dot4.PNG](https://s3.us-east-1.amazonaws.com/static2.simplilearn.com/lms/testpaper_images/ADSP/Advanced_Statistics/LinearRegression/dot4.PNG)"
   ]
  },
  {
   "cell_type": "markdown",
   "metadata": {},
   "source": [
    "## Python code snippet for dot product \n"
   ]
  },
  {
   "cell_type": "markdown",
   "metadata": {},
   "source": [
    "Let us see the code for dot product. "
   ]
  },
  {
   "cell_type": "code",
   "execution_count": 1,
   "metadata": {},
   "outputs": [],
   "source": [
    "#Define a function to calculate dot product of two matrices \n",
    "def dot_product(x,y):\n",
    "    #Ensure that both the vectors have same length\n",
    "    return sum(i*j for i,j in zip(x,y))\n"
   ]
  },
  {
   "cell_type": "code",
   "execution_count": 22,
   "metadata": {},
   "outputs": [
    {
     "data": {
      "text/plain": [
       "5"
      ]
     },
     "execution_count": 22,
     "metadata": {},
     "output_type": "execute_result"
    }
   ],
   "source": [
    "dot_product([3,2,6],[1,7,-2])"
   ]
  },
  {
   "cell_type": "markdown",
   "metadata": {},
   "source": [
    "<b>Note: </b>In the above code zip function ensures that both the vectors have the same length. \n",
    "\n",
    "\n",
    "When dot_product([3,2,6],[1,7,-2]) will be called then the output will be 5. "
   ]
  },
  {
   "cell_type": "markdown",
   "metadata": {},
   "source": [
    "## Linear Independence of Vectors"
   ]
  },
  {
   "cell_type": "markdown",
   "metadata": {},
   "source": [
    "A set of vectors is said to be linearly independent if no vector in the set can be expressed as a linear combination of the other vectors in the same set. If not, the set is linearly dependent. \n",
    "\n",
    "A set of vectors v1,v2,v3,......,vn is linearly dependent if there are scalars c1,c2,c3,......,cn; at least one of which is not zero, such that \n",
    "\n",
    "$ C_1V_1+C_2V_2+C_3V_3+........+C_nV_n = 0 $\n",
    "\n",
    "A set of vectors that don’t satisfy the above condition is called linearly independent. \n"
   ]
  },
  {
   "attachments": {},
   "cell_type": "markdown",
   "metadata": {},
   "source": [
    "**Numerical example:**\n",
    " \n",
    "Suppose there are three vectors are as follows:\n",
    "\n",
    "\n",
    "![Linear%20Independence%20of%20Vectors.jpg](https://s3.us-east-1.amazonaws.com/static2.simplilearn.com/lms/testpaper_images/ADSP/Advanced_Statistics/LinearRegression/Linear%20Independence%20of%20Vectors.jpg)\n",
    "\n",
    "The above three vectors are linearly dependent, as at least one (in this case, two) of the \n",
    "three scalars 1, - 2, and 0 are nonzero.\n"
   ]
  },
  {
   "cell_type": "markdown",
   "metadata": {},
   "source": [
    "## Norm of a Vector "
   ]
  },
  {
   "attachments": {},
   "cell_type": "markdown",
   "metadata": {},
   "source": [
    "The norm of a vector is the length of the vector. For a vector v, it is denoted by  and is given by <br>\n",
    "\n",
    "![squarevec.PNG](https://s3.us-east-1.amazonaws.com/static2.simplilearn.com/lms/testpaper_images/ADSP/Advanced_Statistics/LinearRegression/squarevec.PNG)\n",
    " \n",
    " \n",
    "\n",
    "\n",
    "From the above definition, it follows that to arrive at the norm of a vector, it is required to take the dot product of the vector with itself and then calculate the square root of the result. \n",
    "\n",
    "\n"
   ]
  },
  {
   "attachments": {},
   "cell_type": "markdown",
   "metadata": {},
   "source": [
    "**Example:** <br>\n",
    "A numerical example of the norm of a vector.\n",
    "\n",
    "![numexam.PNG](https://s3.us-east-1.amazonaws.com/static2.simplilearn.com/lms/testpaper_images/ADSP/Advanced_Statistics/LinearRegression/numexam.PNG)\n",
    "\n"
   ]
  },
  {
   "cell_type": "markdown",
   "metadata": {},
   "source": [
    "### Python code to find the norm of a vector "
   ]
  },
  {
   "cell_type": "markdown",
   "metadata": {},
   "source": [
    "The norm of a vector, by definition, is the square root of its dot product with itself. Thus, in this Python code, the elements of the vector are fed into the system, after which the system calculates the square of every element. The new elements are added to get the dot product. Finally, the system displays the result’s square root, or the norm, as the output. \n",
    " \n",
    " \n",
    "The Python code for finding the norm of a vector is as follows: \n"
   ]
  },
  {
   "cell_type": "code",
   "execution_count": 37,
   "metadata": {},
   "outputs": [],
   "source": [
    "#Define vector\n",
    "v = [-1, -2, 3, 4, 5]"
   ]
  },
  {
   "cell_type": "code",
   "execution_count": 38,
   "metadata": {},
   "outputs": [],
   "source": [
    "#Define function to calculate norm of a vector\n",
    "import math \n",
    "def norm_vector(v):\n",
    "    dot_product = sum(i*i for i in v)\n",
    "    return math.sqrt(dot_product)"
   ]
  },
  {
   "cell_type": "code",
   "execution_count": 39,
   "metadata": {},
   "outputs": [
    {
     "data": {
      "text/plain": [
       "7.416198487095663"
      ]
     },
     "execution_count": 39,
     "metadata": {},
     "output_type": "execute_result"
    }
   ],
   "source": [
    "#Call the function\n",
    "norm_vector(v)"
   ]
  },
  {
   "cell_type": "markdown",
   "metadata": {},
   "source": [
    "## Matrix \n"
   ]
  },
  {
   "attachments": {},
   "cell_type": "markdown",
   "metadata": {},
   "source": [
    "A matrix is a rectangular array of numbers or expressions arranged into columns and rows. A matrix is used to represent\n",
    "a mathematical object or a property of the object.\n",
    "![matrixex.PNG](https://s3.us-east-1.amazonaws.com/static2.simplilearn.com/lms/testpaper_images/ADSP/Advanced_Statistics/LinearRegression/matrixex.PNG)\n"
   ]
  },
  {
   "cell_type": "markdown",
   "metadata": {},
   "source": [
    "\n"
   ]
  },
  {
   "attachments": {},
   "cell_type": "markdown",
   "metadata": {},
   "source": [
    "\n",
    "If X[$a_{ij} $] and Y[$b_{ij} $]  are $ m\\times n $ matrices then,\n",
    "\n",
    "X+Y is the sum of mXn matrix obtained by adding the corresponding elements\n",
    "\n",
    "![additionordwr.PNG](https://s3.us-east-1.amazonaws.com/static2.simplilearn.com/lms/testpaper_images/ADSP/Advanced_Statistics/LinearRegression/additionordwr.PNG)\n"
   ]
  },
  {
   "cell_type": "markdown",
   "metadata": {},
   "source": [
    "### Example: Matrix Addition of 3 x 3 matrices\n",
    "\n"
   ]
  },
  {
   "attachments": {},
   "cell_type": "markdown",
   "metadata": {},
   "source": [
    "![matrixexampleadd.PNG](https://s3.us-east-1.amazonaws.com/static2.simplilearn.com/lms/testpaper_images/ADSP/Advanced_Statistics/LinearRegression/matrixexampleadd.PNG)"
   ]
  },
  {
   "cell_type": "markdown",
   "metadata": {},
   "source": [
    "### Python implementation for the addition of two matrices with same order"
   ]
  },
  {
   "cell_type": "code",
   "execution_count": 1,
   "metadata": {},
   "outputs": [],
   "source": [
    "#Define a function to add matrices\n",
    "def matrix_addition(x,y):\n",
    "    xrows = len(x) \n",
    "    xcols = len(x[0]) \n",
    "    yrows = len(y) \n",
    "    ycols= len(y[0]) \n",
    "    if xrows!=yrows or xcols!=ycols: \n",
    "        print(\"Sum is not defined as the matrices have different orders\") \n",
    "    else: \n",
    "        result=[[0 for i in range(xcols)] for i in range(xrows)]\n",
    "        for i in range(xrows): \n",
    "            for j in range(xcols): \n",
    "                result[i][j] = matrix_X[i][j]+matrix_Y[i][j]\n",
    "        return result"
   ]
  },
  {
   "cell_type": "code",
   "execution_count": 7,
   "metadata": {},
   "outputs": [
    {
     "name": "stdout",
     "output_type": "stream",
     "text": [
      "Enter the rows and columns of first matrix\n"
     ]
    },
    {
     "name": "stdin",
     "output_type": "stream",
     "text": [
      "Enter the Number of rows :  2\n",
      "Enter the Number of Columns:  2\n"
     ]
    },
    {
     "name": "stdout",
     "output_type": "stream",
     "text": [
      "Enter the elements of First Matrix:\n"
     ]
    },
    {
     "name": "stdin",
     "output_type": "stream",
     "text": [
      " 1\n",
      " 2\n",
      " 3\n",
      " 4\n"
     ]
    },
    {
     "name": "stdout",
     "output_type": "stream",
     "text": [
      "First Matrix is: \n",
      "[1, 2]\n",
      "[3, 4]\n",
      "Enter the rows and columns of second matrix\n"
     ]
    },
    {
     "name": "stdin",
     "output_type": "stream",
     "text": [
      "Enter the Number of rows :  2\n",
      "Enter the Number of Columns:  2\n"
     ]
    },
    {
     "name": "stdout",
     "output_type": "stream",
     "text": [
      "Enter the elements of Second Matrix:\n"
     ]
    },
    {
     "name": "stdin",
     "output_type": "stream",
     "text": [
      " 1\n",
      " 2\n",
      " 3\n",
      " 4\n"
     ]
    },
    {
     "name": "stdout",
     "output_type": "stream",
     "text": [
      "[1, 2]\n",
      "[3, 4]\n"
     ]
    }
   ],
   "source": [
    "#Taking input from user\n",
    "print(\"Enter the rows and columns of first matrix\")\n",
    "rows1 = int(input(\"Enter the Number of rows : \" ))\n",
    "column1 = int(input(\"Enter the Number of Columns: \"))\n",
    "\n",
    "print(\"Enter the elements of First Matrix:\")\n",
    "matrix_X= [[int(input()) for i in range(column1)] for i in range(rows1)]\n",
    "print(\"First Matrix is: \")\n",
    "for n in matrix_X:\n",
    "    print(n)\n",
    "print(\"Enter the rows and columns of second matrix\")\n",
    "rows2 = int(input(\"Enter the Number of rows : \" ))\n",
    "column2 = int(input(\"Enter the Number of Columns: \"))\n",
    "\n",
    "print(\"Enter the elements of Second Matrix:\")\n",
    "matrix_Y= [[int(input()) for i in range(column2)] for i in range(rows2)]\n",
    "for n in matrix_Y:\n",
    "    print(n)"
   ]
  },
  {
   "cell_type": "code",
   "execution_count": 10,
   "metadata": {},
   "outputs": [
    {
     "data": {
      "text/plain": [
       "[[2, 4], [6, 8]]"
      ]
     },
     "execution_count": 10,
     "metadata": {},
     "output_type": "execute_result"
    }
   ],
   "source": [
    "#Return the value of function\n",
    "matrix_addition(matrix_X,matrix_Y)"
   ]
  },
  {
   "cell_type": "markdown",
   "metadata": {},
   "source": [
    "The code takes two matrices of the same order and adds them. If the matrices are of a different order, it prints an error code, indicating the same. "
   ]
  },
  {
   "cell_type": "markdown",
   "metadata": {},
   "source": [
    "# Addition of Matrices with different orders"
   ]
  },
  {
   "cell_type": "code",
   "execution_count": 11,
   "metadata": {},
   "outputs": [
    {
     "name": "stdout",
     "output_type": "stream",
     "text": [
      "Enter the rows and columns of first matrix\n"
     ]
    },
    {
     "name": "stdin",
     "output_type": "stream",
     "text": [
      "Enter the Number of rows :  2\n",
      "Enter the Number of Columns:  3\n"
     ]
    },
    {
     "name": "stdout",
     "output_type": "stream",
     "text": [
      "Enter the elements of First Matrix:\n"
     ]
    },
    {
     "name": "stdin",
     "output_type": "stream",
     "text": [
      " 1\n",
      " 2\n",
      " 3\n",
      " 4\n",
      " 5\n",
      " 6\n"
     ]
    },
    {
     "name": "stdout",
     "output_type": "stream",
     "text": [
      "First Matrix is: \n",
      "[1, 2, 3]\n",
      "[4, 5, 6]\n",
      "Enter the rows and columns of second matrix\n"
     ]
    },
    {
     "name": "stdin",
     "output_type": "stream",
     "text": [
      "Enter the Number of rows :  3\n",
      "Enter the Number of Columns:  2\n"
     ]
    },
    {
     "name": "stdout",
     "output_type": "stream",
     "text": [
      "Enter the elements of Second Matrix:\n"
     ]
    },
    {
     "name": "stdin",
     "output_type": "stream",
     "text": [
      " 1\n",
      " 2\n",
      " 3\n",
      " 4\n",
      " 5\n",
      " 6\n"
     ]
    },
    {
     "name": "stdout",
     "output_type": "stream",
     "text": [
      "[1, 2]\n",
      "[3, 4]\n",
      "[5, 6]\n"
     ]
    }
   ],
   "source": [
    "#Taking input from user\n",
    "print(\"Enter the rows and columns of first matrix\")\n",
    "rows1 = int(input(\"Enter the Number of rows : \" ))\n",
    "column1 = int(input(\"Enter the Number of Columns: \"))\n",
    "\n",
    "print(\"Enter the elements of First Matrix:\")\n",
    "matrix_X= [[int(input()) for i in range(column1)] for i in range(rows1)]\n",
    "print(\"First Matrix is: \")\n",
    "for n in matrix_X:\n",
    "    print(n)\n",
    "print(\"Enter the rows and columns of second matrix\")\n",
    "rows2 = int(input(\"Enter the Number of rows : \" ))\n",
    "column2 = int(input(\"Enter the Number of Columns: \"))\n",
    "\n",
    "print(\"Enter the elements of Second Matrix:\")\n",
    "matrix_Y= [[int(input()) for i in range(column2)] for i in range(rows2)]\n",
    "for n in matrix_Y:\n",
    "    print(n)"
   ]
  },
  {
   "cell_type": "code",
   "execution_count": 12,
   "metadata": {},
   "outputs": [
    {
     "name": "stdout",
     "output_type": "stream",
     "text": [
      "Sum is not defined as the matrices have different orders\n"
     ]
    }
   ],
   "source": [
    "matrix_addition(matrix_X,matrix_Y)"
   ]
  },
  {
   "cell_type": "markdown",
   "metadata": {},
   "source": [
    "As we can see sum will not be performed in the matrices with different orders."
   ]
  },
  {
   "cell_type": "markdown",
   "metadata": {},
   "source": [
    "## Scalar Multiplication"
   ]
  },
  {
   "attachments": {},
   "cell_type": "markdown",
   "metadata": {},
   "source": [
    "Scalar multiplication of a matrix refers to each element of the matrix being multiplied by the given scalar. \n",
    "\n",
    "![scalarmulti.PNG](https://s3.us-east-1.amazonaws.com/static2.simplilearn.com/lms/testpaper_images/ADSP/Advanced_Statistics/LinearRegression/scalarmultinew.png)\n",
    "\n",
    "\n",
    "So formally, cX = c[$a_{ij} $] = [$ca_{ij} $]. \n"
   ]
  },
  {
   "cell_type": "markdown",
   "metadata": {},
   "source": [
    "# Scalar Multiplication: Example "
   ]
  },
  {
   "attachments": {},
   "cell_type": "markdown",
   "metadata": {},
   "source": [
    "![scalrmulti.PNG](https://s3.us-east-1.amazonaws.com/static2.simplilearn.com/lms/testpaper_images/ADSP/Advanced_Statistics/LinearRegression/scalrmulti.PNG)"
   ]
  },
  {
   "cell_type": "markdown",
   "metadata": {},
   "source": [
    "### Python code snippet for scalar multiplication\n",
    "\n",
    "This snippet takes a scalar value and a matrix as input and gives a resultant matrix, the elements of which are the products of the original matrix and the scalar value.\n"
   ]
  },
  {
   "cell_type": "code",
   "execution_count": 40,
   "metadata": {},
   "outputs": [],
   "source": [
    "#Define function for scalar multiplication\n",
    "def scalar_multiplication(c,X): \n",
    "    cX = X \n",
    "    for i in range(len(X)): \n",
    "        for j in range(len(X[0])):\n",
    "            cX[i][j] = c*cX[i][j] \n",
    "    return cX "
   ]
  },
  {
   "cell_type": "code",
   "execution_count": 35,
   "metadata": {},
   "outputs": [
    {
     "data": {
      "text/plain": [
       "[[-6, -18, 3], [-6, -24, 0], [-27, -24, -21]]"
      ]
     },
     "execution_count": 41,
     "metadata": {},
     "output_type": "execute_result"
    }
   ],
   "source": [
    "scalar_multiplication(-3,[[2,6,-1],[2,8,0],[9,8,7]])"
   ]
  },
  {
   "cell_type": "markdown",
   "metadata": {},
   "source": [
    "When the matrix 2,6, -1, 2, 8, 0, 9, 8, 7 is multiplied by -3, the resultant matrix will be\n",
    " -6,-18,3,-6,-24,0,-27,-24,-21 \n",
    "\n",
    "Output: [[-6,-18,3], [-6,-24,0], [-27,-24,-21]]"
   ]
  },
  {
   "cell_type": "markdown",
   "metadata": {},
   "source": [
    "## Matrix Operations\n"
   ]
  },
  {
   "cell_type": "markdown",
   "metadata": {},
   "source": [
    "**1.Matrix Subtraction:**\n",
    "Subtraction of matrices involves element-wise subtraction. If X[$a_{ij} $ ]and Y[$b_{ij} $ ]are $ m\\times n $ matrices, their difference X-Y is the  $ m\\times n $  matrix obtained by subtracting the corresponding elements of Y from those of X.\n",
    "\n",
    "So, X-Y = [$a_{ij} $ - $b_{ij} $] \n",
    "\n"
   ]
  },
  {
   "attachments": {},
   "cell_type": "markdown",
   "metadata": {},
   "source": [
    "![suboperation.PNG](https://s3.us-east-1.amazonaws.com/static2.simplilearn.com/lms/testpaper_images/ADSP/Advanced_Statistics/LinearRegression/suboperation.PNG)"
   ]
  },
  {
   "cell_type": "markdown",
   "metadata": {},
   "source": [
    "\n",
    "If X and Y are of different orders, then subtraction is not possible."
   ]
  },
  {
   "cell_type": "markdown",
   "metadata": {},
   "source": [
    "## Matrix Subtraction: Example"
   ]
  },
  {
   "attachments": {},
   "cell_type": "markdown",
   "metadata": {},
   "source": [
    "\n",
    "\n",
    "\n",
    "Consider two 3*2 matrices X and Y: \n",
    "![examsub.PNG](https://s3.us-east-1.amazonaws.com/static2.simplilearn.com/lms/testpaper_images/ADSP/Advanced_Statistics/LinearRegression/examsub.PNG)"
   ]
  },
  {
   "cell_type": "markdown",
   "metadata": {},
   "source": [
    "### Python code snippet to perform matrix subtraction\n",
    "\n",
    "In the code, matrix_subtraction will take two matrices and it will first check the order of matrices. If it is the same then, perform a subtraction operation. Else, it prints an error message. \n"
   ]
  },
  {
   "cell_type": "code",
   "execution_count": 42,
   "metadata": {},
   "outputs": [],
   "source": [
    "#Define function for subtraction of matrices \n",
    "def matrix_subtraction(x,y):\n",
    "    xrows = len(x) \n",
    "    xcols = len(x[0]) \n",
    "    yrows = len(y) \n",
    "    ycols= len(y[0]) \n",
    "    if xrows!=yrows or xcols!=ycols: \n",
    "        print(\"Subtraction is not defined as the matrices have different orders\") \n",
    "    else: \n",
    "        result=[[0 for i in range(xcols)] for i in range(xrows)]\n",
    "        for i in range(xrows): \n",
    "            for j in range(xcols): \n",
    "                result[i][j] = matrix_X[i][j]-matrix_Y[i][j]\n",
    "        return result"
   ]
  },
  {
   "cell_type": "code",
   "execution_count": 43,
   "metadata": {},
   "outputs": [
    {
     "name": "stdout",
     "output_type": "stream",
     "text": [
      "Enter the rows and columns of first matrix\n"
     ]
    },
    {
     "name": "stdin",
     "output_type": "stream",
     "text": [
      "Enter the Number of rows :  2\n",
      "Enter the Number of Columns:  3\n"
     ]
    },
    {
     "name": "stdout",
     "output_type": "stream",
     "text": [
      "Enter the elements of First Matrix:\n"
     ]
    },
    {
     "name": "stdin",
     "output_type": "stream",
     "text": [
      " 5\n",
      " 2\n",
      " 3\n",
      " 3\n",
      " 4\n",
      " -9\n"
     ]
    },
    {
     "name": "stdout",
     "output_type": "stream",
     "text": [
      "First Matrix is: \n",
      "[5, 2, 3]\n",
      "[3, 4, -9]\n",
      "Enter the rows and columns of second matrix\n"
     ]
    },
    {
     "name": "stdin",
     "output_type": "stream",
     "text": [
      "Enter the Number of rows :  2\n",
      "Enter the Number of Columns:  3\n"
     ]
    },
    {
     "name": "stdout",
     "output_type": "stream",
     "text": [
      "Enter the elements of Second Matrix:\n"
     ]
    },
    {
     "name": "stdin",
     "output_type": "stream",
     "text": [
      " 5\n",
      " 3\n",
      " 2\n",
      " 8\n",
      " 2\n",
      " 4\n"
     ]
    },
    {
     "name": "stdout",
     "output_type": "stream",
     "text": [
      "[5, 3, 2]\n",
      "[8, 2, 4]\n"
     ]
    }
   ],
   "source": [
    "#Taking input from user\n",
    "print(\"Enter the rows and columns of first matrix\")\n",
    "rows1 = int(input(\"Enter the Number of rows : \" ))\n",
    "column1 = int(input(\"Enter the Number of Columns: \"))\n",
    "\n",
    "print(\"Enter the elements of First Matrix:\")\n",
    "matrix_X= [[int(input()) for i in range(column1)] for i in range(rows1)]\n",
    "print(\"First Matrix is: \")\n",
    "for n in matrix_X:\n",
    "    print(n)\n",
    "print(\"Enter the rows and columns of second matrix\")\n",
    "rows2 = int(input(\"Enter the Number of rows : \" ))\n",
    "column2 = int(input(\"Enter the Number of Columns: \"))\n",
    "\n",
    "print(\"Enter the elements of Second Matrix:\")\n",
    "matrix_Y= [[int(input()) for i in range(column2)] for i in range(rows2)]\n",
    "for n in matrix_Y:\n",
    "    print(n)"
   ]
  },
  {
   "cell_type": "code",
   "execution_count": 44,
   "metadata": {},
   "outputs": [
    {
     "data": {
      "text/plain": [
       "[[0, -1, 1], [-5, 2, -13]]"
      ]
     },
     "execution_count": 44,
     "metadata": {},
     "output_type": "execute_result"
    }
   ],
   "source": [
    "matrix_subtraction(matrix_X,matrix_Y)"
   ]
  },
  {
   "cell_type": "markdown",
   "metadata": {},
   "source": [
    "matrix_subtraction([[5,2,3],[3,4,-9]],[[5,3,2],[8,2,4]]) Here, input matrices are 5,2,3,3,4,-9 and 5,3,2,8,2,4 The resultant matrix will be 0,-1,1,-5,2,-13\n",
    "\n",
    "Output:[[0,-1,1], [-5,2,-13]]\n"
   ]
  },
  {
   "cell_type": "markdown",
   "metadata": {},
   "source": [
    "# Subtraction of Matrices with Different Orders"
   ]
  },
  {
   "cell_type": "code",
   "execution_count": 18,
   "metadata": {},
   "outputs": [
    {
     "name": "stdout",
     "output_type": "stream",
     "text": [
      "Enter the rows and columns of first matrix\n",
      "Enter the Number of rows : 2\n",
      "Enter the Number of Columns: 1\n",
      "Enter the elements of First Matrix:\n",
      "2\n",
      "3\n",
      "First Matrix is: \n",
      "[2]\n",
      "[3]\n",
      "Enter the rows and columns of second matrix\n",
      "Enter the Number of rows : 2\n",
      "Enter the Number of Columns: 2\n",
      "Enter the elements of Second Matrix:\n",
      "2\n",
      "4\n",
      "5\n",
      "6\n",
      "[2, 4]\n",
      "[5, 6]\n"
     ]
    }
   ],
   "source": [
    "#Taking input from user\n",
    "print(\"Enter the rows and columns of first matrix\")\n",
    "rows1 = int(input(\"Enter the Number of rows : \" ))\n",
    "column1 = int(input(\"Enter the Number of Columns: \"))\n",
    "\n",
    "print(\"Enter the elements of First Matrix:\")\n",
    "matrix_X= [[int(input()) for i in range(column1)] for i in range(rows1)]\n",
    "print(\"First Matrix is: \")\n",
    "for n in matrix_X:\n",
    "    print(n)\n",
    "print(\"Enter the rows and columns of second matrix\")\n",
    "rows2 = int(input(\"Enter the Number of rows : \" ))\n",
    "column2 = int(input(\"Enter the Number of Columns: \"))\n",
    "\n",
    "print(\"Enter the elements of Second Matrix:\")\n",
    "matrix_Y= [[int(input()) for i in range(column2)] for i in range(rows2)]\n",
    "for n in matrix_Y:\n",
    "    print(n)"
   ]
  },
  {
   "cell_type": "code",
   "execution_count": 19,
   "metadata": {},
   "outputs": [
    {
     "name": "stdout",
     "output_type": "stream",
     "text": [
      "Subtraction is not defined as the matrices have different orders\n"
     ]
    }
   ],
   "source": [
    "matrix_subtraction(matrix_X,matrix_Y)"
   ]
  },
  {
   "cell_type": "markdown",
   "metadata": {},
   "source": [
    "As we can see, subtraction will not be performed in the matrices with different orders."
   ]
  },
  {
   "attachments": {},
   "cell_type": "markdown",
   "metadata": {},
   "source": [
    "**2.Matrix Multiplication:** \n",
    "The product of two matrices is obtained by multiplying the elements of the rows of the first matrix with the corresponding elements of the columns of the second matrix. \n",
    "![matrizmulti1.PNG](https://s3.us-east-1.amazonaws.com/static2.simplilearn.com/lms/testpaper_images/ADSP/Advanced_Statistics/LinearRegression/matrizmulti1.PNG)\n",
    "\n",
    "\n"
   ]
  },
  {
   "attachments": {},
   "cell_type": "markdown",
   "metadata": {},
   "source": [
    "![multi2.PNG](https://s3.us-east-1.amazonaws.com/static2.simplilearn.com/lms/testpaper_images/ADSP/Advanced_Statistics/LinearRegression/multi2.PNG)\n",
    "\n",
    "If X is an $ m\\times n $ matrix and Y is an $ n\\times m $, then their product Z = \n",
    "$ X\\times Y $ is an $ m\\times r $ matrix, whose elements are given by the following expression. \n",
    "\n",
    "\n",
    "$Z_{ij} $ = X $_{i1} $Y $_{1j} $ + X $_{i2} $Y $_{2j} $ + X $_{in} $and Y $_{nj} $"
   ]
  },
  {
   "attachments": {},
   "cell_type": "markdown",
   "metadata": {},
   "source": [
    "![multi3.PNG](https://s3.us-east-1.amazonaws.com/static2.simplilearn.com/lms/testpaper_images/ADSP/Advanced_Statistics/LinearRegression/multi3.PNG)"
   ]
  },
  {
   "cell_type": "markdown",
   "metadata": {},
   "source": [
    "## Matrix Multiplication: Example"
   ]
  },
  {
   "attachments": {},
   "cell_type": "markdown",
   "metadata": {},
   "source": [
    "\n",
    "\n",
    "Consider two matrices X, Y where the order of X is 2X3 and the order of Y is 3X2\n",
    "\n",
    "![multi4.PNG](https://s3.us-east-1.amazonaws.com/static2.simplilearn.com/lms/testpaper_images/ADSP/Advanced_Statistics/LinearRegression/multi4.PNG)\n"
   ]
  },
  {
   "cell_type": "markdown",
   "metadata": {},
   "source": [
    "## Python code snippet for the matrix multiplication"
   ]
  },
  {
   "cell_type": "code",
   "execution_count": 45,
   "metadata": {},
   "outputs": [],
   "source": [
    "#Define function to perform matrix multiplication\n",
    "def matrix_multiplication(x,y):\n",
    "    xrows = len(x)\n",
    "    xcols = len(x[0])\n",
    "    yrows = len(y)\n",
    "    ycols= len(y[0])\n",
    "    if xcols!=yrows:\n",
    "        Print (\"Product is not defined as the no. of rows in the first matrix is not equal to the no. of columns in the second matrix\")\n",
    "    else:\n",
    "        z = [ [ 0 for i in range(ycols) ] for j in range(xrows) ]\n",
    "        for i in range(xrows):\n",
    "            for j in range(ycols):\n",
    "                total = 0\n",
    "                for ii in range(xcols):\n",
    "                    total += x[i][ii] * y[ii][j]\n",
    "                    z[i][j] = total\n",
    "        return z\n",
    "                 "
   ]
  },
  {
   "cell_type": "code",
   "execution_count": 5,
   "metadata": {},
   "outputs": [
    {
     "name": "stdout",
     "output_type": "stream",
     "text": [
      "Enter the rows and columns of first matrix\n",
      "Enter the Number of rows : 2\n",
      "Enter the Number of Columns: 3\n",
      "Enter the elements of First Matrix:\n",
      "1\n",
      "2\n",
      "3\n",
      "4\n",
      "5\n",
      "6\n",
      "First Matrix is: \n",
      "[1, 2, 3]\n",
      "[4, 5, 6]\n",
      "Enter the rows and columns of second matrix\n",
      "Enter the Number of rows : 3\n",
      "Enter the Number of Columns: 2\n",
      "Enter the elements of Second Matrix:\n",
      "1\n",
      "2\n",
      "3\n",
      "4\n",
      "5\n",
      "6\n",
      "[1, 2]\n",
      "[3, 4]\n",
      "[5, 6]\n"
     ]
    }
   ],
   "source": [
    "#Taking input from user\n",
    "print(\"Enter the rows and columns of first matrix\")\n",
    "rows1 = int(input(\"Enter the Number of rows : \" ))\n",
    "column1 = int(input(\"Enter the Number of Columns: \"))\n",
    "\n",
    "print(\"Enter the elements of First Matrix:\")\n",
    "matrix_X= [[int(input()) for i in range(column1)] for i in range(rows1)]\n",
    "print(\"First Matrix is: \")\n",
    "for n in matrix_X:\n",
    "    print(n)\n",
    "print(\"Enter the rows and columns of second matrix\")\n",
    "rows2 = int(input(\"Enter the Number of rows : \" ))\n",
    "column2 = int(input(\"Enter the Number of Columns: \"))\n",
    "\n",
    "print(\"Enter the elements of Second Matrix:\")\n",
    "matrix_Y= [[int(input()) for i in range(column2)] for i in range(rows2)]\n",
    "for n in matrix_Y:\n",
    "    print(n)"
   ]
  },
  {
   "cell_type": "code",
   "execution_count": 6,
   "metadata": {},
   "outputs": [
    {
     "data": {
      "text/plain": [
       "[[22, 28], [49, 64]]"
      ]
     },
     "execution_count": 6,
     "metadata": {},
     "output_type": "execute_result"
    }
   ],
   "source": [
    "matrix_multiplication(matrix_X,matrix_Y)"
   ]
  },
  {
   "cell_type": "markdown",
   "metadata": {},
   "source": [
    "When two matrices of order 2X3 and 3X2 will be multiplied then the output will be in 2X2."
   ]
  },
  {
   "attachments": {},
   "cell_type": "markdown",
   "metadata": {},
   "source": [
    "**3.Transpose of a Matrix:**\n",
    "The transpose of an $ m\\times n $ matrix X is the $ n\\times m $ matrix $ X^T $ obtained by interchanging the rows and columns of X. \n",
    "\n",
    "![trans1.PNG](https://s3.us-east-1.amazonaws.com/static2.simplilearn.com/lms/testpaper_images/ADSP/Advanced_Statistics/LinearRegression/trans1.PNG)\n"
   ]
  },
  {
   "cell_type": "markdown",
   "metadata": {},
   "source": [
    "## Example: "
   ]
  },
  {
   "attachments": {},
   "cell_type": "markdown",
   "metadata": {},
   "source": [
    "X is a 2X3 matrix.The transpose $ X^T $  of X will be 3X2 matrix.\n",
    "![transnew.PNG](https://s3.us-east-1.amazonaws.com/static2.simplilearn.com/lms/testpaper_images/ADSP/Advanced_Statistics/LinearRegression/transnew.PNG)"
   ]
  },
  {
   "cell_type": "markdown",
   "metadata": {},
   "source": [
    "**Python implementation for finding the transpose of a matrix**"
   ]
  },
  {
   "cell_type": "code",
   "execution_count": 46,
   "metadata": {},
   "outputs": [],
   "source": [
    "#Define function to perform transpose of matrix\n",
    "def matrix_transpose(x):\n",
    "    xrows = len(x)\n",
    "    xcols = len(x[0])\n",
    "    z = [ [ 0 for i in range(xrows) ] for j in range(xcols) ]\n",
    "    for i in range(xcols):\n",
    "        for j in range(xrows):\n",
    "            z[i][j] = x[j][i]\n",
    "    return z"
   ]
  },
  {
   "cell_type": "code",
   "execution_count": 29,
   "metadata": {},
   "outputs": [
    {
     "data": {
      "text/plain": [
       "[[1, 5], [9, 3], [-6, -7]]"
      ]
     },
     "execution_count": 29,
     "metadata": {},
     "output_type": "execute_result"
    }
   ],
   "source": [
    "matrix_transpose([[1,9,-6],[5,3,-7]])"
   ]
  },
  {
   "cell_type": "markdown",
   "metadata": {},
   "source": [
    "The code takes a matrix of order m*n and finds its transpose. \n",
    "The transpose of the matrix 1,2,5,3,5,4 gives an output of [[1,3],[2,5],[5,4]] as shown on the screen. \n",
    "\n",
    "Output: [[1,3],[2,5],[5,4]] "
   ]
  },
  {
   "cell_type": "markdown",
   "metadata": {},
   "source": [
    "## Rank of a Matrix: "
   ]
  },
  {
   "attachments": {},
   "cell_type": "markdown",
   "metadata": {},
   "source": [
    "The rank of a matrix is the number of nonzero rows in its row echelon form. \n",
    "![trans3.PNG](https://s3.us-east-1.amazonaws.com/static2.simplilearn.com/lms/testpaper_images/ADSP/Advanced_Statistics/LinearRegression/trans3.PNG)"
   ]
  },
  {
   "cell_type": "markdown",
   "metadata": {},
   "source": [
    "\n",
    "Hence, to find the rank of a matrix, we first convert it into the row echelon form."
   ]
  },
  {
   "cell_type": "markdown",
   "metadata": {},
   "source": [
    "## Example: "
   ]
  },
  {
   "attachments": {},
   "cell_type": "markdown",
   "metadata": {},
   "source": [
    " In a matrix, the leading entry of a row is the first nonzero entry in that row.\n",
    " \n",
    " \n",
    "![trans4.PNG](https://s3.us-east-1.amazonaws.com/static2.simplilearn.com/lms/testpaper_images/ADSP/Advanced_Statistics/LinearRegression/trans4.PNG)"
   ]
  },
  {
   "attachments": {},
   "cell_type": "markdown",
   "metadata": {},
   "source": [
    "\n",
    "\n",
    "\n",
    "\n",
    "For a matrix to be in its echelon form, it ought to adhere to the following three rules: \n",
    "\n",
    "![trans5.PNG](https://s3.us-east-1.amazonaws.com/static2.simplilearn.com/lms/testpaper_images/ADSP/Advanced_Statistics/LinearRegression/trans5.PNG)\n",
    "\n"
   ]
  },
  {
   "attachments": {},
   "cell_type": "markdown",
   "metadata": {},
   "source": [
    "\n",
    "To reduce a matrix to its row echelon form, the following elementary row operations are used: <br>\n",
    "\n",
    "1.Interchange two rows <br>\n",
    "\n",
    "2.Multiply a row by a nonzero constant <br>\n",
    "\n",
    "3.Add a multiple of a row to another row <br>\n",
    " \n",
    "If the above elementary row operations will be applied to the above matrix, the echelon form can be obtained as below:\n",
    "\n",
    "![trans6.PNG](https://s3.us-east-1.amazonaws.com/static2.simplilearn.com/lms/testpaper_images/ADSP/Advanced_Statistics/LinearRegression/trans6.PNG)\n",
    " \n"
   ]
  },
  {
   "cell_type": "markdown",
   "metadata": {},
   "source": [
    "## Stepwise conversion of the matrix to its echelon form are as follows:"
   ]
  },
  {
   "attachments": {},
   "cell_type": "markdown",
   "metadata": {},
   "source": [
    "![ste1.PNG](https://s3.us-east-1.amazonaws.com/static2.simplilearn.com/lms/testpaper_images/ADSP/Advanced_Statistics/LinearRegression/ste1.PNG)"
   ]
  },
  {
   "attachments": {},
   "cell_type": "markdown",
   "metadata": {},
   "source": [
    "![st2.PNG](https://s3.us-east-1.amazonaws.com/static2.simplilearn.com/lms/testpaper_images/ADSP/Advanced_Statistics/LinearRegression/st2.PNG)"
   ]
  },
  {
   "attachments": {},
   "cell_type": "markdown",
   "metadata": {},
   "source": [
    "![st3.PNG](https://s3.us-east-1.amazonaws.com/static2.simplilearn.com/lms/testpaper_images/ADSP/Advanced_Statistics/LinearRegression/st3.PNG)"
   ]
  },
  {
   "attachments": {},
   "cell_type": "markdown",
   "metadata": {},
   "source": [
    "![st4.PNG](https://s3.us-east-1.amazonaws.com/static2.simplilearn.com/lms/testpaper_images/ADSP/Advanced_Statistics/LinearRegression/st4.PNG)"
   ]
  },
  {
   "attachments": {},
   "cell_type": "markdown",
   "metadata": {},
   "source": [
    "![st5.PNG](https://s3.us-east-1.amazonaws.com/static2.simplilearn.com/lms/testpaper_images/ADSP/Advanced_Statistics/LinearRegression/st5.PNG)"
   ]
  },
  {
   "attachments": {},
   "cell_type": "markdown",
   "metadata": {},
   "source": [
    "![st6.PNG](https://s3.us-east-1.amazonaws.com/static2.simplilearn.com/lms/testpaper_images/ADSP/Advanced_Statistics/LinearRegression/st6.PNG)"
   ]
  },
  {
   "attachments": {},
   "cell_type": "markdown",
   "metadata": {},
   "source": [
    "![st7.PNG](https://s3.us-east-1.amazonaws.com/static2.simplilearn.com/lms/testpaper_images/ADSP/Advanced_Statistics/LinearRegression/st7.PNG)"
   ]
  },
  {
   "attachments": {},
   "cell_type": "markdown",
   "metadata": {},
   "source": [
    "![st8.PNG](https://s3.us-east-1.amazonaws.com/static2.simplilearn.com/lms/testpaper_images/ADSP/Advanced_Statistics/LinearRegression/st8.PNG)"
   ]
  },
  {
   "cell_type": "markdown",
   "metadata": {},
   "source": [
    "As the number of nonzero rows in the row echelon form is 4, the rank of the given matrix is 4."
   ]
  },
  {
   "attachments": {},
   "cell_type": "markdown",
   "metadata": {},
   "source": [
    "![st9.PNG](https://s3.us-east-1.amazonaws.com/static2.simplilearn.com/lms/testpaper_images/ADSP/Advanced_Statistics/LinearRegression/st9.PNG)"
   ]
  },
  {
   "cell_type": "markdown",
   "metadata": {},
   "source": [
    "## Determinant of a Matrix and Identity Matrix: "
   ]
  },
  {
   "attachments": {},
   "cell_type": "markdown",
   "metadata": {},
   "source": [
    "The determinant of a matrix is a scalar quantity that is a function of the elements of a matrix. Determinants are defined only for square matrices. These are useful in determining the solution of a system of linear equations.\n",
    "\n",
    "\n",
    "![det1.PNG](https://s3.us-east-1.amazonaws.com/static2.simplilearn.com/lms/testpaper_images/ADSP/Advanced_Statistics/LinearRegression/det1.PNG)\n",
    "\n",
    "\n",
    "If the determinant of a square matrix is 0, then it is not invertible. If the determinant of a matrix is nonzero, the linear system it represents is linearly independent. But when the determinant is zero, its rows are linearly dependent vectors, and its columns are linearly dependent vectors. \n",
    "\n"
   ]
  },
  {
   "attachments": {},
   "cell_type": "markdown",
   "metadata": {},
   "source": [
    "**Consider the matrices 2X2 and 3X3 matrices:** \n",
    "\n",
    "![mat2.PNG](https://s3.us-east-1.amazonaws.com/static2.simplilearn.com/lms/testpaper_images/ADSP/Advanced_Statistics/LinearRegression/mat2.PNG)\n",
    "\n",
    "\n",
    "   \n",
    "Substitute the expressions for a determinant of a $ 2\\times 2 $ matrix in the above equation. So, the output will be shown as below:\n"
   ]
  },
  {
   "attachments": {},
   "cell_type": "markdown",
   "metadata": {},
   "source": [
    "![det2.PNG](https://s3.us-east-1.amazonaws.com/static2.simplilearn.com/lms/testpaper_images/ADSP/Advanced_Statistics/LinearRegression/det2.PNG)"
   ]
  },
  {
   "attachments": {},
   "cell_type": "markdown",
   "metadata": {},
   "source": [
    "## Identity Matrix or Operator: \n",
    "An identity matrix I is a square matrix which when multiplied with a matrix X gives the same result X. \n",
    "\n",
    "\n",
    "![det3.PNG](https://s3.us-east-1.amazonaws.com/static2.simplilearn.com/lms/testpaper_images/ADSP/Advanced_Statistics/LinearRegression/det3.PNG)\n",
    "This is equivalent to the number 1 in the number system. \n",
    "\n",
    "\n",
    "\n",
    "\n"
   ]
  },
  {
   "attachments": {},
   "cell_type": "markdown",
   "metadata": {},
   "source": [
    "The diagonal elements of I are all 1 and all its non-diagonal elements are 0.\n",
    "\n",
    "![det4.PNG](https://s3.us-east-1.amazonaws.com/static2.simplilearn.com/lms/testpaper_images/ADSP/Advanced_Statistics/LinearRegression/det4.PNG)"
   ]
  },
  {
   "cell_type": "markdown",
   "metadata": {},
   "source": [
    "## Inverse of a Matrix, Eigenvalues, and Eigenvectors: "
   ]
  },
  {
   "attachments": {},
   "cell_type": "markdown",
   "metadata": {},
   "source": [
    "**Inverse of a matrix**\n",
    " \n",
    "If X is an $ n\\times n $ matrix, an inverse of X is an $ n\\times n $ matrix $ X^1 $ such that\n",
    "\n",
    "![inverseimage.PNG](https://s3.us-east-1.amazonaws.com/static2.simplilearn.com/lms/testpaper_images/ADSP/Advanced_Statistics/LinearRegression/inverseimage.PNG)\n",
    "\n",
    "\n",
    "I is the $ n\\times n $ identity matrix. If an $ X^1 $ exists for X, then X is described as invertible. \n"
   ]
  },
  {
   "cell_type": "markdown",
   "metadata": {},
   "source": [
    "## Consider the following example:"
   ]
  },
  {
   "cell_type": "markdown",
   "metadata": {},
   "source": [
    "X is a 2x2 matrix "
   ]
  },
  {
   "attachments": {},
   "cell_type": "markdown",
   "metadata": {},
   "source": [
    "![inverexam.PNG](https://s3.us-east-1.amazonaws.com/static2.simplilearn.com/lms/testpaper_images/ADSP/Advanced_Statistics/LinearRegression/inverexam.PNG)"
   ]
  },
  {
   "cell_type": "markdown",
   "metadata": {},
   "source": [
    "## Eigenvalues and Eigenvectors\n",
    "\n",
    "Eigenvectors are vectors that are fixed in direction under a given linear transformation. The scaling factor of these Eigenvectors is called the Eigenvalue.\n",
    "\n",
    "Suppose X is an $ n\\times n $ matrix. When we multiply X with a new vector A, it does two things to the vector A:\n",
    "\n",
    "1.\tIt scales the vector\n",
    " \n",
    "2.\tIt rotates the vector \n",
    "\n",
    "However, when X acts on a certain set of vectors, it results only in scaling the vector and not in any change in the direction of the vector. Those particular vectors are called Eigenvectors and the amount by which these vectors stretch or compress is called the corresponding Eigenvalue. \n",
    "\n",
    "\n",
    "\n",
    "Let X be an $ n\\times n $ matrix. A scalar $ \\lambda $  is called an Eigenvalue of X, if there is a nonzero vector A such that XA =  $ \\lambda $A. Such a vector A is called an eigenvector of X corresponding to $ \\lambda $ . \n"
   ]
  },
  {
   "cell_type": "markdown",
   "metadata": {},
   "source": [
    "### Consider the following example:\n",
    " "
   ]
  },
  {
   "cell_type": "markdown",
   "metadata": {},
   "source": [
    "Suppose X is a matrix and A is is an Eigen vector of X"
   ]
  },
  {
   "attachments": {},
   "cell_type": "markdown",
   "metadata": {},
   "source": [
    "![examplematrix2.PNG](https://s3.us-east-1.amazonaws.com/static2.simplilearn.com/lms/testpaper_images/ADSP/Advanced_Statistics/LinearRegression/examplematrix2.PNG)"
   ]
  },
  {
   "cell_type": "markdown",
   "metadata": {},
   "source": [
    "\n",
    "Here, A is an Eigen vector of X corresponding to Eigen value 4. "
   ]
  },
  {
   "attachments": {},
   "cell_type": "markdown",
   "metadata": {},
   "source": [
    "## Calculus in Linear Algebra: \n",
    " \n",
    "Calculus is the branch of mathematics that studies continuous changes in quantities. It commonly measures quantities such as slopes of curves or objects.\n",
    " \n",
    "Calculus can be broadly divided into two parts \n",
    "\n",
    "![differeninte.PNG](https://s3.us-east-1.amazonaws.com/static2.simplilearn.com/lms/testpaper_images/ADSP/Advanced_Statistics/LinearRegression/differeninte.PNG)\n",
    "\n",
    "While the former concerns instantaneous rates of change, and the slopes of curves, the latter explores the accumulation of quantities and areas under or between curves.\n",
    " \n",
    "It is necessary for developing an intuition for machine learning algorithms. \n"
   ]
  },
  {
   "cell_type": "markdown",
   "metadata": {},
   "source": [
    "## Differential Calculus"
   ]
  },
  {
   "cell_type": "markdown",
   "metadata": {},
   "source": [
    "Differential calculus are applied in important machine learning algorithms like Gradient Descent.Gradient Descent\n",
    "is vital in the backpropagation of Neural Networks. It measures how the output of a function changes when the input \n",
    "changes in small amounts. \n",
    " \n",
    "\n",
    " \n",
    "\n",
    "\n"
   ]
  },
  {
   "cell_type": "markdown",
   "metadata": {},
   "source": [
    "### Applications of differential calculus in machine learning algorithms"
   ]
  },
  {
   "attachments": {},
   "cell_type": "markdown",
   "metadata": {},
   "source": [
    "\n",
    "\n",
    "![otherapplication.PNG](https://s3.us-east-1.amazonaws.com/static2.simplilearn.com/lms/testpaper_images/ADSP/Advanced_Statistics/LinearRegression/otherapplication.PNG)\n",
    " \n",
    " "
   ]
  },
  {
   "cell_type": "markdown",
   "metadata": {},
   "source": [
    "## Integral Calculus"
   ]
  },
  {
   "cell_type": "markdown",
   "metadata": {},
   "source": [
    "Integral calculus is commonly used to determine the probability of events. For example, it helps us find the posterior\n",
    "in a Bayesian model or bound the error in a sequential decision as per the Neyman-Pearson Lemma."
   ]
  },
  {
   "cell_type": "markdown",
   "metadata": {},
   "source": [
    "![Simplilearn_Logo](https://labcontent.simplicdn.net/data-content/content-assets/Data_and_AI/Logo_Powered_By_Simplilearn/SL_Logo_1.png)"
   ]
  }
 ],
 "metadata": {
  "kernelspec": {
   "display_name": "Python 3 (ipykernel)",
   "language": "python",
   "name": "python3"
  },
  "language_info": {
   "codemirror_mode": {
    "name": "ipython",
    "version": 3
   },
   "file_extension": ".py",
   "mimetype": "text/x-python",
   "name": "python",
   "nbconvert_exporter": "python",
   "pygments_lexer": "ipython3",
   "version": "3.9.7"
  }
 },
 "nbformat": 4,
 "nbformat_minor": 4
}
