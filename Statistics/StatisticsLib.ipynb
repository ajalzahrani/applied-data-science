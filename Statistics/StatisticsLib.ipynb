{
 "cells": [
  {
   "cell_type": "code",
   "execution_count": 2,
   "metadata": {},
   "outputs": [],
   "source": [
    "import statistics as stat"
   ]
  },
  {
   "cell_type": "code",
   "execution_count": 6,
   "metadata": {},
   "outputs": [
    {
     "name": "stdout",
     "output_type": "stream",
     "text": [
      "mean:  13\n",
      "mode:  -64\n",
      "median:  4\n",
      "standard deviation:  57.436921923097515\n"
     ]
    }
   ],
   "source": [
    "set1 = [1, 2, 3, 4, 5, 6]\n",
    "set2 = [-64, -2, 4, 33, 94]\n",
    "\n",
    "x = set2\n",
    "\n",
    "print('mean: ', stat.mean(x))\n",
    "print('mode: ', stat.mode(x))\n",
    "print('median: ', stat.median(x))\n",
    "print('standard deviation: ', stat.stdev(x))\n"
   ]
  },
  {
   "cell_type": "code",
   "execution_count": null,
   "metadata": {},
   "outputs": [],
   "source": []
  }
 ],
 "metadata": {
  "kernelspec": {
   "display_name": "Python 3",
   "language": "python",
   "name": "python3"
  },
  "language_info": {
   "codemirror_mode": {
    "name": "ipython",
    "version": 3
   },
   "file_extension": ".py",
   "mimetype": "text/x-python",
   "name": "python",
   "nbconvert_exporter": "python",
   "pygments_lexer": "ipython3",
   "version": "3.10.12"
  }
 },
 "nbformat": 4,
 "nbformat_minor": 2
}
