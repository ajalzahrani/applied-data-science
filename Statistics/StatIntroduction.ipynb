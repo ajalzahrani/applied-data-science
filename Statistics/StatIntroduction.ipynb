{
 "cells": [
  {
   "cell_type": "markdown",
   "metadata": {},
   "source": [
    "# STATISTICS INTRODUCTION #\n",
    "Learning Objectives:\n",
    "\n",
    "- Explain the significance of statistics in data science\n",
    "- List the various Python functions used in statistics\n",
    "- Descripe the different types of probability distributions\n",
    "- Apply appropriate hypotheses tests on a dataset\n",
    "\n",
    "[مقدمة في الإحصاء](https://mawdoo3.com/%D8%B4%D8%B1%D8%AD_%D8%A7%D9%84%D8%A5%D8%AD%D8%B5%D8%A7%D8%A1)"
   ]
  },
  {
   "cell_type": "markdown",
   "metadata": {},
   "source": [
    "# Linear Algebra #\n",
    "\n",
    "Linear algebra is essential for a deep understanding of machine learning. In this course, review key concepts that can help you grasp the inner workings of machine learning. Discover how to use vectors and matrices to represent data, calculate the mean and variance of data, identify a singular value decomposition, and more. By the end of this course, you'll have a stronger grasp of the concepts that underpin machine learning.\n",
    "\n",
    "Data in linear algebra is represented by linear equations. which represented by matrices and vetors\n",
    "|- 0 0 0 -| Matrices and vectors simplify the process of representing large amount of information.\n",
    "|  0 1 0  |\n",
    "|_ 0 0 0 _|\n",
    "\n",
    "Essential parts fo linear algebra: \n",
    "\n",
    "Notation:\n",
    "A clear idea of notations simplifies the understadning of algorithms in papers and books\n",
    "\n",
    "Operations:\n",
    "When you work with vectors and matrices at an abstract level, concepts become lucid\n",
    "\n",
    "It's useful to know how to execute the following simple operations:\n",
    "- Addition\n",
    "- Multiplication\n",
    "- Inversion\n",
    "- Transpose\n",
    "\n",
    "Matrix Factroization:\n",
    "Matrix factroization is also essential for machine learning."
   ]
  },
  {
   "cell_type": "markdown",
   "metadata": {},
   "source": [
    "# Scalars and Vectors #\n",
    "\n",
    "Use magnitude todescibe measurable quantities, such as:\n",
    "- Length\n",
    "- Area\n",
    "- Volume\n",
    "\n",
    "such quantities are called scalars.\n",
    "\n",
    "We need magnitude and direction to describe velocity, force and acceleration. Such quantities are called vectors."
   ]
  },
  {
   "cell_type": "markdown",
   "metadata": {},
   "source": [
    "# Norm of a Vector #\n",
    "\n",
    "The norm of a vector is the length of the vector. It is denoted by ||x||\n",
    "The norm of a vector is the square root of its dot product with itself."
   ]
  },
  {
   "cell_type": "markdown",
   "metadata": {},
   "source": [
    "# Matrix and Matrix Operations #\n",
    "\n",
    "A matrix is a rectangular array of numbers. A matrix with m rows and n columns is called an m x n matrix.\n",
    "it is used to represent a mathematical object or a property of the object"
   ]
  },
  {
   "cell_type": "markdown",
   "metadata": {},
   "source": [
    "# Transpose of a Matrix #\n",
    "\n",
    "The transpose of a matrix is obtained by interchanging the rows and columns of a matrix. It is denoted by A^T"
   ]
  },
  {
   "cell_type": "markdown",
   "metadata": {},
   "source": [
    "# Rank of a Matrix #\n",
    "\n",
    "The rank of a matrix is the number of nonzero rows in its row echelon form. It is denoted by rank(A)"
   ]
  },
  {
   "cell_type": "markdown",
   "metadata": {},
   "source": [
    "# Determinant of a Matrix and Identity Matrix #\n",
    "\n",
    "The determinant of a matrix is a scalar value that is used to determine invertibility of a matrix. It is denoted by det(A)\n",
    "Idnetity matrix is a square matrix with 1s on the main diagonal and 0s elsewhere. It is denoted by I"
   ]
  }
 ],
 "metadata": {
  "language_info": {
   "name": "python"
  }
 },
 "nbformat": 4,
 "nbformat_minor": 2
}
