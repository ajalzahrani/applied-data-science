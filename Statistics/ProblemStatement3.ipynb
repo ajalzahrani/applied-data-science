{
 "cells": [
  {
   "cell_type": "markdown",
   "metadata": {},
   "source": [
    "# Possion Distribution #\n",
    "\n",
    "!['problemStatement](../images/poissoin-distribution-problem.png)\n",
    "\n"
   ]
  },
  {
   "cell_type": "code",
   "execution_count": 2,
   "metadata": {},
   "outputs": [],
   "source": [
    "# Scipy.stats poisson class is used along with pmf method to calculate the value of probabilities\n",
    "from scipy.stats import poisson\n",
    "import matplotlib.pyplot as plt"
   ]
  },
  {
   "cell_type": "code",
   "execution_count": 4,
   "metadata": {},
   "outputs": [],
   "source": [
    "# Randome variable representing number of resturants\n",
    "# Mean number of occurrences in 10 miles is 2\n",
    "\n",
    "X = [0, 1, 2, 3, 4, 5]\n",
    "lmbda = 2"
   ]
  },
  {
   "cell_type": "code",
   "execution_count": 5,
   "metadata": {},
   "outputs": [],
   "source": [
    "# Probability values\n",
    "poisson_pd = poisson.pmf(X, lmbda)"
   ]
  },
  {
   "cell_type": "code",
   "execution_count": 6,
   "metadata": {},
   "outputs": [
    {
     "ename": "TypeError",
     "evalue": "subplot() takes 1 or 3 positional arguments but 2 were given",
     "output_type": "error",
     "traceback": [
      "\u001b[0;31m---------------------------------------------------------------------------\u001b[0m",
      "\u001b[0;31mTypeError\u001b[0m                                 Traceback (most recent call last)",
      "\u001b[1;32m/Users/aalzahrani/Documents/GitHub/applied-data-science/Statistics/ProblemStatement3.ipynb Cell 5\u001b[0m line \u001b[0;36m3\n\u001b[1;32m      <a href='vscode-notebook-cell:/Users/aalzahrani/Documents/GitHub/applied-data-science/Statistics/ProblemStatement3.ipynb#W5sZmlsZQ%3D%3D?line=0'>1</a>\u001b[0m \u001b[39m# Plot the probability distribution\u001b[39;00m\n\u001b[0;32m----> <a href='vscode-notebook-cell:/Users/aalzahrani/Documents/GitHub/applied-data-science/Statistics/ProblemStatement3.ipynb#W5sZmlsZQ%3D%3D?line=2'>3</a>\u001b[0m fig, ax \u001b[39m=\u001b[39m plt\u001b[39m.\u001b[39;49msubplot(\u001b[39m1\u001b[39;49m, \u001b[39m1\u001b[39;49m, figsize\u001b[39m=\u001b[39;49m(\u001b[39m0\u001b[39;49m, \u001b[39m6\u001b[39;49m))\n\u001b[1;32m      <a href='vscode-notebook-cell:/Users/aalzahrani/Documents/GitHub/applied-data-science/Statistics/ProblemStatement3.ipynb#W5sZmlsZQ%3D%3D?line=3'>4</a>\u001b[0m ax\u001b[39m.\u001b[39mplot(X, poisson_pd, \u001b[39m'\u001b[39m\u001b[39mbo\u001b[39m\u001b[39m'\u001b[39m, ms\u001b[39m=\u001b[39m\u001b[39m8\u001b[39m, lable\u001b[39m=\u001b[39m\u001b[39m'\u001b[39m\u001b[39mpoisson pmf\u001b[39m\u001b[39m'\u001b[39m)\n\u001b[1;32m      <a href='vscode-notebook-cell:/Users/aalzahrani/Documents/GitHub/applied-data-science/Statistics/ProblemStatement3.ipynb#W5sZmlsZQ%3D%3D?line=4'>5</a>\u001b[0m plt\u001b[39m.\u001b[39mylabel(\u001b[39m'\u001b[39m\u001b[39mProbablity\u001b[39m\u001b[39m'\u001b[39m, fontsize\u001b[39m=\u001b[39m\u001b[39m\"\u001b[39m\u001b[39m18\u001b[39m\u001b[39m\"\u001b[39m)\n",
      "File \u001b[0;32m/usr/local/lib/python3.10/site-packages/matplotlib/pyplot.py:1425\u001b[0m, in \u001b[0;36msubplot\u001b[0;34m(*args, **kwargs)\u001b[0m\n\u001b[1;32m   1422\u001b[0m fig \u001b[39m=\u001b[39m gcf()\n\u001b[1;32m   1424\u001b[0m \u001b[39m# First, search for an existing subplot with a matching spec.\u001b[39;00m\n\u001b[0;32m-> 1425\u001b[0m key \u001b[39m=\u001b[39m SubplotSpec\u001b[39m.\u001b[39;49m_from_subplot_args(fig, args)\n\u001b[1;32m   1427\u001b[0m \u001b[39mfor\u001b[39;00m ax \u001b[39min\u001b[39;00m fig\u001b[39m.\u001b[39maxes:\n\u001b[1;32m   1428\u001b[0m     \u001b[39m# If we found an Axes at the position, we can re-use it if the user passed no\u001b[39;00m\n\u001b[1;32m   1429\u001b[0m     \u001b[39m# kwargs or if the axes class and kwargs are identical.\u001b[39;00m\n\u001b[1;32m   1430\u001b[0m     \u001b[39mif\u001b[39;00m (ax\u001b[39m.\u001b[39mget_subplotspec() \u001b[39m==\u001b[39m key\n\u001b[1;32m   1431\u001b[0m         \u001b[39mand\u001b[39;00m (kwargs \u001b[39m==\u001b[39m {}\n\u001b[1;32m   1432\u001b[0m              \u001b[39mor\u001b[39;00m (ax\u001b[39m.\u001b[39m_projection_init\n\u001b[1;32m   1433\u001b[0m                  \u001b[39m==\u001b[39m fig\u001b[39m.\u001b[39m_process_projection_requirements(\u001b[39m*\u001b[39m\u001b[39m*\u001b[39mkwargs)))):\n",
      "File \u001b[0;32m/usr/local/lib/python3.10/site-packages/matplotlib/gridspec.py:586\u001b[0m, in \u001b[0;36mSubplotSpec._from_subplot_args\u001b[0;34m(figure, args)\u001b[0m\n\u001b[1;32m    584\u001b[0m     rows, cols, num \u001b[39m=\u001b[39m args\n\u001b[1;32m    585\u001b[0m \u001b[39melse\u001b[39;00m:\n\u001b[0;32m--> 586\u001b[0m     \u001b[39mraise\u001b[39;00m _api\u001b[39m.\u001b[39mnargs_error(\u001b[39m\"\u001b[39m\u001b[39msubplot\u001b[39m\u001b[39m\"\u001b[39m, takes\u001b[39m=\u001b[39m\u001b[39m\"\u001b[39m\u001b[39m1 or 3\u001b[39m\u001b[39m\"\u001b[39m, given\u001b[39m=\u001b[39m\u001b[39mlen\u001b[39m(args))\n\u001b[1;32m    588\u001b[0m gs \u001b[39m=\u001b[39m GridSpec\u001b[39m.\u001b[39m_check_gridspec_exists(figure, rows, cols)\n\u001b[1;32m    589\u001b[0m \u001b[39mif\u001b[39;00m gs \u001b[39mis\u001b[39;00m \u001b[39mNone\u001b[39;00m:\n",
      "\u001b[0;31mTypeError\u001b[0m: subplot() takes 1 or 3 positional arguments but 2 were given"
     ]
    },
    {
     "data": {
      "text/plain": [
       "<Figure size 640x480 with 0 Axes>"
      ]
     },
     "metadata": {},
     "output_type": "display_data"
    }
   ],
   "source": [
    "# Plot the probability distribution\n",
    "\n",
    "fig, ax = plt.subplot(1, 1, figsize=(0, 6))\n",
    "ax.plot(X, poisson_pd, 'bo', ms=8, lable='poisson pmf')\n",
    "plt.ylabel('Probablity', fontsize=\"18\")\n",
    "plt.xlabel(\"X = No. of Restaurants\", fontsize=\"18\")\n",
    "plt.title(\"Poisson Distribution - No. of Resturants Vs Probability\", fontsize=\"18\")\n",
    "ax.vlines(X, 0, poisson_pd, colors='b', lw=5, alpha=0.5)"
   ]
  },
  {
   "cell_type": "code",
   "execution_count": null,
   "metadata": {},
   "outputs": [],
   "source": []
  }
 ],
 "metadata": {
  "kernelspec": {
   "display_name": "Python 3",
   "language": "python",
   "name": "python3"
  },
  "language_info": {
   "codemirror_mode": {
    "name": "ipython",
    "version": 3
   },
   "file_extension": ".py",
   "mimetype": "text/x-python",
   "name": "python",
   "nbconvert_exporter": "python",
   "pygments_lexer": "ipython3",
   "version": "3.10.12"
  }
 },
 "nbformat": 4,
 "nbformat_minor": 2
}
